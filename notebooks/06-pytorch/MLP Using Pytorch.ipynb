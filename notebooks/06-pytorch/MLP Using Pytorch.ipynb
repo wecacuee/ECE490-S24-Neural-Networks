{
 "cells": [
  {
   "cell_type": "markdown",
   "id": "98be8324",
   "metadata": {},
   "source": []
  },
  {
   "cell_type": "code",
   "execution_count": 1,
   "id": "d71bb1a3",
   "metadata": {},
   "outputs": [],
   "source": [
    "try:\n",
    "    import torch as t\n",
    "    import torch.nn as tnn\n",
    "except ImportError:\n",
    "    print(\"Colab users: pytorch comes preinstalled. Select Change Ru\")\n",
    "    print(\"Local users: Please install pytorch for your hardware using instructions from here: https://pytorch.org/get-started/locally/\")\n",
    "    print(\"ACG users: Please follow instructions here: https://vikasdhiman.info/ECE490-Neural-Networks/posts/0000-00-06-acg-slurm-jupyter/\")\n",
    "    \n",
    "    raise"
   ]
  },
  {
   "cell_type": "code",
   "execution_count": 2,
   "id": "d9cb66d9",
   "metadata": {},
   "outputs": [],
   "source": [
    "def wget(url, filename):\n",
    "    \"\"\"\n",
    "    Download files using requests package. \n",
    "    Better than wget command line because this is cross platform.\n",
    "    \"\"\"\n",
    "    try:\n",
    "        import requests\n",
    "    except ImportError:\n",
    "        import subprocess\n",
    "        subprocess.call(\"pip install requests\".split())\n",
    "        import requests\n",
    "    r = requests.get(url)\n",
    "    with open(filename, 'wb') as fd:\n",
    "        for chunk in r.iter_content():\n",
    "            fd.write(chunk)"
   ]
  },
  {
   "cell_type": "code",
   "execution_count": 3,
   "id": "dd5fea9f",
   "metadata": {},
   "outputs": [],
   "source": [
    "## Doing it the Pytorch way without using our custom feature extraction\n",
    "DEVICE='cuda:0'\n",
    "DTYPE=t.float32\n",
    "import torch\n",
    "import torch.nn\n",
    "import torch.optim\n",
    "import torchvision\n",
    "from torchvision.transforms import ToTensor\n",
    "from torch.utils.data import DataLoader\n",
    "\n",
    "torch.manual_seed(17)\n",
    "\n",
    "# Getting the dataset, the Pytorch way\n",
    "all_training_data = torchvision.datasets.MNIST(\n",
    "    root=\"data\",\n",
    "    train=True,\n",
    "    download=True,\n",
    "    transform=ToTensor()\n",
    ")\n",
    "\n",
    "test_data = torchvision.datasets.MNIST(\n",
    "    root=\"data\",\n",
    "    train=False,\n",
    "    download=True,\n",
    "    transform=ToTensor()\n",
    ")"
   ]
  },
  {
   "cell_type": "code",
   "execution_count": 4,
   "id": "4cd6790a",
   "metadata": {},
   "outputs": [],
   "source": [
    "training_data, validation_data = torch.utils.data.random_split(all_training_data, [0.9, 0.1])"
   ]
  },
  {
   "cell_type": "code",
   "execution_count": 8,
   "id": "2958611b",
   "metadata": {},
   "outputs": [
    {
     "name": "stdout",
     "output_type": "stream",
     "text": [
      "Validation Error:   64/54000]\n",
      " Accuracy: 10.9%, Avg loss: 2.325170 \n",
      "\n",
      "Validation Error: 6464/54000]\n",
      " Accuracy: 13.6%, Avg loss: 2.183869 \n",
      "\n",
      "Validation Error: 2864/54000]\n",
      " Accuracy: 34.1%, Avg loss: 2.001862 \n",
      "\n",
      "Validation Error: 9264/54000]\n",
      " Accuracy: 46.8%, Avg loss: 1.787784 \n",
      "\n",
      "Validation Error: 5664/54000]\n",
      " Accuracy: 54.8%, Avg loss: 1.580385 \n",
      "\n",
      "Validation Error: 2064/54000]\n",
      " Accuracy: 62.2%, Avg loss: 1.389772 \n",
      "\n",
      "Validation Error: 8464/54000]\n",
      " Accuracy: 68.5%, Avg loss: 1.216087 \n",
      "\n",
      "Validation Error: 4864/54000]\n",
      " Accuracy: 75.8%, Avg loss: 1.061541 \n",
      "\n",
      "Validation Error: 1264/54000]\n",
      " Accuracy: 79.9%, Avg loss: 0.935546 \n",
      "\n",
      "Validation Error:   64/54000]\n",
      " Accuracy: 80.2%, Avg loss: 0.889401 \n",
      "\n",
      "Validation Error: 6464/54000]\n",
      " Accuracy: 82.1%, Avg loss: 0.803695 \n",
      "\n",
      "Validation Error: 2864/54000]\n",
      " Accuracy: 82.9%, Avg loss: 0.736784 \n",
      "\n",
      "Validation Error: 9264/54000]\n",
      " Accuracy: 83.7%, Avg loss: 0.682686 \n",
      "\n",
      "Validation Error: 5664/54000]\n",
      " Accuracy: 84.5%, Avg loss: 0.639954 \n",
      "\n",
      "Validation Error: 2064/54000]\n",
      " Accuracy: 85.1%, Avg loss: 0.606284 \n",
      "\n",
      "Validation Error: 8464/54000]\n",
      " Accuracy: 85.5%, Avg loss: 0.577947 \n",
      "\n",
      "Validation Error: 4864/54000]\n",
      " Accuracy: 86.0%, Avg loss: 0.553612 \n",
      "\n",
      "Validation Error: 1264/54000]\n",
      " Accuracy: 86.4%, Avg loss: 0.534344 \n",
      "\n",
      "Validation Error:   64/54000]\n",
      " Accuracy: 86.7%, Avg loss: 0.527205 \n",
      "\n",
      "Validation Error: 6464/54000]\n",
      " Accuracy: 86.8%, Avg loss: 0.510988 \n",
      "\n",
      "Validation Error: 2864/54000]\n",
      " Accuracy: 87.1%, Avg loss: 0.497435 \n",
      "\n",
      "Validation Error: 9264/54000]\n",
      " Accuracy: 87.0%, Avg loss: 0.485881 \n",
      "\n",
      "Validation Error: 5664/54000]\n",
      " Accuracy: 87.4%, Avg loss: 0.474297 \n",
      "\n",
      "Validation Error: 2064/54000]\n",
      " Accuracy: 87.4%, Avg loss: 0.465911 \n",
      "\n",
      "Validation Error: 8464/54000]\n",
      " Accuracy: 87.7%, Avg loss: 0.456387 \n",
      "\n",
      "Validation Error: 4864/54000]\n",
      " Accuracy: 87.9%, Avg loss: 0.449242 \n",
      "\n",
      "Validation Error: 1264/54000]\n",
      " Accuracy: 87.9%, Avg loss: 0.442204 \n",
      "\n",
      "Validation Error:   64/54000]\n",
      " Accuracy: 88.2%, Avg loss: 0.439258 \n",
      "\n",
      "Validation Error: 6464/54000]\n",
      " Accuracy: 88.1%, Avg loss: 0.433261 \n",
      "\n",
      "Validation Error: 2864/54000]\n",
      " Accuracy: 88.0%, Avg loss: 0.428486 \n",
      "\n",
      "Validation Error: 9264/54000]\n",
      " Accuracy: 88.3%, Avg loss: 0.423615 \n",
      "\n",
      "Validation Error: 5664/54000]\n",
      " Accuracy: 88.5%, Avg loss: 0.420128 \n",
      "\n",
      "Validation Error: 2064/54000]\n",
      " Accuracy: 88.5%, Avg loss: 0.414353 \n",
      "\n",
      "Validation Error: 8464/54000]\n",
      " Accuracy: 88.4%, Avg loss: 0.409636 \n",
      "\n",
      "Validation Error: 4864/54000]\n",
      " Accuracy: 88.7%, Avg loss: 0.407865 \n",
      "\n",
      "Validation Error: 1264/54000]\n",
      " Accuracy: 88.8%, Avg loss: 0.401992 \n",
      "\n",
      "Validation Error:   64/54000]\n",
      " Accuracy: 88.9%, Avg loss: 0.401415 \n",
      "\n",
      "Validation Error: 6464/54000]\n",
      " Accuracy: 88.9%, Avg loss: 0.396768 \n",
      "\n",
      "Validation Error: 2864/54000]\n",
      " Accuracy: 88.9%, Avg loss: 0.395058 \n",
      "\n",
      "Validation Error: 9264/54000]\n",
      " Accuracy: 89.0%, Avg loss: 0.391086 \n",
      "\n",
      "Validation Error: 5664/54000]\n",
      " Accuracy: 88.9%, Avg loss: 0.388569 \n",
      "\n",
      "Validation Error: 2064/54000]\n",
      " Accuracy: 89.0%, Avg loss: 0.385012 \n",
      "\n",
      "Validation Error: 8464/54000]\n",
      " Accuracy: 89.0%, Avg loss: 0.384191 \n",
      "\n",
      "Validation Error: 4864/54000]\n",
      " Accuracy: 89.3%, Avg loss: 0.381349 \n",
      "\n",
      "Validation Error: 1264/54000]\n",
      " Accuracy: 89.3%, Avg loss: 0.378932 \n",
      "\n",
      "Test Error: \n",
      " Accuracy: 90.0%, Avg loss: 0.351287 \n",
      "\n"
     ]
    }
   ],
   "source": [
    "# Hyper parameters\n",
    "learning_rate = 1e-3 # controls how fast the \n",
    "batch_size = 64\n",
    "epochs = 5\n",
    "momentum = 0.9\n",
    "\n",
    "training_dataloader = DataLoader(training_data, shuffle=True, batch_size=batch_size)\n",
    "validation_dataloader = DataLoader(validation_data,  batch_size=batch_size)\n",
    "test_dataloader = DataLoader(test_data,  batch_size=batch_size)\n",
    "\n",
    "\n",
    "loss = torch.nn.CrossEntropyLoss()\n",
    "\n",
    "# TODO:\n",
    "# Define model = ?\n",
    "class MLPNetwork(torch.nn.Module):\n",
    "    def __init__(self, hidden_size=10, nclasses=10, input_size=28*28):\n",
    "        super().__init__()\n",
    "        self._layers = torch.nn.ModuleList([torch.nn.Flatten(),\n",
    "            tnn.Linear(input_size, hidden_size),\n",
    "            tnn.ReLU(),\n",
    "            tnn.Linear(hidden_size, nclasses)])\n",
    "    def forward(self, x):\n",
    "        for l in self._layers:\n",
    "            xnext = l(x) # call the layers in sequence\n",
    "            x = xnext\n",
    "        return x\n",
    "model = MLPNetwork()\n",
    "\n",
    "# alternatively you can also\n",
    "# hidden_size=10\n",
    "# nclasses=10\n",
    "# input_size=28*28\n",
    "# model = torch.nn.Sequential(torch.nn.Flatten(),\n",
    "#            tnn.Linear(input_size, hidden_size),\n",
    "#            tnn.ReLU(),\n",
    "#            tnn.Linear(hidden_size, nclasses))\n",
    "# \n",
    "\n",
    "# Define optimizer\n",
    "optimizer = torch.optim.SGD(model.parameters(), lr=learning_rate, momentum=momentum)\n",
    "\n",
    "def loss_and_accuracy(model, loss, validation_dataloader, device=DEVICE):\n",
    "    # Validation loop\n",
    "    validation_size = len(validation_dataloader.dataset)\n",
    "    num_batches = len(validation_dataloader)\n",
    "    test_loss, correct = 0, 0\n",
    "\n",
    "    with torch.no_grad():\n",
    "        for X, y in validation_dataloader:\n",
    "            X = X.to(device)\n",
    "            y = y.to(device)\n",
    "            pred = model(X)\n",
    "            test_loss += loss(pred, y).item()\n",
    "            correct += (pred.argmax(dim=-1) == y).type(DTYPE).sum().item()\n",
    "\n",
    "    test_loss /= num_batches\n",
    "    correct /= validation_size\n",
    "    return test_loss, correct\n",
    "    \n",
    "def train(model, loss, training_dataloader, validation_dataloader, device=DEVICE):\n",
    "    model.to(device)\n",
    "    train_losses = []\n",
    "    valid_losses = []\n",
    "    for t in range(epochs):\n",
    "        # Train loop\n",
    "        training_size = len(training_dataloader.dataset)\n",
    "        for batch, (X, y) in enumerate(training_dataloader):\n",
    "            X = X.to(device)\n",
    "            y = y.to(device)\n",
    "            # Compute prediction and loss\n",
    "            pred = model(X)\n",
    "            loss_t = loss(pred, y)\n",
    "\n",
    "            # Backpropagation\n",
    "            optimizer.zero_grad()\n",
    "            loss_t.backward()\n",
    "            optimizer.step()\n",
    "\n",
    "            if batch % 100 == 0:\n",
    "                loss_t, current = loss_t.item(), (batch + 1) * len(X)\n",
    "                print(f\"loss: {loss_t:>7f}  [{current:>5d}/{training_size:>5d}]\", end=\"\\r\")\n",
    "                train_losses.append(loss_t)\n",
    "                valid_loss, correct = loss_and_accuracy(model, loss, validation_dataloader, device=device)\n",
    "                valid_losses.append(valid_loss)\n",
    "                print(f\"Validation Error: \\n Accuracy: {(100*correct):>0.1f}%, Avg loss: {valid_loss:>8f} \\n\")\n",
    "    return model, train_losses, valid_losses\n",
    "        \n",
    "trained_model, train_losses, valid_losses = train(model, loss, training_dataloader, validation_dataloader)\n",
    "\n",
    "test_loss, correct = loss_and_accuracy(model, loss, test_dataloader)\n",
    "print(f\"Test Error: \\n Accuracy: {(100*correct):>0.1f}%, Avg loss: {test_loss:>8f} \\n\")"
   ]
  },
  {
   "cell_type": "code",
   "execution_count": 10,
   "id": "8b9aaa20-4ed3-410d-a7ea-69aabb18e903",
   "metadata": {},
   "outputs": [
    {
     "data": {
      "text/plain": [
       "<matplotlib.legend.Legend at 0x7f92d52b5900>"
      ]
     },
     "execution_count": 10,
     "metadata": {},
     "output_type": "execute_result"
    },
    {
     "data": {
      "image/png": "[encoded data removed]",
      "text/plain": [
       "<Figure size 640x480 with 1 Axes>"
      ]
     },
     "metadata": {},
     "output_type": "display_data"
    }
   ],
   "source": [
    "import matplotlib.pyplot as plt\n",
    "plt.plot(train_losses, 'r', label='train')\n",
    "plt.plot(valid_losses, 'b', label='validation')\n",
    "plt.legend()"
   ]
  },
  {
   "cell_type": "code",
   "execution_count": 11,
   "id": "f498477a-984b-476e-be45-4d58fb72c0f3",
   "metadata": {},
   "outputs": [
    {
     "data": {
      "text/plain": [
       "'/home/vdhiman/.local/share/virtualenvs/nbgrader-notebooks-_16a_jDm/lib/python3.10/site-packages/torch/nn/__init__.py'"
      ]
     },
     "execution_count": 11,
     "metadata": {},
     "output_type": "execute_result"
    }
   ],
   "source": [
    "torch.nn.__file__"
   ]
  },
  {
   "cell_type": "code",
   "execution_count": 12,
   "id": "7e5535b6",
   "metadata": {},
   "outputs": [
    {
     "data": {
      "text/plain": [
       "torch.Size([64, 1, 28, 28])"
      ]
     },
     "execution_count": 12,
     "metadata": {},
     "output_type": "execute_result"
    }
   ],
   "source": [
    "X, _ = next(iter(test_dataloader))\n",
    "X.shape"
   ]
  },
  {
   "cell_type": "code",
   "execution_count": 13,
   "id": "99748f3d",
   "metadata": {},
   "outputs": [
    {
     "data": {
      "text/plain": [
       "<matplotlib.image.AxesImage at 0x7f92d02888b0>"
      ]
     },
     "execution_count": 13,
     "metadata": {},
     "output_type": "execute_result"
    },
    {
     "data": {
      "image/png": "[encoded data removed]",
      "text/plain": [
       "<Figure size 640x480 with 1 Axes>"
      ]
     },
     "metadata": {},
     "output_type": "display_data"
    }
   ],
   "source": [
    "import matplotlib.pyplot as plt\n",
    "plt.imshow(X[0, 0])"
   ]
  },
  {
   "cell_type": "code",
   "execution_count": 14,
   "id": "da44afe9",
   "metadata": {},
   "outputs": [
    {
     "name": "stdout",
     "output_type": "stream",
     "text": [
      "The predicted image label is  7\n"
     ]
    }
   ],
   "source": [
    "print(\"The predicted image label is \", model(X.to(DEVICE)).argmax(dim=-1)[0].item())"
   ]
  },
  {
   "cell_type": "code",
   "execution_count": null,
   "id": "8117b2c9-4bdb-4559-945c-82f306ce7a9a",
   "metadata": {},
   "outputs": [],
   "source": []
  }
 ],
 "metadata": {
  "kernelspec": {
   "display_name": "Python 3 (ipykernel)",
   "language": "python",
   "name": "python3"
  },
  "language_info": {
   "codemirror_mode": {
    "name": "ipython",
    "version": 3
   },
   "file_extension": ".py",
   "mimetype": "text/x-python",
   "name": "python",
   "nbconvert_exporter": "python",
   "pygments_lexer": "ipython3",
   "version": "3.10.12"
  }
 },
 "nbformat": 4,
 "nbformat_minor": 5
}

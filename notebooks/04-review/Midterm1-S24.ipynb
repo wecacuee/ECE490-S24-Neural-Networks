{
 "cells": [
  {
   "cell_type": "markdown",
   "id": "8fbeaf7c",
   "metadata": {},
   "source": [
    "# Midterm 1 ECE 490/590 Spring 2024\n",
    "\n",
    "#### Date: Feb 29, 2024\n",
    "#### Instructor: Vikas Dhiman (vikas.dhiman@maine.edu)\n",
    "\n",
    "$$\n",
    "\\newcommand{\\calA}{{\\cal A}}\n",
    "\\newcommand{\\calB}{{\\cal B}}\n",
    "\\newcommand{\\calC}{{\\cal C}}\n",
    "\\newcommand{\\calD}{{\\cal D}}\n",
    "\\newcommand{\\calE}{{\\cal E}}\n",
    "\\newcommand{\\calF}{{\\cal F}}\n",
    "\\newcommand{\\calG}{{\\cal G}}\n",
    "\\newcommand{\\calH}{{\\cal H}}\n",
    "\\newcommand{\\calI}{{\\cal I}}\n",
    "\\newcommand{\\calJ}{{\\cal J}}\n",
    "\\newcommand{\\calK}{{\\cal K}}\n",
    "\\newcommand{\\calL}{{\\cal L}}\n",
    "\\newcommand{\\calM}{{\\cal M}}\n",
    "\\newcommand{\\calN}{{\\cal N}}\n",
    "\\newcommand{\\calO}{{\\cal O}}\n",
    "\\newcommand{\\calP}{{\\cal P}}\n",
    "\\newcommand{\\calQ}{{\\cal Q}}\n",
    "\\newcommand{\\calR}{{\\cal R}}\n",
    "\\newcommand{\\calS}{{\\cal S}}\n",
    "\\newcommand{\\calT}{{\\cal T}}\n",
    "\\newcommand{\\calU}{{\\cal U}}\n",
    "\\newcommand{\\calV}{{\\cal V}}\n",
    "\\newcommand{\\calW}{{\\cal W}}\n",
    "\\newcommand{\\calX}{{\\cal X}}\n",
    "\\newcommand{\\calY}{{\\cal Y}}\n",
    "\\newcommand{\\calZ}{{\\cal Z}}\n",
    "\\newcommand{\\setA}{\\textsf{A}}\n",
    "\\newcommand{\\setB}{\\textsf{B}}\n",
    "\\newcommand{\\setC}{\\textsf{C}}\n",
    "\\newcommand{\\setD}{\\textsf{D}}\n",
    "\\newcommand{\\setE}{\\textsf{E}}\n",
    "\\newcommand{\\setF}{\\textsf{F}}\n",
    "\\newcommand{\\setG}{\\textsf{G}}\n",
    "\\newcommand{\\setH}{\\textsf{H}}\n",
    "\\newcommand{\\setI}{\\textsf{I}}\n",
    "\\newcommand{\\setJ}{\\textsf{J}}\n",
    "\\newcommand{\\setK}{\\textsf{K}}\n",
    "\\newcommand{\\setL}{\\textsf{L}}\n",
    "\\newcommand{\\setM}{\\textsf{M}}\n",
    "\\newcommand{\\setN}{\\textsf{N}}\n",
    "\\newcommand{\\setO}{\\textsf{O}}\n",
    "\\newcommand{\\setP}{\\textsf{P}}\n",
    "\\newcommand{\\setQ}{\\textsf{Q}}\n",
    "\\newcommand{\\setR}{\\textsf{R}}\n",
    "\\newcommand{\\setS}{\\textsf{S}}\n",
    "\\newcommand{\\setT}{\\textsf{T}}\n",
    "\\newcommand{\\setU}{\\textsf{U}}\n",
    "\\newcommand{\\setV}{\\textsf{V}}\n",
    "\\newcommand{\\setW}{\\textsf{W}}\n",
    "\\newcommand{\\setX}{\\textsf{X}}\n",
    "\\newcommand{\\setY}{\\textsf{Y}}\n",
    "\\newcommand{\\setZ}{\\textsf{Z}}\n",
    "\\newcommand{\\bfa}{\\mathbf{a}}\n",
    "\\newcommand{\\bfb}{\\mathbf{b}}\n",
    "\\newcommand{\\bfc}{\\mathbf{c}}\n",
    "\\newcommand{\\bfd}{\\mathbf{d}}\n",
    "\\newcommand{\\bfe}{\\mathbf{e}}\n",
    "\\newcommand{\\bff}{\\mathbf{f}}\n",
    "\\newcommand{\\bfg}{\\mathbf{g}}\n",
    "\\newcommand{\\bfh}{\\mathbf{h}}\n",
    "\\newcommand{\\bfi}{\\mathbf{i}}\n",
    "\\newcommand{\\bfj}{\\mathbf{j}}\n",
    "\\newcommand{\\bfk}{\\mathbf{k}}\n",
    "\\newcommand{\\bfl}{\\mathbf{l}}\n",
    "\\newcommand{\\bfm}{\\mathbf{m}}\n",
    "\\newcommand{\\bfn}{\\mathbf{n}}\n",
    "\\newcommand{\\bfo}{\\mathbf{o}}\n",
    "\\newcommand{\\bfp}{\\mathbf{p}}\n",
    "\\newcommand{\\bfq}{\\mathbf{q}}\n",
    "\\newcommand{\\bfr}{\\mathbf{r}}\n",
    "\\newcommand{\\bfs}{\\mathbf{s}}\n",
    "\\newcommand{\\bft}{\\mathbf{t}}\n",
    "\\newcommand{\\bfu}{\\mathbf{u}}\n",
    "\\newcommand{\\bfv}{\\mathbf{v}}\n",
    "\\newcommand{\\bfw}{\\mathbf{w}}\n",
    "\\newcommand{\\bfx}{\\mathbf{x}}\n",
    "\\newcommand{\\bfy}{\\mathbf{y}}\n",
    "\\newcommand{\\bfz}{\\mathbf{z}}\n",
    "\\newcommand{\\bfalpha}{\\boldsymbol{\\alpha}}\n",
    "\\newcommand{\\bfbeta}{\\boldsymbol{\\beta}}\n",
    "\\newcommand{\\bfgamma}{\\boldsymbol{\\gamma}}\n",
    "\\newcommand{\\bfdelta}{\\boldsymbol{\\delta}}\n",
    "\\newcommand{\\bfepsilon}{\\boldsymbol{\\epsilon}}\n",
    "\\newcommand{\\bfzeta}{\\boldsymbol{\\zeta}}\n",
    "\\newcommand{\\bfeta}{\\boldsymbol{\\eta}}\n",
    "\\newcommand{\\bftheta}{\\boldsymbol{\\theta}}\n",
    "\\newcommand{\\bfiota}{\\boldsymbol{\\iota}}\n",
    "\\newcommand{\\bfkappa}{\\boldsymbol{\\kappa}}\n",
    "\\newcommand{\\bflambda}{\\boldsymbol{\\lambda}}\n",
    "\\newcommand{\\bfmu}{\\boldsymbol{\\mu}}\n",
    "\\newcommand{\\bfnu}{\\boldsymbol{\\nu}}\n",
    "\\newcommand{\\bfomicron}{\\boldsymbol{\\omicron}}\n",
    "\\newcommand{\\bfpi}{\\boldsymbol{\\pi}}\n",
    "\\newcommand{\\bfrho}{\\boldsymbol{\\rho}}\n",
    "\\newcommand{\\bfsigma}{\\boldsymbol{\\sigma}}\n",
    "\\newcommand{\\bftau}{\\boldsymbol{\\tau}}\n",
    "\\newcommand{\\bfupsilon}{\\boldsymbol{\\upsilon}}\n",
    "\\newcommand{\\bfphi}{\\boldsymbol{\\phi}}\n",
    "\\newcommand{\\bfchi}{\\boldsymbol{\\chi}}\n",
    "\\newcommand{\\bfpsi}{\\boldsymbol{\\psi}}\n",
    "\\newcommand{\\bfomega}{\\boldsymbol{\\omega}}\n",
    "\\newcommand{\\bfxi}{\\boldsymbol{\\xi}}\n",
    "\\newcommand{\\bfell}{\\boldsymbol{\\ell}}\n",
    "\\newcommand{\\bfA}{\\mathbf{A}}\n",
    "\\newcommand{\\bfB}{\\mathbf{B}}\n",
    "\\newcommand{\\bfC}{\\mathbf{C}}\n",
    "\\newcommand{\\bfD}{\\mathbf{D}}\n",
    "\\newcommand{\\bfE}{\\mathbf{E}}\n",
    "\\newcommand{\\bfF}{\\mathbf{F}}\n",
    "\\newcommand{\\bfG}{\\mathbf{G}}\n",
    "\\newcommand{\\bfH}{\\mathbf{H}}\n",
    "\\newcommand{\\bfI}{\\mathbf{I}}\n",
    "\\newcommand{\\bfJ}{\\mathbf{J}}\n",
    "\\newcommand{\\bfK}{\\mathbf{K}}\n",
    "\\newcommand{\\bfL}{\\mathbf{L}}\n",
    "\\newcommand{\\bfM}{\\mathbf{M}}\n",
    "\\newcommand{\\bfN}{\\mathbf{N}}\n",
    "\\newcommand{\\bfO}{\\mathbf{O}}\n",
    "\\newcommand{\\bfP}{\\mathbf{P}}\n",
    "\\newcommand{\\bfQ}{\\mathbf{Q}}\n",
    "\\newcommand{\\bfR}{\\mathbf{R}}\n",
    "\\newcommand{\\bfS}{\\mathbf{S}}\n",
    "\\newcommand{\\bfT}{\\mathbf{T}}\n",
    "\\newcommand{\\bfU}{\\mathbf{U}}\n",
    "\\newcommand{\\bfV}{\\mathbf{V}}\n",
    "\\newcommand{\\bfW}{\\mathbf{W}}\n",
    "\\newcommand{\\bfX}{\\mathbf{X}}\n",
    "\\newcommand{\\bfY}{\\mathbf{Y}}\n",
    "\\newcommand{\\bfZ}{\\mathbf{Z}}\n",
    "\\newcommand{\\bfGamma}{\\boldsymbol{\\Gamma}}\n",
    "\\newcommand{\\bfDelta}{\\boldsymbol{\\Delta}}\n",
    "\\newcommand{\\bfTheta}{\\boldsymbol{\\Theta}}\n",
    "\\newcommand{\\bfLambda}{\\boldsymbol{\\Lambda}}\n",
    "\\newcommand{\\bfPi}{\\boldsymbol{\\Pi}}\n",
    "\\newcommand{\\bfSigma}{\\boldsymbol{\\Sigma}}\n",
    "\\newcommand{\\bfUpsilon}{\\boldsymbol{\\Upsilon}}\n",
    "\\newcommand{\\bfPhi}{\\boldsymbol{\\Phi}}\n",
    "\\newcommand{\\bfPsi}{\\boldsymbol{\\Psi}}\n",
    "\\newcommand{\\bfOmega}{\\boldsymbol{\\Omega}}\n",
    "\\newcommand{\\bbA}{\\mathbb{A}}\n",
    "\\newcommand{\\bbB}{\\mathbb{B}}\n",
    "\\newcommand{\\bbC}{\\mathbb{C}}\n",
    "\\newcommand{\\bbD}{\\mathbb{D}}\n",
    "\\newcommand{\\bbE}{\\mathbb{E}}\n",
    "\\newcommand{\\bbF}{\\mathbb{F}}\n",
    "\\newcommand{\\bbG}{\\mathbb{G}}\n",
    "\\newcommand{\\bbH}{\\mathbb{H}}\n",
    "\\newcommand{\\bbI}{\\mathbb{I}}\n",
    "\\newcommand{\\bbJ}{\\mathbb{J}}\n",
    "\\newcommand{\\bbK}{\\mathbb{K}}\n",
    "\\newcommand{\\bbL}{\\mathbb{L}}\n",
    "\\newcommand{\\bbM}{\\mathbb{M}}\n",
    "\\newcommand{\\bbN}{\\mathbb{N}}\n",
    "\\newcommand{\\bbO}{\\mathbb{O}}\n",
    "\\newcommand{\\bbP}{\\mathbb{P}}\n",
    "\\newcommand{\\bbQ}{\\mathbb{Q}}\n",
    "\\newcommand{\\bbR}{\\mathbb{R}}\n",
    "\\newcommand{\\bbS}{\\mathbb{S}}\n",
    "\\newcommand{\\bbT}{\\mathbb{T}}\n",
    "\\newcommand{\\bbU}{\\mathbb{U}}\n",
    "\\newcommand{\\bbV}{\\mathbb{V}}\n",
    "\\newcommand{\\bbW}{\\mathbb{W}}\n",
    "\\newcommand{\\bbX}{\\mathbb{X}}\n",
    "\\newcommand{\\bbY}{\\mathbb{Y}}\n",
    "\\newcommand{\\bbZ}{\\mathbb{Z}}\n",
    "$$\n",
    "\n"
   ]
  },
  {
   "cell_type": "markdown",
   "id": "9a667b4e",
   "metadata": {},
   "source": [
    "1. Total marks are 75.\n",
    "2. Total time allowed is 75 min.\n",
    "3. One page cheatsheet is allowed.\n",
    "4. Calculators are allowed but not needed.\n",
    "\n",
    "<style>\n",
    "@media print {\n",
    "    .pagebreak { page-break-before: always; } /* page-break-after works, as well */\n",
    "}\n",
    "</style>\n"
   ]
  },
  {
   "cell_type": "markdown",
   "id": "3c140f69",
   "metadata": {},
   "source": [
    "#### 1. Write your name here: "
   ]
  },
  {
   "cell_type": "markdown",
   "id": "0ce16391",
   "metadata": {
    "jp-MarkdownHeadingCollapsed": true
   },
   "source": [
    "#### 2. Write your email here:"
   ]
  },
  {
   "cell_type": "markdown",
   "id": "2a9348f2-856c-4626-a1d6-30dc6aadac2d",
   "metadata": {},
   "source": [
    "#### Q1: What is the output of the following code (5 marks)"
   ]
  },
  {
   "cell_type": "code",
   "execution_count": 1,
   "id": "3816e165-faea-4873-beb8-ec636077da33",
   "metadata": {
    "scrolled": true
   },
   "outputs": [
    {
     "name": "stdout",
     "output_type": "stream",
     "text": [
      "[('Java', 14), ('Python', 3), ('JavaScript', 6)]\n"
     ]
    }
   ],
   "source": [
    "languages = ['Java', 'Python', 'JavaScript']\n",
    "versions = [14, 3, 6]\n",
    "\n",
    "result = list(zip(languages, versions))\n",
    "print(result)"
   ]
  },
  {
   "cell_type": "markdown",
   "id": "5d7ce59d-a824-43e2-9b8e-5e488f4e06f8",
   "metadata": {
    "nbgrader": {
     "grade": true,
     "grade_id": "cell-35be3fcb4c15b68c",
     "locked": false,
     "points": 5,
     "schema_version": 3,
     "solution": true,
     "task": false
    }
   },
   "source": [
    "[('Java', 14), ('Python', 3), ('JavaScript', 6)]"
   ]
  },
  {
   "cell_type": "markdown",
   "id": "e7e51744-9a84-4e56-af0d-79ac3aca0060",
   "metadata": {},
   "source": [
    "#### Q2: What is the output of the following code (5 marks)"
   ]
  },
  {
   "cell_type": "code",
   "execution_count": 2,
   "id": "04b1042c-8f8f-4850-90a1-80ce6e77fe8c",
   "metadata": {},
   "outputs": [
    {
     "name": "stdout",
     "output_type": "stream",
     "text": [
      "[0, 4, 16]\n"
     ]
    }
   ],
   "source": [
    "nums = [0, 1, 2, 3, 4, 5, 6, 7]\n",
    "even_squares = [x ** 2 for x in nums if (x % 2 == 0 and x <= 4)]\n",
    "print(even_squares)"
   ]
  },
  {
   "cell_type": "markdown",
   "id": "cf60f9a5-a669-4d66-8f57-0fe61522b347",
   "metadata": {
    "nbgrader": {
     "grade": true,
     "grade_id": "cell-793fe2baa0cf8b05",
     "locked": false,
     "points": 5,
     "schema_version": 3,
     "solution": true,
     "task": false
    }
   },
   "source": [
    "[0, 4, 16]"
   ]
  },
  {
   "cell_type": "markdown",
   "id": "6178128b-3993-4e33-a13f-a7d8b0951310",
   "metadata": {},
   "source": [
    "#### Q3:  What is the output of the following code (5 marks)"
   ]
  },
  {
   "cell_type": "code",
   "execution_count": 3,
   "id": "955dd8c9-11fa-4d81-a404-e34184ac269f",
   "metadata": {},
   "outputs": [
    {
     "name": "stdout",
     "output_type": "stream",
     "text": [
      "99\n"
     ]
    }
   ],
   "source": [
    "X = 99\n",
    "\n",
    "def f1():\n",
    "  def f2():\n",
    "      X = 88\n",
    "  f2()\n",
    "  print(X)\n",
    "\n",
    "f1()"
   ]
  },
  {
   "cell_type": "markdown",
   "id": "0b3f5bc9-d1e8-4345-b3fb-d85af843f894",
   "metadata": {
    "nbgrader": {
     "grade": true,
     "grade_id": "cell-9bc9b2ed150956fb",
     "locked": false,
     "points": 5,
     "schema_version": 3,
     "solution": true,
     "task": false
    }
   },
   "source": [
    "99"
   ]
  },
  {
   "cell_type": "markdown",
   "id": "14726d2b-6901-442f-9c28-bfcbf64bf8ea",
   "metadata": {},
   "source": [
    "#### Q4: What is the output of the following code (5 marks)"
   ]
  },
  {
   "cell_type": "code",
   "execution_count": 4,
   "id": "933d332e-2512-4fb3-87a3-de554c06eecf",
   "metadata": {},
   "outputs": [
    {
     "name": "stdout",
     "output_type": "stream",
     "text": [
      "1\n",
      "4\n"
     ]
    }
   ],
   "source": [
    "class MyNumbers:\n",
    "  def __iter__(self):\n",
    "    self.a = 1\n",
    "    return self\n",
    "\n",
    "  def __next__(self):\n",
    "    if self.a <= 5:\n",
    "      x = self.a\n",
    "      self.a += 3\n",
    "      return x\n",
    "    else:\n",
    "      raise StopIteration\n",
    "\n",
    "myclass = MyNumbers()\n",
    "myiter = iter(myclass)\n",
    "\n",
    "for x in myiter:\n",
    "  print(x)"
   ]
  },
  {
   "cell_type": "markdown",
   "id": "0882f498-dc33-4591-a206-75307a83eed6",
   "metadata": {
    "nbgrader": {
     "grade": true,
     "grade_id": "cell-c23d2bc12d6c5a7e",
     "locked": false,
     "points": 5,
     "schema_version": 3,
     "solution": true,
     "task": false
    }
   },
   "source": [
    "1<br/>\n",
    "4<br/>"
   ]
  },
  {
   "cell_type": "markdown",
   "id": "3d91b74c-8b06-4e0b-8564-5bab6639c9c4",
   "metadata": {},
   "source": [
    "#### Q5: What is the output of the following code and why (5 marks)"
   ]
  },
  {
   "cell_type": "code",
   "execution_count": 5,
   "id": "66eb5be3-492a-44e4-94f4-ae14288ca886",
   "metadata": {},
   "outputs": [
    {
     "name": "stdout",
     "output_type": "stream",
     "text": [
      "[27 25]\n"
     ]
    }
   ],
   "source": [
    "import numpy as np\n",
    "A = np.array([[2, 3], \n",
    "              [3, 5] \n",
    "               ])\n",
    "B = np.array([[3, 5], \n",
    "              [7, 2] \n",
    "              ])\n",
    "print((A * B).sum(axis=0))"
   ]
  },
  {
   "cell_type": "markdown",
   "id": "9eda7585-c5dc-44a7-9da3-0dac61ecac9a",
   "metadata": {
    "nbgrader": {
     "grade": true,
     "grade_id": "cell-970d947eddd87325",
     "locked": false,
     "points": 5,
     "schema_version": 3,
     "solution": true,
     "task": false
    }
   },
   "source": [
    "`[27, 25]`\n",
    "\n",
    "Because $[27, 25] = [2\\times 3+3\\times 7, 3\\times 5+5\\times 2]$"
   ]
  },
  {
   "cell_type": "markdown",
   "id": "bc18e7e4-e275-4a59-97cd-3b09a6df60ca",
   "metadata": {},
   "source": [
    "#### Q6: What is the output of the following code and why (5 marks)"
   ]
  },
  {
   "cell_type": "code",
   "execution_count": 6,
   "id": "f0bfd747-e38c-414c-86ff-58d9479949b5",
   "metadata": {},
   "outputs": [
    {
     "data": {
      "text/plain": [
       "array([[2, 4, 7],\n",
       "       [0, 2, 5],\n",
       "       [1, 3, 6]])"
      ]
     },
     "execution_count": 6,
     "metadata": {},
     "output_type": "execute_result"
    }
   ],
   "source": [
    "import numpy as np\n",
    "row_vector = np.array([1, 3, 6]) # .shape - (3,)\n",
    "column_vector = np.array([[1],\n",
    "                          [-1], \n",
    "                          [0]])  # .shape = (3,1)\n",
    "\n",
    "row_vector + column_vector"
   ]
  },
  {
   "cell_type": "markdown",
   "id": "2f1d8531-cf3d-439d-8f0c-84a78c01bb98",
   "metadata": {
    "nbgrader": {
     "grade": true,
     "grade_id": "cell-1cc0e7725b3a8c8f",
     "locked": false,
     "points": 5,
     "schema_version": 3,
     "solution": true,
     "task": false
    }
   },
   "source": [
    "```\n",
    "  [[2, 4, 7],\n",
    "  [0, 2, 5],\n",
    "  [1, 3, 6]]\n",
    "```\n",
    "Because broadcasting"
   ]
  },
  {
   "cell_type": "markdown",
   "id": "d9bf01ee-90c5-4376-869c-a529b973b5d6",
   "metadata": {},
   "source": [
    "#### Q7: Convert the following scalar equation into vector form (20 marks)\n",
    "$\\newcommand{\\bfz}{\\mathbf{z}}$\n",
    "$\\newcommand{\\bfm}{\\mathbf{m}}$\n",
    "$\\newcommand{\\bfx}{\\mathbf{x}}$\n",
    "$\\newcommand{\\bfy}{\\mathbf{y}}$\n",
    "\n",
    "\\begin{multline*} \n",
    "e(a, b, c) = (z_1 - (x_1 a + y_1 b + c))^2 + (z_2 - (x_2 a + y_2 b + c))^2 + \\dots \\\\\n",
    "+ (z_n - (x_n a + y_n b + c))^2\n",
    "\\end{multline*}\n",
    "\n",
    "Your end result should contain \n",
    "$$\\bfm = \\begin{bmatrix}a\\\\ b\\\\ c\\end{bmatrix},\n",
    "\\qquad \\bfz = \\begin{bmatrix}z_1\\\\ z_2\\\\ \\vdots\\\\ z_n\\end{bmatrix}, \n",
    "\\qquad \\bfy = \\begin{bmatrix}y_1\\\\ y_2\\\\ \\vdots\\\\ y_n\\end{bmatrix},\n",
    "\\qquad \\bfx = \\begin{bmatrix}x_1\\\\ x_2\\\\ \\vdots\\\\ x_n\\end{bmatrix}$$. \n",
    "\n",
    "You can define other vectors and matrices as needed, included a vector of all ones like $\\mathbb{1}_n$.\n"
   ]
  },
  {
   "cell_type": "markdown",
   "id": "78c60f35-a788-4a68-a9d1-77f26dc771a9",
   "metadata": {
    "nbgrader": {
     "grade": true,
     "grade_id": "cell-0124202524621810",
     "locked": false,
     "points": 10,
     "schema_version": 3,
     "solution": true,
     "task": false
    }
   },
   "source": [
    "#### A7\n",
    "$\\newcommand{\\bfv}{\\mathbf{v}}$\n",
    "$\\newcommand{\\bfe}{\\mathbf{e}}$\n",
    "$\\newcommand{\\bfX}{\\mathbf{X}}$\n",
    "$\\newcommand{\\bbR}{\\mathbb{R}}$\n",
    "\n",
    "Recall that the magnitude of a vector $\\bfv$ is $\\sqrt{v_1^2 + v_2^2 + \\dots + v_n^n}$ has a similar form to the error function. This suggests that we can define an error vector with the signed error for each data point as it's elements\n",
    "\n",
    "$$ \\bfe = \\begin{bmatrix}z_1 - (ax_1 + by_1 + c)\\\\ z_2 - (a x_2 + b y_2 + c)\\\\ \\vdots \\\\ z_n - (ax_n + b y_n + c)\\end{bmatrix}$$\n",
    "\n",
    "The total error is same as minimizing the square of error vector magnitude which is further same as vector product with itself.\n",
    "\n",
    "$$  e(m, c, (x_1, y_1, z_1), (x_2, y_2, z_2), \\dots, (x_n, y_n, z_n)) = \\|\\bfe\\|^2 = \\bfe^\\top \\bfe$$\n",
    "\n",
    "Let us define $\\bfx = [x_1; \\dots; x_n]$ to denote the vector of all x coordinates of the dataset and $\\bfy = [y_1; \\dots; y_n]$ to denote y coordinates. Then the error vector is:\n",
    "$$ \\bfe = \\bfz - (\\bfx a + \\bfy b +  \\mathbf{1}_n c)$$ \n",
    "\n",
    "where $\\mathbf{1}_n$ is a n-D vector of all ones. Finally, we vectorize parameters of the line $\\bfm = [a; b; c]$. We will also need to horizontally concatenate $\\bfx$ and $\\mathbf{1}_n$. Let's call the result $\\bfX = [\\bfx, \\bfy, \\mathbf{1}_n] \\in \\bbR^{n \\times 3}$. Now, the error vector looks like this:\n",
    "\n",
    "$$ \\bfe = \\bfy - \\bfX \\bfm$$ \n",
    "\n",
    "Expanding the error magnitude:\n",
    "\n",
    "$$ \\|\\bfe\\|^2 = (\\bfy - \\bfX \\bfm)^\\top (\\bfy - \\bfX \\bfm)\n",
    "\\\\\n",
    "= \\bfy^\\top\\bfy + \\bfm^\\top \\bfX^\\top \\bfX \\bfm - 2\\bfy^\\top \\bfX \\bfm \n",
    "$$\n"
   ]
  },
  {
   "cell_type": "markdown",
   "id": "12ec2f91-34f5-4031-977e-02949270c9cd",
   "metadata": {},
   "source": [
    "<div class=\"pagebreak\"> </div>\n",
    "&nbsp;\n",
    "<div class=\"pagebreak\"> </div>\n",
    "\n",
    "#### Q8: Minimize the following function using vector derivatives (10 marks)\n",
    "\n",
    "$\\newcommand{\\bfX}{\\mathbf{X}}$\n",
    "$\\newcommand{\\bfy}{\\mathbf{y}}$\n",
    "$\\newcommand{\\bbfX}{\\bar{\\bfX}}$\n",
    "$\\newcommand{\\bfq}{\\mathbf{q}}$\n",
    "$\\newcommand{\\bbR}{\\mathbb{R}}$\n",
    "\n",
    "$\\newcommand{\\bfX}{\\mathbf{X}}$\n",
    "$\\newcommand{\\bfy}{\\mathbf{y}}$\n",
    "$\\newcommand{\\bbfX}{\\bar{\\bfX}}$\n",
    "$\\newcommand{\\bfq}{\\mathbf{q}}$\n",
    "$\\newcommand{\\bbR}{\\mathbb{R}}$\n",
    "\n",
    "$$  e(\\bfq) =  (\\bfy - \\bfX \\bfq + \\bfq)^\\top (\\bfy - \\bfX \\bfq) $$\n",
    "\n",
    "Find the minimum point of the function $e(\\bfq)$.\n",
    "\n",
    "Assume $\\bfy \\in \\bbR^n$ and $\\bfq \\in \\bbR^{n}$ are independent vectors and $\\bfX \\in \\bbR^{n \\times n} $ is a square matrix independent of $\\bfq$. You can assume that $2\\bfX^\\top \\bfX - \\bfX^\\top - \\bfX$ is invertible and positive definite.\n"
   ]
  },
  {
   "cell_type": "markdown",
   "id": "5e909ae8-0fb3-432c-8f75-0ac1566833d1",
   "metadata": {
    "nbgrader": {
     "grade": true,
     "grade_id": "cell-5aa4f9a17d38f5fb",
     "locked": false,
     "points": 20,
     "schema_version": 3,
     "solution": true,
     "task": false
    }
   },
   "source": [
    "#### A8\n",
    "\n",
    "$$ e(\\bfq) =  (\\bfy - \\bfX \\bfq + \\bfq)^\\top (\\bfy - \\bfX \\bfq) $$\n",
    "$$ e(\\bfq) =  \\bfy^\\top\\bfy -  \\bfq^\\top \\bfX^\\top\\bfy + \\bfq^\\top \\bfy - \\bfy^\\top \\bfX \\bfq +  \\bfq^\\top \\bfX^\\top\\bfX \\bfq - \\bfq^\\top \\bfX \\bfq $$\n",
    "At the minimum point,\n",
    "$$\\frac{\\partial e(\\bfq) }{\\partial \\bfq} =  \\mathbf{0}^\\top $$\n",
    "\n",
    "$$\\implies   \\mathbf{0}^\\top -  \\bfy^\\top\\bfX + \\bfy^\\top - \\bfy^\\top \\bfX +  2\\bfq^\\top \\bfX^\\top\\bfX  -  \\bfq^\\top (\\bfX^\\top + \\bfX) =  \\mathbf{0}^\\top $$\n",
    "$$\\implies (\\bfy^\\top - 2\\bfy^\\top \\bfX) + \\bfq^\\top (2\\bfX^\\top\\bfX - \\bfX - \\bfX^\\top) =  \\mathbf{0}^\\top $$\n",
    "$$\\implies (\\bfy - 2\\bfX^\\top \\bfy ) +  (2\\bfX^\\top\\bfX - \\bfX^\\top - \\bfX)\\bfq =  \\mathbf{0} $$\n",
    "$$\\implies  \\bfq =  (2\\bfX^\\top\\bfX - \\bfX^\\top - \\bfX)^{-1} (2\\bfX^\\top \\bfy - \\bfy )  $$\n",
    "\n"
   ]
  },
  {
   "cell_type": "markdown",
   "id": "19efa6b6-f51c-403f-8ef2-dcd3f2d5af17",
   "metadata": {},
   "source": [
    "<div class=\"pagebreak\"> </div>\n",
    "&nbsp;\n",
    "<div class=\"pagebreak\"> </div>\n",
    "\n",
    "#### Q9 Find the derivative (10 marks)\n",
    "$\\newcommand{\\calD}{\\mathcal{D}}$\n",
    "Let the dataset $\\calD = \\{(\\bfx_1, y_1), \\dots, (\\bfx_n, y_n)\\}$, where $\\bfx_i \\in \\bbR^d$ is the feature vector and $y_i \\in \\{-1, +1\\}$ is the binary class label.\n",
    "\n",
    "\n",
    "We encode the perceptron prediction model as\n",
    "$$ \\hat{y}_i = f(\\bfx_i; \\bfw) = \\bfw^\\top \\begin{bmatrix} \\bfx_i \\\\ 1\\end{bmatrix}, $$\n",
    "where $\\bfw \\in \\bbR^{d+1}$.\n",
    "\n",
    "We say that the prediction is of class $-1$, if $\\hat{y}_i < 0$ and $+1$ if $\\hat{y}_i > 0$.\n",
    "\n",
    "\n",
    "The Hinge loss function is defined as\n",
    "$$ l(y_i, \\hat{y}_i; \\bfw) = \\begin{cases}\n",
    "0 &\\text{ if } y_i \\hat{y}_i > 0 \\\\\n",
    "-y_i \\bfw^\\top \\begin{bmatrix}\\bfx_i \\\\ 1\\end{bmatrix} & \\text{ if } y_i \\hat{y}_i \\le 0\n",
    "\\end{cases}$$\n",
    "\n",
    "The total loss over the entire dataset is defined as \n",
    "$$ L(\\calD, \\bfw) = \\frac{1}{n} \\sum_{(x_i, y_i) \\in \\calD} l(y_i, \\hat{y}_i; \\bfw) = \\frac{1}{n} \\sum_{(x_i, y_i) \\in \\calD}  \\begin{cases}\n",
    "0 &\\text{ if } y_i \\hat{y}_i > 0 \\\\\n",
    "-y_i \\bfw^\\top \\begin{bmatrix}\\bfx_i \\\\ 1\\end{bmatrix} & \\text{ if } y_i \\hat{y}_i \\le 0\n",
    "\\end{cases}$$\n",
    "\n",
    "Find the derivative (gradient) of the function $L(\\calD, \\bfw)$ with respect to $\\bfw$"
   ]
  },
  {
   "cell_type": "markdown",
   "id": "fc457263-2eb8-48a1-a67f-ac6ac7f3b6ac",
   "metadata": {
    "nbgrader": {
     "grade": true,
     "grade_id": "cell-ebe14106e98d1acb",
     "locked": false,
     "points": 10,
     "schema_version": 3,
     "solution": true,
     "task": false
    }
   },
   "source": [
    "#### A9\n",
    "$$ \\nabla_\\bfw L(\\calD, \\bfw) = \\nabla_\\bfw \\frac{1}{n}\\sum_{(\\bfx_i, y_i) \\in \\calD} l(y_i, \\hat{y}_i; \\bfw) = \\frac{1}{n}\\sum_{(\\bfx_i, y_i) \\in \\calD} \\nabla_\\bfw  l(y_i, \\hat{y}_i; \\bfw)\n",
    "$$\n",
    "$$\n",
    "\\nabla_\\bfw L(\\calD, \\bfw)= \\frac{1}{n}\\sum_{(\\bfx_i, y_i) \\in \\calD}\\begin{cases}\n",
    "0 &\\text{ if } y_i \\hat{y}_i > 0 \\\\\n",
    " -y_i \\begin{bmatrix}\\bfx_i \\\\ 1\\end{bmatrix} & \\text{ if } y_i \\hat{y}_i \\le 0\n",
    "\\end{cases}$$"
   ]
  },
  {
   "cell_type": "markdown",
   "id": "85d118de-0e43-486f-b4a3-9245cfb3000e",
   "metadata": {},
   "source": [
    "<div class=\"pagebreak\"> </div>\n",
    "&nbsp;\n",
    "<div class=\"pagebreak\"> </div>\n",
    "\n",
    "#### Q10: Relationship between Hessian matrix and minimum; maximum and saddle points (5 marks)\n",
    "\n",
    "Suppose you found an extreme point $\\bfx^*$ of a function $f(\\bfx)$, where the gradient is zero \n",
    "$$\\nabla_\\bfx f(\\bfx)\\vert_{\\bfx^*} = \\mathbf{0}$$\n",
    "\n",
    "You are given the Hessian matrix $\\calH f(\\bfx) \\vert_{\\bfx^*}$ at the extreme point. How would you find out if the extrement point $\\bfx^*$ is a minimum, maximum or a saddle point?"
   ]
  },
  {
   "cell_type": "markdown",
   "id": "bb5eb0f2-04ab-4008-a893-4dacdee57631",
   "metadata": {
    "nbgrader": {
     "grade": true,
     "grade_id": "cell-70fbf4feaeaa0dd1",
     "locked": false,
     "points": 5,
     "schema_version": 3,
     "solution": true,
     "task": false
    }
   },
   "source": [
    "A10: \n",
    "\n",
    "1. If all the eigen values of the Hessian matrix are positive, then $\\bfx^*$ is a miniumum.\n",
    "2. If all the eigen values of the Hessian matrix are negative, then $\\bfx^*$ is a maximum.\n",
    "3. If some of the the eigen values of the Hessian matrix are positive and others are negative, then $\\bfx^*$ is a saddle point."
   ]
  }
 ],
 "metadata": {
  "kernelspec": {
   "display_name": "Python 3 (ipykernel)",
   "language": "python",
   "name": "python3"
  },
  "language_info": {
   "codemirror_mode": {
    "name": "ipython",
    "version": 3
   },
   "file_extension": ".py",
   "mimetype": "text/x-python",
   "name": "python",
   "nbconvert_exporter": "python",
   "pygments_lexer": "ipython3",
   "version": "3.10.12"
  }
 },
 "nbformat": 4,
 "nbformat_minor": 5
}

{
 "cells": [
  {
   "cell_type": "markdown",
   "id": "3161cd0b-acbc-4782-8339-d223d976a779",
   "metadata": {},
   "source": [
    "# Final exam review"
   ]
  },
  {
   "cell_type": "markdown",
   "id": "678d0c6d-449b-4c8e-9309-b347db5532bf",
   "metadata": {},
   "source": [
    "What did we learn in this course?\n",
    "\n",
    "1. Python basics:\n",
    "   - [Python_1.ipynb](../01-py-intro/Python_1.ipynb)\n",
    "   - [Python_2.ipynb](../01-py-intro/Python_2.ipynb) \n",
    "3. Numpy basics:\n",
    "   - [NumpyTutorial.ipynb](../06-pytorch/NumpyTutorial.ipynb)\n",
    "5. Linear Regression by vector derivatives:\n",
    "   - [LinearModels.ipynb](../02-linear-models/LinearModels.ipynb),\n",
    "   - [PlaneFitProblem](../02-linear-models/PlaneFitProblem.ipynb),\n",
    "   - [Hessians](../02-linear-models/Hessians.ipynb),\n",
    "   - [Practice Problems for Midterm 1](<../04-review/Practice Problems 20240222.ipynb>), \n",
    "6. Optimization by Gradient descent:\n",
    "   - [ContinuousOptimization.ipynb](../02-linear-models/ContinuousOptimization.ipynb)\n",
    "7. 1-Layer Neural Network: [Perceptron3.ipynb](../02-linear-models/Perceptron3.ipynb)\n",
    "\n",
    "8. Pre-midterm review: [Practice Problems](<../04-review/Practice Problems 20240222.ipynb>)"
   ]
  },
  {
   "cell_type": "markdown",
   "id": "13ab81b0-d051-41bd-aa74-4737e418dbed",
   "metadata": {},
   "source": [
    "## Decision Theory:\n",
    "   - Lecture notes: [decision-theory.pdf](../021-decision-theory/2024-03-05-decision-theory.pdf). Additional resources:\n",
    "   - [Chapter 2 of MLStory book](https://mlstory.org/prediction.html)"
   ]
  },
  {
   "cell_type": "markdown",
   "id": "cc61726c-c7aa-40df-9667-26d03148dcd3",
   "metadata": {},
   "source": [
    "### Bayes Rule\n",
    "##### Question: \n",
    "Given two random variables $X$ and $Y$ specify the relationship between $P(X|Y)$ and $P(Y|X)$ using Bayes rule?"
   ]
  },
  {
   "cell_type": "markdown",
   "id": "d2685fe4-4a5f-4cda-b4eb-e723af6cd3aa",
   "metadata": {},
   "source": [
    "##### Answer\n",
    "\n",
    "$$ P(Y|X) = \\frac{P(X|Y)P(Y)}{P(X)}$$"
   ]
  },
  {
   "cell_type": "markdown",
   "id": "b4cf46e4-aaf3-4792-9eb5-0805405e9be8",
   "metadata": {},
   "source": [
    "$\\newcommand{\\calD}{\\mathcal{D}}$\n",
    "$\\newcommand{\\bfW}{\\mathbf{W}}$\n",
    "\n",
    "##### Question:\n",
    "Using CIFAR 10 dataset $\\calD$ you want to find your neural network with weights $\\bfW$. Define Prior, Likelihood and Posterior in terms of the weights $\\bfW$ and data $\\calD$. Write Bayes rule to determin posterior from likehood and prior."
   ]
  },
  {
   "cell_type": "markdown",
   "id": "33ebe447-046d-4e1f-8905-b9ba1c2ddf94",
   "metadata": {},
   "source": [
    "##### Answer: \n",
    "\n",
    "- Prior is $P(\\bfW)$ i.e. the probability of weights $\\bfW$ before we have seen the dataset.\n",
    "- Likelihood is $P(\\calD|\\bfW)$ i.e. the probability of observing the dataset once if we pick a particular choice of weighs $\\bfW$.\n",
    "- Posterior is $P(\\bfW|\\calD)$ i.e the probability of chosing weights given the dataset $\\calD$.\n",
    "\n",
    "By Bayes rule, we have:\n",
    "\n",
    "$$ P(\\bfW|\\calD) = \\frac{P(\\calD|\\bfW)P(\\bfW)}{P(\\calD)}$$"
   ]
  },
  {
   "cell_type": "markdown",
   "id": "4c159ffb-99fb-4d55-8337-877e60216d04",
   "metadata": {},
   "source": [
    "#### How can regularization can be interpretted as an application of the Bayes theorem?"
   ]
  },
  {
   "cell_type": "markdown",
   "id": "719c7202-8d4f-4347-bd8b-28fe2dee8902",
   "metadata": {},
   "source": [
    "$\\newcommand{\\bfx}{\\mathbf{x}}$\n",
    "Given the dataset $\\calD = \\{ (\\bfx_1, y_1), \\dots, (\\bfx_n, y_n) \\}$, a model $\\hat{y}_i = f(\\bfx_i; \\theta)$, a regularizer $R(\\theta)$ and a loss function $l(y_i, \\hat{y}_i)$, show that the following optimization problem can be interpreted as maximum-a-posteriori estimation. In the process show that for the interpretation, we need the IID (independently, identically distributed) assumption over the dataset. List any other assumptions that you need for the interpretation.\n",
    "\n",
    "$$ \\theta^* = \\arg~\\min_\\theta \\sum_{i=1}^n l(y_i, f(\\bfx_i; \\theta)) + \\lambda R(\\theta),$$\n",
    "\n",
    "where $\\lambda$ is some positive constant that balances between the loss function and the regularizer."
   ]
  },
  {
   "cell_type": "markdown",
   "id": "e5257b19-850d-49a0-835d-71299468aa8f",
   "metadata": {},
   "source": [
    "#### A24:\n",
    "\n",
    "Let the $\\bfx_i$ and $y_i$ be random vectors for all $i$. Model the probability distribution as a negative log of the loss function:\n",
    "\n",
    "$$ P((\\bfx_i, y_i)| \\theta) = \\frac{1}{Z} \\exp(-l(y_i, f(\\bfx_i; \\theta)).$$\n",
    "\n",
    "If the samples are IID, then we can write the probability of the entire dataset as products of sample probabilities\n",
    "\n",
    "$$ P(\\calD|\\theta) = \\prod_{i=1}^n P((\\bfx_i, y_i)| \\theta) $$\n",
    "\n",
    "$$ P(\\calD|\\theta) = \\prod_{i=1}^n \\frac{1}{Z} \\exp(-l(y_i, f(\\bfx_i; \\theta)).$$\n",
    "\n",
    "A product of exponents is the summation of their powers,\n",
    "\n",
    "$$ P(\\calD|\\theta) = \\frac{1}{Z} \\exp(-\\sum_{i=1}^n l(y_i, f(\\bfx_i; \\theta)).$$\n",
    "\n",
    "Denote $$ L(\\calD; \\theta) = \\sum_{i=1}^n l(y_i, f(\\bfx_i; \\theta).$$\n",
    "\n",
    "The original optimization problem can be written as:\n",
    "$$ \\theta^* = \\arg~\\min_\\theta L(\\calD; \\theta) + \\lambda R(\\theta)$$\n",
    "\n",
    "Taking negative exponent on both sides turns the problem into a maximization problem because $\\exp(-y)$ is a monotonically decreasing function.\n",
    "$$ \\theta^* = \\arg~\\max_\\theta \\exp(-L(\\calD; \\theta))\\exp(-\\lambda R(\\theta))$$\n",
    "\n",
    "The first term is the same as maximizing the likelihood $P(\\calD|\\theta)$. If we interpret the second term as a prior:\n",
    "$$ P(\\theta) = \\frac{1}{Z'} \\exp(-\\lambda R(\\theta)),$$\n",
    "\n",
    "then we can rewrite the original optimization problem as\n",
    "\n",
    "$$ \\theta^* = \\arg~\\max_\\theta P(\\calD|\\theta) P(\\theta) $$\n",
    "\n",
    "By Bayes theorem $P(\\calD|\\theta) P(\\theta) = P(\\theta|\\calD)P(\\calD)$, hence we can write the optimization problem as maximizing the posterior\n",
    "\n",
    "$$ \\theta^* = \\arg~\\max_\\theta P(\\theta|\\calD) P(\\calD).$$\n",
    "\n",
    "We can ignore the evidence term $P(\\calD)$, because it is independent of $\\theta$ the optimization variable. The original problem reduces to maximizing the posterior, hence maximum a posteriori:\n",
    "\n",
    "$$ \\theta^* = \\arg~\\max_\\theta P(\\theta|\\calD)$$"
   ]
  },
  {
   "cell_type": "markdown",
   "id": "87fd1b4b-dc7d-4a2a-a49b-89362f2ac216",
   "metadata": {},
   "source": [
    "##### Question:\n",
    "You are doing 0-1 binary classification on the MNIST hand digit classification task. Let detecting the digit 1 be considered the positive class. Using this example, define the terms False negative, False positive, Accuracy, Precision, recall, F1-score.\n",
    "\n",
    "##### Answer:\n",
    "- False negative: is the case when the predictor classifies the digit as negative i.e. 0 but it is actually 1.\n",
    "- False positive: is the case when the predictor classifies the digit as positive i.e. 1 but it is actually 0.\n",
    "- Accuracy: Total correct classifictions/Total samples .\n",
    "- Precision: True positives / Predicted positives.\n",
    "- Recall: True positives / All actual positives."
   ]
  },
  {
   "attachments": {
    "0b6ea0b4-2e91-4227-865d-239c87f3a094.png": {
     "image/png": "[encoded data removed]"
    }
   },
   "cell_type": "markdown",
   "id": "e3229c1e-00f4-4c49-b989-1047864d5b9e",
   "metadata": {},
   "source": [
    "##### Question:\n",
    "What is a ROC (Receiver Operating characteristics) for a binary classifier? Argue why it lies above the diagonal for any reasonable classifier? Also, argue why it must be concave?\n",
    "\n",
    "##### Answer:\n",
    "![image.png](attachment:0b6ea0b4-2e91-4227-865d-239c87f3a094.png)\n",
    "\n",
    "ROC curve is plot between False positive rate (FPR) $P(\\hat{Y}(X) = 1| Y=0)$ and True positive rate (TPR) $P(\\hat{Y}(X) = 1| Y = 1)$. \n",
    "\n",
    "ROC curve is always lies above the diagonal because you can construct a trivial classifier that predicts the positive class with probability $\\alpha \\in (0, 1)$, i.e. $P(\\hat{Y} = 1) = \\alpha$ without even looking at the input data $X$. This trivial classifier will form the diagonal of the ROC curve with both FPR and TPR being equal to $\\alpha$. Any classifier that works better than this trivial classifier will lie above the diagonal.\n",
    "\n",
    "Suppose you are given a classifier whose  True positive rate (TPR) is $P(\\hat{Y}(X; x_1) = 1| Y = 1) = f(x_1)$ at given FPR $P(\\hat{Y}(X) = 1| Y=0) = x_1$ . Similarly at $FPR = x_2$, it's $TPR = f(x_2)$. If you mix these classifier with $\\alpha \\in (0, 1)$ and $1-\\alpha$, then you have $FPR =\\alpha  x_1 + (1-\\alpha)  x_2$. and $TPR  = \\alpha * f(x_1) + (1-\\alpha) * f(x_2)$. If you get a better TPR than this mixture classifier, the ROC curve will be concave $TPR*(\\alpha  x_1 + (1-\\alpha) x_2) > \\alpha * TPR(x_1) + (1-\\alpha)  TPR(x_2)$.\n",
    "\n"
   ]
  },
  {
   "cell_type": "markdown",
   "id": "cc5ac90c-f66f-4937-b008-3cf2161cb18f",
   "metadata": {},
   "source": [
    "##### Question:\n",
    "What is the diference between Empirical risk and Expected risk?\n",
    "\n",
    "##### Question:\n",
    "What is the likelihood ratio test for a binary classifier? Is it better or worse than Posterior ratio test?"
   ]
  },
  {
   "cell_type": "markdown",
   "id": "f652522d-68c1-4b0a-b8aa-24c71f29e675",
   "metadata": {},
   "source": [
    "10. Multi-layer Perceptrons (MLPs): [MLP Using Pytorch.ipynb](<../06-pytorch/MLP\\ Using\\ Pytorch.ipynb>)\n",
    "    - Count the number of trainable weights in a two layer MLP with 3x32x32 size input vector, 10 hidden units and 10 output units.\n",
    "      "
   ]
  },
  {
   "cell_type": "markdown",
   "id": "1751a36c-962f-4b86-8e0a-eb32f490e66e",
   "metadata": {},
   "source": [
    "12. Automatic Differentiation:\n",
    "    - [Autograd.ipynb](../03-autograd/Autograd.ipynb)\n",
    "    - [AutogradNumpy.ipynb](../03-autograd/AutogradNumpy.ipynb)\n",
    "    - [microtorch_mlp.ipynb](../04-mlp/microtorch_mlp.ipynb)"
   ]
  }
 ],
 "metadata": {
  "kernelspec": {
   "display_name": "Python 3 (ipykernel)",
   "language": "python",
   "name": "python3"
  },
  "language_info": {
   "codemirror_mode": {
    "name": "ipython",
    "version": 3
   },
   "file_extension": ".py",
   "mimetype": "text/x-python",
   "name": "python",
   "nbconvert_exporter": "python",
   "pygments_lexer": "ipython3",
   "version": "3.10.12"
  }
 },
 "nbformat": 4,
 "nbformat_minor": 5
}

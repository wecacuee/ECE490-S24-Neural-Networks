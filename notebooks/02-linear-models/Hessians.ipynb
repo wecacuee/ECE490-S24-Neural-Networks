{
 "cells": [
  {
   "cell_type": "markdown",
   "id": "cd2d3c4a",
   "metadata": {},
   "source": [
    "Before you turn this problem in, make sure everything runs as expected. First, **restart the kernel** (in the menubar, select Kernel$\\rightarrow$Restart) and then **run all cells** (in the menubar, select Cell$\\rightarrow$Run All).\n",
    "\n",
    "Make sure you fill in any place that says `YOUR CODE HERE` or \"YOUR ANSWER HERE\", as well as your name and collaborators below:"
   ]
  },
  {
   "cell_type": "code",
   "execution_count": null,
   "id": "8b49461a",
   "metadata": {},
   "outputs": [],
   "source": [
    "NAME = \"\"\n",
    "COLLABORATORS = \"\""
   ]
  },
  {
   "cell_type": "markdown",
   "id": "75770a17",
   "metadata": {},
   "source": [
    "---"
   ]
  },
  {
   "cell_type": "markdown",
   "id": "8a52f128-0352-49f6-a845-fd6c875bdf76",
   "metadata": {
    "slideshow": {
     "slide_type": "slide"
    }
   },
   "source": [
    "## Recall Linear Least square regression"
   ]
  },
  {
   "cell_type": "markdown",
   "id": "ff150fad-6d74-4ce8-9176-5b713e758a82",
   "metadata": {
    "slideshow": {
     "slide_type": "notes"
    }
   },
   "source": [
    "$\\newcommand{\\bfm}{\\mathbf{m}}$\n",
    "$\\newcommand{\\bfx}{\\mathbf{x}}$\n",
    "$\\newcommand{\\bfy}{\\mathbf{y}}$\n",
    "$\\newcommand{\\bfV}{\\mathbf{V}}$\n",
    "$\\newcommand{\\bfX}{\\mathbf{X}}$\n",
    "$\\newcommand{\\p}{\\partial}$\n",
    "\\begin{align}\n",
    "\\mathbf{0}^\\top &= \\frac{\\p }{\\p \\bfm} ( \\bfy^\\top\\bfy + \\bfm^\\top \\bfX^\\top \\bfX \\bfm - 2\\bfy^\\top \\bfX \\bfm)\\\\\n",
    "      &= 2 {\\bfm^*}^\\top \\bfX^\\top \\bfX  - 2\\bfy^\\top \\bfX\n",
    "\\end{align}\n",
    "\n",
    "This gives us the solution\n",
    "$$ \\bfm^* = (\\bfX^\\top \\bfX)^{-1} \\bfX^\\top \\bfy $$\n",
    "\n",
    "The symbol $\\bfV^{-1}$ is called inverse of matrix $\\bfV$.\n",
    "\n",
    "The term $(\\bfX^\\top \\bfX)^{-1} \\bfX^\\top$ is also called the pseudo-inverse of a matrix $\\bfX$, denoted as $\\bfX^\\dagger$."
   ]
  },
  {
   "cell_type": "code",
   "execution_count": null,
   "id": "3ec3f0a1-75cb-40d3-ab5c-928513e5efcd",
   "metadata": {},
   "outputs": [],
   "source": [
    "%%writefile saltconcentration.tsv\n",
    "#Observation\tSaltConcentration\tRoadwayArea\n",
    "1\t3.8\t0.19\n",
    "2\t5.9\t0.15\n",
    "3\t14.1\t0.57\n",
    "4\t10.4\t0.4\n",
    "5\t14.6\t0.7\n",
    "6\t14.5\t0.67\n",
    "7\t15.1\t0.63\n",
    "8\t11.9\t0.47\n",
    "9\t15.5\t0.75\n",
    "10\t9.3\t0.6\n",
    "11\t15.6\t0.78\n",
    "12\t20.8\t0.81\n",
    "13\t14.6\t0.78\n",
    "14\t16.6\t0.69\n",
    "15\t25.6\t1.3\n",
    "16\t20.9\t1.05\n",
    "17\t29.9\t1.52\n",
    "18\t19.6\t1.06\n",
    "19\t31.3\t1.74\n",
    "20\t32.7\t1.62"
   ]
  },
  {
   "cell_type": "code",
   "execution_count": null,
   "id": "cdce178c-d9ac-4d4f-ad28-c9722a126732",
   "metadata": {},
   "outputs": [],
   "source": [
    "# numpy can import text files separated by seprator like tab or comma\n",
    "import numpy as np\n",
    "salt_concentration_data = np.loadtxt(\"saltconcentration.tsv\")"
   ]
  },
  {
   "cell_type": "code",
   "execution_count": null,
   "id": "36d9133b-bbb7-45ba-adda-87091d73f684",
   "metadata": {
    "slideshow": {
     "slide_type": "slide"
    }
   },
   "outputs": [],
   "source": [
    "n = salt_concentration_data.shape[0]\n",
    "bfx = salt_concentration_data[:, 2:3]\n",
    "bfy = salt_concentration_data[:, 1]\n",
    "bfX = np.hstack((bfx, np.ones((bfx.shape[0], 1))))\n",
    "bfX"
   ]
  },
  {
   "cell_type": "code",
   "execution_count": null,
   "id": "07060954-4060-4ef9-a86e-87d605203a0a",
   "metadata": {
    "slideshow": {
     "slide_type": "slide"
    }
   },
   "outputs": [],
   "source": [
    "bfm = np.linalg.inv(bfX.T @ bfX) @ bfX.T @ bfy\n",
    "print(bfm)\n",
    "bfm, *_ = np.linalg.lstsq(bfX, bfy, rcond=None)\n",
    "print(bfm)"
   ]
  },
  {
   "cell_type": "code",
   "execution_count": null,
   "id": "506d29a3-0ed0-4afe-bbb7-84de39c44d7f",
   "metadata": {
    "slideshow": {
     "slide_type": "slide"
    }
   },
   "outputs": [],
   "source": [
    "import matplotlib.pyplot as plt\n",
    "m = bfm.flatten()[0]\n",
    "c = bfm.flatten()[1]\n",
    "\n",
    "# Plot the points\n",
    "fig, ax = plt.subplots()\n",
    "ax.scatter(salt_concentration_data[:, 2], salt_concentration_data[:, 1])\n",
    "ax.set_xlabel(r\"Roadway area $\\%$\")\n",
    "ax.set_ylabel(r\"Salt concentration (mg/L)\")\n",
    "x = salt_concentration_data[:, 2]\n",
    "y = m * x + c\n",
    "# Plot the points\n",
    "ax.plot(x, y, 'r-') # the line"
   ]
  },
  {
   "cell_type": "markdown",
   "id": "1db96a46-c4ee-491c-95f4-d05d279c1595",
   "metadata": {
    "slideshow": {
     "slide_type": "slide"
    }
   },
   "source": [
    "## Second derivative aka Hessians\n",
    "\n"
   ]
  },
  {
   "cell_type": "markdown",
   "id": "e4977331-2318-4bb3-af1c-372e772dd99a",
   "metadata": {},
   "source": [
    "### Geometry of second derivative"
   ]
  },
  {
   "cell_type": "code",
   "execution_count": null,
   "id": "f9f65f04-49fb-43ce-b7e0-dda79cc5bef0",
   "metadata": {},
   "outputs": [],
   "source": [
    "import matplotlib.pyplot as plt\n",
    "plt.rcParams.update({\n",
    "    \"text.usetex\": False # turns on math latex rendering in matplotlib\n",
    "})"
   ]
  },
  {
   "cell_type": "code",
   "execution_count": null,
   "id": "86010743-7331-41ab-b614-d03abffa392e",
   "metadata": {},
   "outputs": [],
   "source": [
    "x = np.linspace(-10, 10, 100)\n",
    "fig, ax = plt.subplots(1, 3, figsize=(9, 3))\n",
    "ax[0].plot(x, x**2, 'r', label=r'$f(x)=x^2$')\n",
    "ax[0].plot(x, 2*x, 'b', label=r'$\\frac{df(x)}{dx}$')\n",
    "ax[0].set_xlabel('x')\n",
    "ax[0].legend()\n",
    "\n",
    "ax[1].plot(x, -x**2, 'r', label=r'$f(x)=-x^2$')\n",
    "ax[1].plot(x, -2*x, 'b', label=r'$\\frac{df(x)}{dx}$')\n",
    "ax[1].set_xlabel('x')\n",
    "ax[1].legend()\n",
    "\n",
    "\n",
    "ax[2].plot(x, x**3, 'r', label=r'$f(x)=x^3$')\n",
    "ax[2].plot(x, -3*x**2, 'b', label=r'$\\frac{df(x)}{dx}$')\n",
    "ax[2].set_xlabel('x')\n",
    "ax[2].legend()"
   ]
  },
  {
   "cell_type": "markdown",
   "id": "6f953181-8629-4ec7-b549-d1c18eaee463",
   "metadata": {
    "slideshow": {
     "slide_type": "slide"
    }
   },
   "source": [
    "### Second derivatives in 2 dimension\n",
    "\n",
    "1. $ f(x, y) = 2x^2 + 4y^2 - xy - 6x - 8y  + 6$\n",
    "2. $ f(x, y) = - 2x^2 - 4y^2 + xy + 6x + 8y  + 6$\n",
    "3. $ f(x, y) = 2x^2 - 4y^2 - xy - 6x + 8y  + 6$\n",
    "\n",
    "Example 1:\n",
    "$$ f(x, y) = 2x^2 + 4y^2 - xy - 6x - 8y  + 6$$ \n",
    "$$ f([x, y]) = \\begin{bmatrix}x & y \\end{bmatrix}\n",
    "\\begin{bmatrix}2 & -1/2\\\\ -1/2 & 4\\end{bmatrix}\n",
    "\\begin{bmatrix} x \\\\ y \\end{bmatrix} \n",
    "+\n",
    "\\begin{bmatrix} - 6 & - 8 \\end{bmatrix}\n",
    "\\begin{bmatrix} x \\\\ y \\end{bmatrix}  + 6$$ "
   ]
  },
  {
   "cell_type": "markdown",
   "id": "9c134286-b673-4f88-a7f0-5e5e1cc0cb07",
   "metadata": {
    "slideshow": {
     "slide_type": "slide"
    }
   },
   "source": [
    "Example 2:\n",
    "$$ f(x, y) = - 2x^2 - 4y^2 + xy + 6x + 8y  + 6$$ \n",
    "$$ f([x, y]) = \\begin{bmatrix}x & y \\end{bmatrix}\n",
    "\\begin{bmatrix}-2 & 1/2\\\\ 1/2 & -4\\end{bmatrix}\n",
    "\\begin{bmatrix} x \\\\ y \\end{bmatrix} \n",
    "+\n",
    "\\begin{bmatrix} 6 & 8 \\end{bmatrix}\n",
    "\\begin{bmatrix} x \\\\ y \\end{bmatrix}  + 6$$ "
   ]
  },
  {
   "cell_type": "markdown",
   "id": "c9c81c4c-ba17-460d-add5-e55447b92d30",
   "metadata": {
    "slideshow": {
     "slide_type": "slide"
    }
   },
   "source": [
    "Example 3:\n",
    "$$ f(x, y) = 2x^2 - 4y^2 - xy - 6x + 8y  + 6$$ \n",
    "$$ f([x, y]) = \\begin{bmatrix}x & y \\end{bmatrix}\n",
    "\\begin{bmatrix}2 & -1/2\\\\ -1/2 & -4\\end{bmatrix}\n",
    "\\begin{bmatrix} x \\\\ y \\end{bmatrix} \n",
    "+\n",
    "\\begin{bmatrix} - 6 & 8 \\end{bmatrix}\n",
    "\\begin{bmatrix} x \\\\ y \\end{bmatrix}  + 6$$ "
   ]
  },
  {
   "cell_type": "code",
   "execution_count": null,
   "id": "0c184301",
   "metadata": {
    "slideshow": {
     "slide_type": "skip"
    }
   },
   "outputs": [],
   "source": [
    "import plotly.graph_objects as go\n",
    "import numpy as np\n",
    "import matplotlib.pyplot as plt\n",
    "def plot_surface(func):\n",
    "    x, y = np.mgrid[-20:20:21j,\n",
    "                    -20:20:21j]\n",
    "    f =  func(x, y)\n",
    "\n",
    "    print(f.shape, x.shape, y.shape)\n",
    "    fig = go.Figure(data=[go.Surface(z=f, x=x, y=y)])\n",
    "    fig.update_traces(contours_z=dict(show=True, usecolormap=True,\n",
    "                                      highlightcolor=\"limegreen\", project_z=True))\n",
    "    fig.show()"
   ]
  },
  {
   "cell_type": "markdown",
   "id": "20513e1c",
   "metadata": {
    "slideshow": {
     "slide_type": "slide"
    }
   },
   "source": [
    "Example 1:\n",
    "\n",
    "$$ f(x, y) = 2x^2 + 4y^2 - xy - 6x - 8y  + 6$$ \n",
    "\n",
    "$$ f([x, y]) = \\begin{bmatrix}x & y \\end{bmatrix}\n",
    "\\begin{bmatrix}2 & -1/2\\\\ -1/2 & 4\\end{bmatrix}\n",
    "\\begin{bmatrix} x \\\\ y \\end{bmatrix} \n",
    "+\n",
    "\\begin{bmatrix} - 6 & - 8 \\end{bmatrix}\n",
    "\\begin{bmatrix} x \\\\ y \\end{bmatrix}  + 6$$ "
   ]
  },
  {
   "cell_type": "code",
   "execution_count": null,
   "id": "38a32b62-c643-4e78-a843-f7ab8c4c2861",
   "metadata": {
    "slideshow": {
     "slide_type": "slide"
    }
   },
   "outputs": [],
   "source": [
    "def f(x, y):\n",
    "    return 2*x**2 + 4*y**2 - x*y - 6*x - 8*y  + 6\n",
    "\n",
    "def f_vec(x, y):\n",
    "    # x is n x n and y is n x n\n",
    "    xn = x[..., None] # n x n x 1\n",
    "    yn = y[..., None] # n x n x 1\n",
    "    vecx = np.concatenate([xn, yn], axis=-1) # n x n x 2\n",
    "    vecx_col_vec = vecx[..., None] # n x n x 2 x 1\n",
    "    vecx_row_vec = vecx[..., None, :] # n x n x 1 x 2\n",
    "    A = np.array([[2, -0.5],\n",
    "                  [-0.5, 4]]) # 2 x 2\n",
    "    b = np.array([-6, -8]) # 2\n",
    "    c = 6\n",
    "    print(\"Minima at, \", -np.linalg.inv(A + A.T) @ b)\n",
    "    quad  = (vecx_row_vec @ A @ vecx_col_vec).squeeze(-1).squeeze(-1)\n",
    "    return quad + vecx @ b + c\n",
    "\n",
    "plot_surface(f_vec)"
   ]
  },
  {
   "cell_type": "markdown",
   "id": "165333fa-e0fa-47ab-bb81-f9cbcdda1011",
   "metadata": {
    "slideshow": {
     "slide_type": "slide"
    }
   },
   "source": [
    "$$ f(x, y) = - 2x^2 - 4y^2 + xy - 6x - 8y  + 6$$ "
   ]
  },
  {
   "cell_type": "code",
   "execution_count": null,
   "id": "50f11dbc-e096-47fb-a2ed-c98a919251dd",
   "metadata": {
    "slideshow": {
     "slide_type": "-"
    }
   },
   "outputs": [],
   "source": [
    "def f(x, y): return - 2*x**2 - 4*y**2 + x*y + 6*x + 8*y  + 6\n",
    "\n",
    "def f_vec(x, y):\n",
    "    # x is n x n and y is n x n\n",
    "    xn = x[..., None] # n x n x 1\n",
    "    yn = y[..., None] # n x n x 1\n",
    "    vecx = np.concatenate([xn, yn], axis=-1) # n x n x 2\n",
    "    vecx_col_vec = vecx[..., None] # n x n x 2 x 1\n",
    "    vecx_row_vec = vecx[..., None, :] # n x n x 1 x 2\n",
    "    A = np.array([[-2, 0.5],\n",
    "                  [0.5, -4]]) # 2 x 2\n",
    "    b = np.array([6, 8]) # 2\n",
    "    c = 6\n",
    "    print(\"Maxima at, \", -np.linalg.inv(A + A.T) @ b)\n",
    "    quad  = (vecx_row_vec @ A @ vecx_col_vec).squeeze(-1).squeeze(-1)\n",
    "    return quad + vecx @ b + c\n",
    "plot_surface(f_vec)"
   ]
  },
  {
   "cell_type": "markdown",
   "id": "0c5d8472",
   "metadata": {
    "slideshow": {
     "slide_type": "slide"
    }
   },
   "source": [
    "$$ f(x, ) = 2x^2 - 4y^2 - xy - 6x - 8y  + 6$$ "
   ]
  },
  {
   "cell_type": "code",
   "execution_count": null,
   "id": "9df16b57-6c42-490d-986b-41fae2ee4353",
   "metadata": {
    "slideshow": {
     "slide_type": "-"
    }
   },
   "outputs": [],
   "source": [
    "def f(x, y): return  2*x**2 - 4*y**2 - x*y - 6*x + 8*y  + 6\n",
    "plot_surface(f)"
   ]
  },
  {
   "cell_type": "markdown",
   "id": "003e86d2",
   "metadata": {
    "slideshow": {
     "slide_type": "slide"
    }
   },
   "source": [
    "## Second derivative in n-D : Hessian matrix\n",
    "$\\newcommand{\\bbR}{\\mathbb{R}}$\n",
    "$\\newcommand{\\calH}{\\mathcal{H}}$\n",
    "$\\newcommand{\\p}{\\partial}$\n",
    "$\\newcommand{\\pfxixj}[2]{\\frac{\\p^2 f}{\\p x_{#1} \\p x_{#2}}}$\n",
    "$\\newcommand{\\calJ}{\\mathcal{J}}$\n",
    "Hessian matrix of a scalar-valued vector function $f: \\bbR^n \\to \\bbR$ is defined as the following arrangement of second derivatives,\n",
    "$$ \\calH f(\\bfx) = \\begin{bmatrix}\n",
    "\\pfxixj11 & \\pfxixj12 & \\dots & \\pfxixj1n \\\\\n",
    "\\pfxixj21 & \\pfxixj22 & \\dots & \\pfxixj2n \\\\\n",
    "\\vdots & \\vdots & \\ddots  & \\vdots \\\\\n",
    "\\pfxixj{n}1 & \\pfxixj{n}2 & \\dots & \\pfxixj{n}n \\\\\n",
    "\\end{bmatrix}$$\n",
    "\n",
    "It is sometimes also written as $\\nabla^2 f(\\bfx) $, and hessian can be computed by taking the Jacobian of the gradient,\n",
    "$$ \\calH f(\\bfx) = \\calJ^\\top ( \\nabla f(\\bfx) )$$\n",
    "\n",
    "If the second partial derivatives are continuous then the Hessian matrix is symmetric."
   ]
  },
  {
   "cell_type": "markdown",
   "id": "4e05eade-8dbd-4775-9457-59f1e524c7a2",
   "metadata": {},
   "source": [
    "### Find the Hessian of the general quadratic form,\n",
    "$\\newcommand{\\bfb}{\\mathbf{b}}$\n",
    "$$f(\\bfx) = \\bfx^\\top A \\bfx + \\bfb^\\top \\bfx + c$$"
   ]
  },
  {
   "cell_type": "markdown",
   "id": "57b0884c-4e73-4994-b506-a602030d564a",
   "metadata": {},
   "source": [
    "Find the gradient of $f(\\bfx)$\n",
    "$$\\nabla^\\top f(\\bfx) = \\bfx^\\top (A + A^\\top) + \\bfb^\\top $$\n",
    "Take transpose\n",
    "$$\\nabla f(\\bfx) =  (A + A^\\top)\\bfx + \\bfb $$\n",
    "\n",
    "Find the Jacobian of the gradient\n",
    "$$\\calJ^\\top \\nabla f(\\bfx) = (A + A^\\top)$$"
   ]
  },
  {
   "cell_type": "markdown",
   "id": "c7cd7e6f-7cec-49a9-b76f-683190db7882",
   "metadata": {},
   "source": [
    "---\n",
    "#### Homework 4: Problem 1 (10 marks)\n",
    "Find the Hessian of the quadratic function that we got as the objective function in linear regression,\n",
    "$$ R(\\bfm) = \\bfy^\\top \\bfy - 2\\bfy^\\top \\bfX \\bfm + \\bfm^\\top \\bfX^\\top \\bfX \\bfm,$$\n",
    "\n",
    "where $\\bfy \\in \\bbR^n$, $\\bfm \\in \\bbR^2$, and $\\bfX \\in \\bbR^{n \\times 2}$.\n",
    "\n",
    "Find the Hessian $\\calH_\\bfm R(\\bfm) $ with respect to $\\bfm$.\n",
    "\n",
    "---"
   ]
  },
  {
   "cell_type": "markdown",
   "id": "7f801c91-4779-449a-9f58-e125d2432e6f",
   "metadata": {},
   "source": [
    "## Positive definite, Negative definite and Indefinite"
   ]
  },
  {
   "cell_type": "markdown",
   "id": "ba8227f8-b96b-4aab-bf94-1cd0ce09b49f",
   "metadata": {},
   "source": [
    "#### Positiive definite\n",
    "\n",
    "A square matrix $A \\in \\bbR^{n \\times n}$ is called positive definite if for all $\\bfx \\in \\bbR^n$, $\\bfx^\\top A \\bfx \\succ 0$.\n",
    "\n",
    "#### Negative definite\n",
    "\n",
    "A square matrix $A \\in \\bbR^{n \\times n}$ is called negative definite if for all $\\bfx \\in \\bbR^n$, $\\bfx^\\top A \\bfx \\prec 0$.\n",
    "\n",
    "#### Indefinite\n",
    "\n",
    "A square matrix $A \\in \\bbR^{n \\times n}$ is called indefinite if it is neither positive definite nor negative definite.\n"
   ]
  },
  {
   "cell_type": "markdown",
   "id": "5523db2f-0ea6-4564-8b88-bb5cafaf5cf0",
   "metadata": {},
   "source": [
    "## Eigenvalues and Eigen vectors\n",
    "\n",
    "Eigen values $\\lambda \\in \\bbR$ and eigen vector $\\bfv \\in \\bbR^n$ of a given matrix $\\bfA$ are the solutions of the equation,\n",
    "$$ A \\bfv = \\lambda \\bfv $$"
   ]
  },
  {
   "cell_type": "markdown",
   "id": "2d91d5cd-d8e3-42f2-a251-f0497edf73fd",
   "metadata": {},
   "source": [
    "You might have solved for eigen values and eigen vectors using the equation\n",
    "$$(A - \\lambda I_n) \\bfv = 0$$ whose solution is given by,\n",
    "$$\\det(A - \\lambda I_n) = 0$$"
   ]
  },
  {
   "cell_type": "markdown",
   "id": "e17dc727",
   "metadata": {
    "slideshow": {
     "slide_type": "slide"
    }
   },
   "source": [
    "## Contour Plots"
   ]
  },
  {
   "cell_type": "markdown",
   "id": "e75b3310-39c7-4421-8bda-ddeae7decd37",
   "metadata": {
    "slideshow": {
     "slide_type": "-"
    }
   },
   "source": [
    "![](imgs/contourplot.png)"
   ]
  },
  {
   "cell_type": "code",
   "execution_count": null,
   "id": "3da90315",
   "metadata": {
    "slideshow": {
     "slide_type": "skip"
    }
   },
   "outputs": [],
   "source": [
    "def plot_contour(func):\n",
    "    x, y = np.mgrid[-20:20:21j,\n",
    "                    -20:20:21j]\n",
    "    bfx = np.array([x, y])\n",
    "    f = func(x,y)\n",
    "\n",
    "    plt.contour(x, y, f, 20, cmap='Blues_r')\n",
    "    plt.plot([1.8], [1.2], 'ro') \n",
    "    plt.text(1.8+1, 1.2, '$x^*$', color='r')\n",
    "    plt.xlabel('$x$')\n",
    "    plt.ylabel('$y$')\n",
    "    plt.show()\n",
    "    "
   ]
  },
  {
   "cell_type": "code",
   "execution_count": null,
   "id": "c0a924bb-5719-413a-a6b5-211481642c8e",
   "metadata": {
    "slideshow": {
     "slide_type": "-"
    }
   },
   "outputs": [],
   "source": [
    "def f(x, y): return  2*x**2 + 4*y**2 - x*y - 6*x - 8*y  + 6\n",
    "plot_contour(f)"
   ]
  },
  {
   "cell_type": "markdown",
   "id": "f81ec4f4-5f2c-4c95-b79f-eda068744ec4",
   "metadata": {
    "slideshow": {
     "slide_type": "slide"
    }
   },
   "source": [
    "But how about other kinds of functions say:\n",
    "\n",
    "$$ \\arg~\\min_x f(x) = x \\exp(-(x^2 + y^2))$$ "
   ]
  },
  {
   "cell_type": "code",
   "execution_count": null,
   "id": "00431a3c",
   "metadata": {
    "slideshow": {
     "slide_type": "-"
    }
   },
   "outputs": [],
   "source": [
    "def plot_contour(func):\n",
    "    x, y = np.mgrid[-2:2:201j,\n",
    "                    -2:3:201j]\n",
    "    f = func(x,y)\n",
    "\n",
    "    ctr = plt.contour(x, y, f, 10, cmap='Blues_r')\n",
    "    plt.clabel(ctr, ctr.levels, inline=True, fontsize=6)\n",
    "    plt.show()"
   ]
  },
  {
   "cell_type": "code",
   "execution_count": null,
   "id": "78efc640-1f35-4b36-b56b-eb166a966178",
   "metadata": {
    "slideshow": {
     "slide_type": "-"
    }
   },
   "outputs": [],
   "source": [
    "def f(x,y): return  x * np.exp(-(x**2 + y**2))\n",
    "plot_contour(f)"
   ]
  },
  {
   "cell_type": "code",
   "execution_count": null,
   "id": "bf4468ff",
   "metadata": {
    "slideshow": {
     "slide_type": "-"
    }
   },
   "outputs": [],
   "source": [
    "def plot_surface_3d(func):\n",
    "    x, y = np.mgrid[-2:2:201j,\n",
    "                    -2:3:201j]\n",
    "    f = func(x,y)\n",
    "    fig = go.Figure(data=[go.Surface(z=f, x=x, y=y,\n",
    "                                    contours = {\n",
    "                                        \"x\": {\"start\": -2, \"end\": 2, \"size\": 0.2},\n",
    "                                        \"z\": {\"start\": -2, \"end\": 2, \"size\": 0.2}\n",
    "                                    },\n",
    "                                    )])\n",
    "    fig.update_traces(contours_z=dict(show=True, usecolormap=True, project_z=True))\n",
    "    fig.show()"
   ]
  },
  {
   "cell_type": "code",
   "execution_count": null,
   "id": "c22e242a-6257-4b49-bb3a-a89f8e42c907",
   "metadata": {
    "slideshow": {
     "slide_type": "slide"
    }
   },
   "outputs": [],
   "source": [
    "plot_surface_3d(f)"
   ]
  },
  {
   "cell_type": "markdown",
   "id": "4a254d2c-829b-4c0f-a08e-3637c3069f1b",
   "metadata": {},
   "source": [
    "## Geometry of eigen vectors and eigen values"
   ]
  },
  {
   "cell_type": "markdown",
   "id": "1eff94f3-7ccd-4370-9e66-fcb6ce1e4f2d",
   "metadata": {
    "slideshow": {
     "slide_type": "slide"
    }
   },
   "source": [
    "Example 1:\n",
    "\n",
    "$$ f(x, y) = 2x^2 + 4y^2 - xy - 6x - 8y  + 6$$ \n",
    "\n",
    "$$ f([x, y]) = \\begin{bmatrix}x & y \\end{bmatrix}\n",
    "\\begin{bmatrix}2 & -1/2\\\\ -1/2 & 4\\end{bmatrix}\n",
    "\\begin{bmatrix} x \\\\ y \\end{bmatrix} \n",
    "+\n",
    "\\begin{bmatrix} - 6 & - 8 \\end{bmatrix}\n",
    "\\begin{bmatrix} x \\\\ y \\end{bmatrix}  + 6$$ "
   ]
  },
  {
   "cell_type": "code",
   "execution_count": null,
   "id": "dd50daba-5ef8-4633-b8be-f81016e53ac5",
   "metadata": {
    "slideshow": {
     "slide_type": "slide"
    }
   },
   "outputs": [],
   "source": [
    "def f(x, y):\n",
    "    return 2*x**2 + 4*y**2 - x*y - 6*x - 8*y  + 6\n",
    "\n",
    "def f_vec(x, y):\n",
    "    # x is n x n and y is n x n\n",
    "    xn = x[..., None] # n x n x 1\n",
    "    yn = y[..., None] # n x n x 1\n",
    "    vecx = np.concatenate([xn, yn], axis=-1) # n x n x 2\n",
    "    vecx_col_vec = vecx[..., None] # n x n x 2 x 1\n",
    "    vecx_row_vec = vecx[..., None, :] # n x n x 1 x 2\n",
    "    A = np.array([[2, -0.5],\n",
    "                  [-0.5, 4]]) # 2 x 2\n",
    "    b = np.array([-6, -8]) # 2\n",
    "    c = 6\n",
    "    print(\"Minima at, \", -np.linalg.inv(A + A.T) @ b)\n",
    "    quad  = (vecx_row_vec @ A @ vecx_col_vec).squeeze(-1).squeeze(-1)\n",
    "    return quad + vecx @ b + c\n",
    "\n",
    "x, y = np.mgrid[-4:4:201j,\n",
    "                -4:4:201j]\n",
    "fvals = f(x,y)\n",
    "\n",
    "\n",
    "A = np.array([[2, -0.5],\n",
    "              [-0.5, 4]]) # 2 x 2\n",
    "\n",
    "b = np.array([-6, -8]) # 2\n",
    "minpt = -np.linalg.inv(A + A.T) @ b\n",
    "ctr = plt.contour(x, y, fvals, 10, cmap='Blues_r')\n",
    "lambdas, V = np.linalg.eigh(A+A.T)\n",
    "v1 = V[:, 0]\n",
    "v2 = V[:, 1]\n",
    "plt.arrow(minpt[0], minpt[1], 4*v1[0]/np.sqrt(lambdas[0]),  4*v1[1] / np.sqrt(lambdas[0]), color='r', head_width=0.1)\n",
    "plt.arrow(minpt[0], minpt[1], 4*v2[0]/np.sqrt(lambdas[1]),  4*v2[1] / np.sqrt(lambdas[1]), color='g', head_width=0.1)\n",
    "plt.clabel(ctr, ctr.levels, inline=True, fontsize=6)\n",
    "plt.axis('equal')\n",
    "plt.show()\n"
   ]
  }
 ],
 "metadata": {
  "kernelspec": {
   "display_name": "Python 3 (ipykernel)",
   "language": "python",
   "name": "python3"
  },
  "language_info": {
   "codemirror_mode": {
    "name": "ipython",
    "version": 3
   },
   "file_extension": ".py",
   "mimetype": "text/x-python",
   "name": "python",
   "nbconvert_exporter": "python",
   "pygments_lexer": "ipython3",
   "version": "3.10.12"
  }
 },
 "nbformat": 4,
 "nbformat_minor": 5
}

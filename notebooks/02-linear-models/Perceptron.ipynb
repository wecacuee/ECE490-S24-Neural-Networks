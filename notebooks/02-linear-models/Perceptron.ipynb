{
 "cells": [
  {
   "cell_type": "markdown",
   "id": "39e6aa22",
   "metadata": {},
   "source": [
    "Before you turn this problem in, make sure everything runs as expected. First, **restart the kernel** (in the menubar, select Kernel$\\rightarrow$Restart) and then **run all cells** (in the menubar, select Cell$\\rightarrow$Run All).\n",
    "\n",
    "Make sure you fill in any place that says `YOUR CODE HERE` or \"YOUR ANSWER HERE\", as well as your name and collaborators below:"
   ]
  },
  {
   "cell_type": "code",
   "execution_count": null,
   "id": "8318bd80",
   "metadata": {},
   "outputs": [],
   "source": [
    "NAME = \"\"\n",
    "COLLABORATORS = \"\""
   ]
  },
  {
   "cell_type": "markdown",
   "id": "faebe772",
   "metadata": {},
   "source": [
    "---"
   ]
  },
  {
   "cell_type": "markdown",
   "id": "8a52f128-0352-49f6-a845-fd6c875bdf76",
   "metadata": {
    "slideshow": {
     "slide_type": "slide"
    }
   },
   "source": [
    "## Recall Linear Least square regression"
   ]
  },
  {
   "cell_type": "markdown",
   "id": "ff150fad-6d74-4ce8-9176-5b713e758a82",
   "metadata": {
    "slideshow": {
     "slide_type": "notes"
    }
   },
   "source": [
    "$\\newcommand{\\bfm}{\\mathbf{m}}$\n",
    "$\\newcommand{\\bfx}{\\mathbf{x}}$\n",
    "$\\newcommand{\\bfy}{\\mathbf{y}}$\n",
    "$\\newcommand{\\bfV}{\\mathbf{V}}$\n",
    "$\\newcommand{\\bfX}{\\mathbf{X}}$\n",
    "\\begin{align}\n",
    "\\mathbf{0}^\\top &= \\frac{\\p }{\\p \\bfm} ( \\bfy^\\top\\bfy + \\bfm^\\top \\bfX^\\top \\bfX \\bfm - 2\\bfy^\\top \\bfX \\bfm)\\\\\n",
    "      &= 2 {\\bfm^*}^\\top \\bfX^\\top \\bfX  - 2\\bfy^\\top \\bfX\n",
    "\\end{align}\n",
    "\n",
    "This gives us the solution\n",
    "$$ \\bfm^* = (\\bfX^\\top \\bfX)^{-1} \\bfX^\\top \\bfy $$\n",
    "\n",
    "The symbol $\\bfV^{-1}$ is called inverse of matrix $\\bfV$.\n",
    "\n",
    "The term $(\\bfX^\\top \\bfX)^{-1} \\bfX^\\top$ is also called the pseudo-inverse of a matrix $\\bfX$, denoted as $\\bfX^\\dagger$."
   ]
  },
  {
   "cell_type": "code",
   "execution_count": null,
   "id": "3ec3f0a1-75cb-40d3-ab5c-928513e5efcd",
   "metadata": {},
   "outputs": [],
   "source": [
    "%%writefile saltconcentration.tsv\n",
    "#Observation\tSaltConcentration\tRoadwayArea\n",
    "1\t3.8\t0.19\n",
    "2\t5.9\t0.15\n",
    "3\t14.1\t0.57\n",
    "4\t10.4\t0.4\n",
    "5\t14.6\t0.7\n",
    "6\t14.5\t0.67\n",
    "7\t15.1\t0.63\n",
    "8\t11.9\t0.47\n",
    "9\t15.5\t0.75\n",
    "10\t9.3\t0.6\n",
    "11\t15.6\t0.78\n",
    "12\t20.8\t0.81\n",
    "13\t14.6\t0.78\n",
    "14\t16.6\t0.69\n",
    "15\t25.6\t1.3\n",
    "16\t20.9\t1.05\n",
    "17\t29.9\t1.52\n",
    "18\t19.6\t1.06\n",
    "19\t31.3\t1.74\n",
    "20\t32.7\t1.62"
   ]
  },
  {
   "cell_type": "code",
   "execution_count": null,
   "id": "cdce178c-d9ac-4d4f-ad28-c9722a126732",
   "metadata": {},
   "outputs": [],
   "source": [
    "# numpy can import text files separated by seprator like tab or comma\n",
    "import numpy as np\n",
    "salt_concentration_data = np.loadtxt(\"saltconcentration.tsv\")"
   ]
  },
  {
   "cell_type": "code",
   "execution_count": null,
   "id": "36d9133b-bbb7-45ba-adda-87091d73f684",
   "metadata": {
    "slideshow": {
     "slide_type": "slide"
    }
   },
   "outputs": [],
   "source": [
    "n = salt_concentration_data.shape[0]\n",
    "bfx = salt_concentration_data[:, 2:3]\n",
    "bfy = salt_concentration_data[:, 1]\n",
    "bfX = np.hstack((bfx, np.ones((bfx.shape[0], 1))))\n",
    "bfX"
   ]
  },
  {
   "cell_type": "code",
   "execution_count": null,
   "id": "07060954-4060-4ef9-a86e-87d605203a0a",
   "metadata": {
    "slideshow": {
     "slide_type": "slide"
    }
   },
   "outputs": [],
   "source": [
    "bfm = np.linalg.inv(bfX.T @ bfX) @ bfX.T @ bfy\n",
    "print(bfm)\n",
    "bfm, *_ = np.linalg.lstsq(bfX, bfy, rcond=None)\n",
    "print(bfm)"
   ]
  },
  {
   "cell_type": "code",
   "execution_count": null,
   "id": "506d29a3-0ed0-4afe-bbb7-84de39c44d7f",
   "metadata": {
    "slideshow": {
     "slide_type": "slide"
    }
   },
   "outputs": [],
   "source": [
    "import matplotlib.pyplot as plt\n",
    "m = bfm.flatten()[0]\n",
    "c = bfm.flatten()[1]\n",
    "\n",
    "# Plot the points\n",
    "fig, ax = plt.subplots()\n",
    "ax.scatter(salt_concentration_data[:, 2], salt_concentration_data[:, 1])\n",
    "ax.set_xlabel(r\"Roadway area $\\%$\")\n",
    "ax.set_ylabel(r\"Salt concentration (mg/L)\")\n",
    "x = salt_concentration_data[:, 2]\n",
    "y = m * x + c\n",
    "# Plot the points\n",
    "ax.plot(x, y, 'r-') # the line"
   ]
  },
  {
   "cell_type": "markdown",
   "id": "1db96a46-c4ee-491c-95f4-d05d279c1595",
   "metadata": {
    "slideshow": {
     "slide_type": "slide"
    }
   },
   "source": [
    "## Second derivative\n",
    "\n"
   ]
  },
  {
   "cell_type": "markdown",
   "id": "e4977331-2318-4bb3-af1c-372e772dd99a",
   "metadata": {},
   "source": [
    "### Geometry of second derivative"
   ]
  },
  {
   "cell_type": "code",
   "execution_count": null,
   "id": "f9f65f04-49fb-43ce-b7e0-dda79cc5bef0",
   "metadata": {},
   "outputs": [],
   "source": [
    "import matplotlib.pyplot as plt\n",
    "plt.rcParams.update({\n",
    "    \"text.usetex\": False # turns on math latex rendering in matplotlib\n",
    "})"
   ]
  },
  {
   "cell_type": "code",
   "execution_count": null,
   "id": "86010743-7331-41ab-b614-d03abffa392e",
   "metadata": {},
   "outputs": [],
   "source": [
    "x = np.linspace(-10, 10, 100)\n",
    "fig, ax = plt.subplots(1, 3, figsize=(9, 3))\n",
    "ax[0].plot(x, x**2, 'r', label=r'$f(x)=x^2$')\n",
    "ax[0].plot(x, 2*x, 'b', label=r'$\\frac{df(x)}{dx}$')\n",
    "ax[0].set_xlabel('x')\n",
    "ax[0].legend()\n",
    "\n",
    "ax[1].plot(x, -x**2, 'r', label=r'$f(x)=-x^2$')\n",
    "ax[1].plot(x, -2*x, 'b', label=r'$\\frac{df(x)}{dx}$')\n",
    "ax[1].set_xlabel('x')\n",
    "ax[1].legend()\n",
    "\n",
    "\n",
    "ax[2].plot(x, x**3, 'r', label=r'$f(x)=x^3$')\n",
    "ax[2].plot(x, -3*x**2, 'b', label=r'$\\frac{df(x)}{dx}$')\n",
    "ax[2].set_xlabel('x')\n",
    "ax[2].legend()"
   ]
  },
  {
   "cell_type": "markdown",
   "id": "6f953181-8629-4ec7-b549-d1c18eaee463",
   "metadata": {
    "slideshow": {
     "slide_type": "slide"
    }
   },
   "source": [
    "### Second derivatives in 2 dimension\n",
    "\n",
    "1. $ f(x, y) = 2x^2 + 4y^2 - xy - 6x - 8y  + 6$\n",
    "2. $ f(x, y) = - 2x^2 - 4y^2 + xy + 6x + 8y  + 6$\n",
    "3. $ f(x, y) = 2x^2 - 4y^2 - xy - 6x + 8y  + 6$\n",
    "\n",
    "Example 1:\n",
    "$$ f(x, y) = 2x^2 + 4y^2 - xy - 6x - 8y  + 6$$ \n",
    "$$ f([x, y]) = \\begin{bmatrix}x & y \\end{bmatrix}\n",
    "\\begin{bmatrix}2 & -1/2\\\\ -1/2 & 4\\end{bmatrix}\n",
    "\\begin{bmatrix} x \\\\ y \\end{bmatrix} \n",
    "+\n",
    "\\begin{bmatrix} - 6 & - 8 \\end{bmatrix}\n",
    "\\begin{bmatrix} x \\\\ y \\end{bmatrix}  + 6$$ "
   ]
  },
  {
   "cell_type": "markdown",
   "id": "9c134286-b673-4f88-a7f0-5e5e1cc0cb07",
   "metadata": {
    "slideshow": {
     "slide_type": "slide"
    }
   },
   "source": [
    "Example 2:\n",
    "$$ f(x, y) = - 2x^2 - 4y^2 + xy + 6x + 8y  + 6$$ \n",
    "$$ f([x, y]) = \\begin{bmatrix}x & y \\end{bmatrix}\n",
    "\\begin{bmatrix}-2 & 1/2\\\\ 1/2 & -4\\end{bmatrix}\n",
    "\\begin{bmatrix} x \\\\ y \\end{bmatrix} \n",
    "+\n",
    "\\begin{bmatrix} 6 & 8 \\end{bmatrix}\n",
    "\\begin{bmatrix} x \\\\ y \\end{bmatrix}  + 6$$ "
   ]
  },
  {
   "cell_type": "markdown",
   "id": "c9c81c4c-ba17-460d-add5-e55447b92d30",
   "metadata": {
    "slideshow": {
     "slide_type": "slide"
    }
   },
   "source": [
    "Example 3:\n",
    "$$ f(x, y) = 2x^2 - 4y^2 - xy - 6x + 8y  + 6$$ \n",
    "$$ f([x, y]) = \\begin{bmatrix}x & y \\end{bmatrix}\n",
    "\\begin{bmatrix}2 & -1/2\\\\ -1/2 & -4\\end{bmatrix}\n",
    "\\begin{bmatrix} x \\\\ y \\end{bmatrix} \n",
    "+\n",
    "\\begin{bmatrix} - 6 & 8 \\end{bmatrix}\n",
    "\\begin{bmatrix} x \\\\ y \\end{bmatrix}  + 6$$ "
   ]
  },
  {
   "cell_type": "code",
   "execution_count": null,
   "id": "0c184301",
   "metadata": {
    "slideshow": {
     "slide_type": "skip"
    }
   },
   "outputs": [],
   "source": [
    "import plotly.graph_objects as go\n",
    "import numpy as np\n",
    "import matplotlib.pyplot as plt\n",
    "def plot_surface(func):\n",
    "    x, y = np.mgrid[-20:20:21j,\n",
    "                    -20:20:21j]\n",
    "    f =  func(x, y)\n",
    "\n",
    "    print(f.shape, x.shape, y.shape)\n",
    "    fig = go.Figure(data=[go.Surface(z=f, x=x, y=y)])\n",
    "    fig.update_traces(contours_z=dict(show=True, usecolormap=True,\n",
    "                                      highlightcolor=\"limegreen\", project_z=True))\n",
    "    fig.show()"
   ]
  },
  {
   "cell_type": "markdown",
   "id": "20513e1c",
   "metadata": {
    "slideshow": {
     "slide_type": "slide"
    }
   },
   "source": [
    "Example 1:\n",
    "\n",
    "$$ f(x, y) = 2x^2 + 4y^2 - xy - 6x - 8y  + 6$$ \n",
    "\n",
    "$$ f([x, y]) = \\begin{bmatrix}x & y \\end{bmatrix}\n",
    "\\begin{bmatrix}2 & -1/2\\\\ -1/2 & 4\\end{bmatrix}\n",
    "\\begin{bmatrix} x \\\\ y \\end{bmatrix} \n",
    "+\n",
    "\\begin{bmatrix} - 6 & - 8 \\end{bmatrix}\n",
    "\\begin{bmatrix} x \\\\ y \\end{bmatrix}  + 6$$ "
   ]
  },
  {
   "cell_type": "code",
   "execution_count": null,
   "id": "38a32b62-c643-4e78-a843-f7ab8c4c2861",
   "metadata": {
    "slideshow": {
     "slide_type": "slide"
    }
   },
   "outputs": [],
   "source": [
    "def f(x, y):\n",
    "    return 2*x**2 + 4*y**2 - x*y - 6*x - 8*y  + 6\n",
    "\n",
    "def f_vec(x, y):\n",
    "    # x is n x n and y is n x n\n",
    "    xn = x[..., None] # n x n x 1\n",
    "    yn = y[..., None] # n x n x 1\n",
    "    vecx = np.concatenate([xn, yn], axis=-1) # n x n x 2\n",
    "    vecx_col_vec = vecx[..., None] # n x n x 2 x 1\n",
    "    vecx_row_vec = vecx[..., None, :] # n x n x 1 x 2\n",
    "    A = np.array([[2, -0.5],\n",
    "                  [-0.5, 4]]) # 2 x 2\n",
    "    b = np.array([-6, -8]) # 2\n",
    "    c = 6\n",
    "    print(\"Minima at, \", -np.linalg.inv(A + A.T) @ b)\n",
    "    quad  = (vecx_row_vec @ A @ vecx_col_vec).squeeze(-1).squeeze(-1)\n",
    "    return quad + vecx @ b + c\n",
    "\n",
    "plot_surface(f_vec)"
   ]
  },
  {
   "cell_type": "markdown",
   "id": "165333fa-e0fa-47ab-bb81-f9cbcdda1011",
   "metadata": {
    "slideshow": {
     "slide_type": "slide"
    }
   },
   "source": [
    "$$ f(x, y) = - 2x^2 - 4y^2 + xy - 6x - 8y  + 6$$ "
   ]
  },
  {
   "cell_type": "code",
   "execution_count": null,
   "id": "50f11dbc-e096-47fb-a2ed-c98a919251dd",
   "metadata": {
    "slideshow": {
     "slide_type": "-"
    }
   },
   "outputs": [],
   "source": [
    "def f(x, y): return - 2*x**2 - 4*y**2 + x*y + 6*x + 8*y  + 6\n",
    "\n",
    "def f_vec(x, y):\n",
    "    # x is n x n and y is n x n\n",
    "    xn = x[..., None] # n x n x 1\n",
    "    yn = y[..., None] # n x n x 1\n",
    "    vecx = np.concatenate([xn, yn], axis=-1) # n x n x 2\n",
    "    vecx_col_vec = vecx[..., None] # n x n x 2 x 1\n",
    "    vecx_row_vec = vecx[..., None, :] # n x n x 1 x 2\n",
    "    A = np.array([[-2, 0.5],\n",
    "                  [0.5, -4]]) # 2 x 2\n",
    "    b = np.array([6, 8]) # 2\n",
    "    c = 6\n",
    "    print(\"Maxima at, \", -np.linalg.inv(A + A.T) @ b)\n",
    "    quad  = (vecx_row_vec @ A @ vecx_col_vec).squeeze(-1).squeeze(-1)\n",
    "    return quad + vecx @ b + c\n",
    "plot_surface(f_vec)"
   ]
  },
  {
   "cell_type": "markdown",
   "id": "0c5d8472",
   "metadata": {
    "slideshow": {
     "slide_type": "slide"
    }
   },
   "source": [
    "$$ f(x, ) = 2x^2 - 4y^2 - xy - 6x - 8y  + 6$$ "
   ]
  },
  {
   "cell_type": "code",
   "execution_count": null,
   "id": "9df16b57-6c42-490d-986b-41fae2ee4353",
   "metadata": {
    "slideshow": {
     "slide_type": "-"
    }
   },
   "outputs": [],
   "source": [
    "def f(x, y): return  2*x**2 - 4*y**2 - x*y - 6*x + 8*y  + 6\n",
    "plot_surface(f)"
   ]
  },
  {
   "cell_type": "markdown",
   "id": "003e86d2",
   "metadata": {
    "slideshow": {
     "slide_type": "slide"
    }
   },
   "source": [
    "## Second derivative in n-D : Hessian matrix\n",
    "$\\newcommand{\\bbR}{\\mathbb{R}}$\n",
    "$\\newcommand{\\calH}{\\mathcal{H}}$\n",
    "$\\newcommand{\\p}{\\partial}$\n",
    "$\\newcommand{\\pfxixj}[2]{\\frac{\\p^2 f}{\\p x_{#1} \\p x_{#2}}}$\n",
    "$\\newcommand{\\calJ}{\\mathcal{J}}$\n",
    "Hessian matrix of a scalar-valued vector function $f: \\bbR^n \\to \\bbR$ is defined as the following arrangement of second derivatives,\n",
    "$$ \\calH f(\\bfx) = \\begin{bmatrix}\n",
    "\\pfxixj11 & \\pfxixj12 & \\dots & \\pfxixj1n \\\\\n",
    "\\pfxixj21 & \\pfxixj22 & \\dots & \\pfxixj2n \\\\\n",
    "\\vdots & \\vdots & \\ddots  & \\vdots \\\\\n",
    "\\pfxixj{n}1 & \\pfxixj{n}2 & \\dots & \\pfxixj{n}n \\\\\n",
    "\\end{bmatrix}$$\n",
    "\n",
    "It is sometimes also written as $\\nabla^2 f(\\bfx) $, and hessian can be computed by taking the Jacobian of the gradient,\n",
    "$$ \\calH f(\\bfx) = \\calJ^\\top ( \\nabla f(\\bfx) )$$\n",
    "\n",
    "If the second partial derivatives are continuous then the Hessian matrix is symmetric."
   ]
  },
  {
   "cell_type": "markdown",
   "id": "4e05eade-8dbd-4775-9457-59f1e524c7a2",
   "metadata": {},
   "source": [
    "### Find the Hessian of the general quadratic form,\n",
    "$\\newcommand{\\bfb}{\\mathbf{b}}$\n",
    "$$f(\\bfx) = \\bfx^\\top A \\bfx + \\bfb^\\top \\bfx + c$$"
   ]
  },
  {
   "cell_type": "markdown",
   "id": "57b0884c-4e73-4994-b506-a602030d564a",
   "metadata": {},
   "source": [
    "Find the gradient of $f(\\bfx)$\n",
    "$$\\nabla^\\top f(\\bfx) = \\bfx^\\top (A + A^\\top) + \\bfb^\\top $$\n",
    "Take transpose\n",
    "$$\\nabla f(\\bfx) =  (A + A^\\top)\\bfx + \\bfb $$\n",
    "\n",
    "Find the Jacobian of the gradient\n",
    "$$\\calJ^\\top \\nabla f(\\bfx) = (A + A^\\top)$$"
   ]
  },
  {
   "cell_type": "markdown",
   "id": "c7cd7e6f-7cec-49a9-b76f-683190db7882",
   "metadata": {},
   "source": [
    "#### Homework 4: Problem 1\n",
    "Find the Hessian of the quadratic function that we got as the objective function in linear regression,\n",
    "$$ R(\\bfm) = \\bfy^\\top \\bfy - 2\\bfy^\\top \\bfX \\bfm + \\bfm^\\top \\bfm$$\n",
    "\n",
    "Find $\\calH_\\bfm R(\\bfm) $"
   ]
  },
  {
   "cell_type": "markdown",
   "id": "7f801c91-4779-449a-9f58-e125d2432e6f",
   "metadata": {},
   "source": [
    "## Positive definite, Negative definite and Indefinite"
   ]
  },
  {
   "cell_type": "markdown",
   "id": "ba8227f8-b96b-4aab-bf94-1cd0ce09b49f",
   "metadata": {},
   "source": [
    "#### Positiive definite\n",
    "\n",
    "A square matrix $A \\in \\bbR^{n \\times n}$ is called positive definite if for all $\\bfx \\in \\bbR^n$, $\\bfx^\\top A \\bfx \\succ 0$.\n",
    "\n",
    "#### Negative definite\n",
    "\n",
    "A square matrix $A \\in \\bbR^{n \\times n}$ is called negative definite if for all $\\bfx \\in \\bbR^n$, $\\bfx^\\top A \\bfx \\prec 0$.\n",
    "\n",
    "#### Indefinite\n",
    "\n",
    "A square matrix $A \\in \\bbR^{n \\times n}$ is called indefinite if it is neither positive definite nor negative definite.\n"
   ]
  },
  {
   "cell_type": "markdown",
   "id": "5523db2f-0ea6-4564-8b88-bb5cafaf5cf0",
   "metadata": {},
   "source": [
    "## Eigenvalues and Eigen vectors\n",
    "\n",
    "Eigen values $\\lambda \\in \\bbR$ and eigen vector $\\bfv \\in \\bbR^n$ of a given matrix $\\bfA$ are the solutions of the equation,\n",
    "$$ A \\bfv = \\lambda \\bfv $$"
   ]
  },
  {
   "cell_type": "markdown",
   "id": "2d91d5cd-d8e3-42f2-a251-f0497edf73fd",
   "metadata": {},
   "source": [
    "You might have solved for eigen values and eigen vectors using the equation\n",
    "$$(A - \\lambda I_n) \\bfv = 0$$ whose solution is given by,\n",
    "$$\\det(A - \\lambda I_n) = 0$$"
   ]
  },
  {
   "cell_type": "markdown",
   "id": "e17dc727",
   "metadata": {
    "slideshow": {
     "slide_type": "slide"
    }
   },
   "source": [
    "## Contour Plots"
   ]
  },
  {
   "cell_type": "markdown",
   "id": "e75b3310-39c7-4421-8bda-ddeae7decd37",
   "metadata": {
    "slideshow": {
     "slide_type": "-"
    }
   },
   "source": [
    "![](imgs/contourplot.png)"
   ]
  },
  {
   "cell_type": "code",
   "execution_count": null,
   "id": "3da90315",
   "metadata": {
    "slideshow": {
     "slide_type": "skip"
    }
   },
   "outputs": [],
   "source": [
    "def plot_contour(func):\n",
    "    x, y = np.mgrid[-20:20:21j,\n",
    "                    -20:20:21j]\n",
    "    bfx = np.array([x, y])\n",
    "    f = func(x,y)\n",
    "\n",
    "    plt.contour(x, y, f, 20, cmap='Blues_r')\n",
    "    plt.plot([1.8], [1.2], 'ro') \n",
    "    plt.text(1.8+1, 1.2, '$x^*$', color='r')\n",
    "    plt.xlabel('$x$')\n",
    "    plt.ylabel('$y$')\n",
    "    plt.show()\n",
    "    "
   ]
  },
  {
   "cell_type": "code",
   "execution_count": null,
   "id": "c0a924bb-5719-413a-a6b5-211481642c8e",
   "metadata": {
    "slideshow": {
     "slide_type": "-"
    }
   },
   "outputs": [],
   "source": [
    "def f(x, y): return  2*x**2 + 4*y**2 - x*y - 6*x - 8*y  + 6\n",
    "plot_contour(f)"
   ]
  },
  {
   "cell_type": "markdown",
   "id": "f81ec4f4-5f2c-4c95-b79f-eda068744ec4",
   "metadata": {
    "slideshow": {
     "slide_type": "slide"
    }
   },
   "source": [
    "But how about other kinds of functions say:\n",
    "\n",
    "$$ \\arg~\\min_x f(x) = x \\exp(-(x^2 + y^2))$$ "
   ]
  },
  {
   "cell_type": "code",
   "execution_count": null,
   "id": "00431a3c",
   "metadata": {
    "slideshow": {
     "slide_type": "-"
    }
   },
   "outputs": [],
   "source": [
    "def plot_contour(func):\n",
    "    x, y = np.mgrid[-2:2:201j,\n",
    "                    -2:3:201j]\n",
    "    f = func(x,y)\n",
    "\n",
    "    ctr = plt.contour(x, y, f, 10, cmap='Blues_r')\n",
    "    plt.clabel(ctr, ctr.levels, inline=True, fontsize=6)\n",
    "    plt.show()"
   ]
  },
  {
   "cell_type": "code",
   "execution_count": null,
   "id": "78efc640-1f35-4b36-b56b-eb166a966178",
   "metadata": {
    "slideshow": {
     "slide_type": "-"
    }
   },
   "outputs": [],
   "source": [
    "def f(x,y): return  x * np.exp(-(x**2 + y**2))\n",
    "plot_contour(f)"
   ]
  },
  {
   "cell_type": "code",
   "execution_count": null,
   "id": "bf4468ff",
   "metadata": {
    "slideshow": {
     "slide_type": "-"
    }
   },
   "outputs": [],
   "source": [
    "def plot_surface_3d(func):\n",
    "    x, y = np.mgrid[-2:2:201j,\n",
    "                    -2:3:201j]\n",
    "    f = func(x,y)\n",
    "    fig = go.Figure(data=[go.Surface(z=f, x=x, y=y,\n",
    "                                    contours = {\n",
    "                                        \"x\": {\"start\": -2, \"end\": 2, \"size\": 0.2},\n",
    "                                        \"z\": {\"start\": -2, \"end\": 2, \"size\": 0.2}\n",
    "                                    },\n",
    "                                    )])\n",
    "    fig.update_traces(contours_z=dict(show=True, usecolormap=True, project_z=True))\n",
    "    fig.show()"
   ]
  },
  {
   "cell_type": "code",
   "execution_count": null,
   "id": "c22e242a-6257-4b49-bb3a-a89f8e42c907",
   "metadata": {
    "slideshow": {
     "slide_type": "slide"
    }
   },
   "outputs": [],
   "source": [
    "plot_surface_3d(f)"
   ]
  },
  {
   "cell_type": "markdown",
   "id": "4a254d2c-829b-4c0f-a08e-3637c3069f1b",
   "metadata": {},
   "source": [
    "## Geometry of eigen vectors and eigen values"
   ]
  },
  {
   "cell_type": "markdown",
   "id": "1eff94f3-7ccd-4370-9e66-fcb6ce1e4f2d",
   "metadata": {
    "slideshow": {
     "slide_type": "slide"
    }
   },
   "source": [
    "Example 1:\n",
    "\n",
    "$$ f(x, y) = 2x^2 + 4y^2 - xy - 6x - 8y  + 6$$ \n",
    "\n",
    "$$ f([x, y]) = \\begin{bmatrix}x & y \\end{bmatrix}\n",
    "\\begin{bmatrix}2 & -1/2\\\\ -1/2 & 4\\end{bmatrix}\n",
    "\\begin{bmatrix} x \\\\ y \\end{bmatrix} \n",
    "+\n",
    "\\begin{bmatrix} - 6 & - 8 \\end{bmatrix}\n",
    "\\begin{bmatrix} x \\\\ y \\end{bmatrix}  + 6$$ "
   ]
  },
  {
   "cell_type": "code",
   "execution_count": null,
   "id": "dd50daba-5ef8-4633-b8be-f81016e53ac5",
   "metadata": {
    "slideshow": {
     "slide_type": "slide"
    }
   },
   "outputs": [],
   "source": [
    "def f(x, y):\n",
    "    return 2*x**2 + 4*y**2 - x*y - 6*x - 8*y  + 6\n",
    "\n",
    "def f_vec(x, y):\n",
    "    # x is n x n and y is n x n\n",
    "    xn = x[..., None] # n x n x 1\n",
    "    yn = y[..., None] # n x n x 1\n",
    "    vecx = np.concatenate([xn, yn], axis=-1) # n x n x 2\n",
    "    vecx_col_vec = vecx[..., None] # n x n x 2 x 1\n",
    "    vecx_row_vec = vecx[..., None, :] # n x n x 1 x 2\n",
    "    A = np.array([[2, -0.5],\n",
    "                  [-0.5, 4]]) # 2 x 2\n",
    "    b = np.array([-6, -8]) # 2\n",
    "    c = 6\n",
    "    print(\"Minima at, \", -np.linalg.inv(A + A.T) @ b)\n",
    "    quad  = (vecx_row_vec @ A @ vecx_col_vec).squeeze(-1).squeeze(-1)\n",
    "    return quad + vecx @ b + c\n",
    "\n",
    "x, y = np.mgrid[-4:4:201j,\n",
    "                -4:4:201j]\n",
    "fvals = f(x,y)\n",
    "\n",
    "\n",
    "A = np.array([[2, -0.5],\n",
    "              [-0.5, 4]]) # 2 x 2\n",
    "\n",
    "b = np.array([-6, -8]) # 2\n",
    "minpt = -np.linalg.inv(A + A.T) @ b\n",
    "ctr = plt.contour(x, y, fvals, 10, cmap='Blues_r')\n",
    "lambdas, V = np.linalg.eigh(A+A.T)\n",
    "v1 = V[:, 0]\n",
    "v2 = V[:, 1]\n",
    "plt.arrow(minpt[0], minpt[1], 4*v1[0]/np.sqrt(lambdas[0]),  4*v1[1] / np.sqrt(lambdas[0]), color='r')\n",
    "plt.arrow(minpt[0], minpt[1], 4*v2[0]/np.sqrt(lambdas[1]),  4*v2[1] / np.sqrt(lambdas[1]), color='g')\n",
    "plt.clabel(ctr, ctr.levels, inline=True, fontsize=6)\n",
    "plt.axis('equal')\n",
    "plt.show()\n"
   ]
  },
  {
   "cell_type": "code",
   "execution_count": null,
   "id": "55128705-fec5-43fc-8fec-74beb72e44e8",
   "metadata": {},
   "outputs": [],
   "source": []
  },
  {
   "cell_type": "code",
   "execution_count": null,
   "id": "61eb0701-f287-425c-8172-de3f47a29fea",
   "metadata": {
    "slideshow": {
     "slide_type": "skip"
    },
    "tags": []
   },
   "outputs": [],
   "source": [
    "!F=train-images-idx3-ubyte && cd data && \\\n",
    "    [ ! -f $F ] && \\\n",
    "    wget http://yann.lecun.com/exdb/mnist/$F.gz  && \\\n",
    "    gunzip $F.gz\n",
    "!F=train-labels-idx1-ubyte && cd data && \\\n",
    "    [ ! -f $F ] && \\\n",
    "    wget http://yann.lecun.com/exdb/mnist/$F.gz  && \\\n",
    "    gunzip $F.gz"
   ]
  },
  {
   "cell_type": "code",
   "execution_count": null,
   "id": "de1dfdea-79af-4abd-ae9c-55c2c3c01cd2",
   "metadata": {
    "slideshow": {
     "slide_type": "skip"
    },
    "tags": []
   },
   "outputs": [],
   "source": [
    "import struct\n",
    "import numpy as np\n",
    "\n",
    "# Ref:https://github.com/sorki/python-mnist/blob/master/mnist/loader.py\n",
    "def mnist_read_labels(fname='data/train-labels-idx1-ubyte'):\n",
    "    with open(fname, 'rb') as file:\n",
    "        # The file starts with 4 byte 2 unsigned ints \n",
    "        magic, size = struct.unpack('>II', file.read(8))\n",
    "        assert magic == 2049\n",
    "        labels = np.frombuffer(file.read(), dtype='u1')\n",
    "        return labels\n",
    "    \n",
    "# Ref:https://github.com/sorki/python-mnist/blob/master/mnist/loader.py\n",
    "def mnist_read_images(fname='data/train-images-idx3-ubyte'):\n",
    "    with open(fname, 'rb') as file:\n",
    "        # The file starts with 4 byte 4 unsigned ints \n",
    "        magic, size, rows, cols = struct.unpack('>IIII', file.read(16))\n",
    "        assert magic == 2051\n",
    "        image_data = np.frombuffer(file.read(), dtype='u1')\n",
    "        images = image_data.reshape(size, rows, cols)\n",
    "        return images"
   ]
  },
  {
   "cell_type": "code",
   "execution_count": null,
   "id": "17492446",
   "metadata": {
    "slideshow": {
     "slide_type": "skip"
    },
    "tags": []
   },
   "outputs": [],
   "source": [
    "import matplotlib.pyplot as plt\n",
    "import matplotlib.animation as animation\n",
    "import matplotlib as mpl\n",
    "mpl.rc('animation', html='jshtml')\n",
    "train_images = mnist_read_images('data/train-images-idx3-ubyte')\n",
    "labels = mnist_read_labels('data/train-labels-idx1-ubyte')\n",
    "zero_images = train_images[labels==0, ...] # Filter by label == 0\n",
    "one_images = train_images[labels==1, ...] # Filter by label == 1\n",
    "\n",
    "# fig, axes = plt.subplots(2, 10)\n",
    "# for axrow, imgs in zip(axes, (zero_images, one_images)):\n",
    "#     for ax, img in zip(axrow, imgs):    \n",
    "#         ax.imshow(img, cmap='gray', vmin=0, vmax=255)\n",
    "#         ax.axis('off')\n",
    "\n",
    "        \n",
    "fig, ax = plt.subplots()\n",
    "# ims is a list of lists, each row is a list of artists to draw in the\n",
    "# current frame; here we are just animating one artist, the image, in\n",
    "# each frame\n",
    "\n",
    "ims = [[ax.imshow(zero_images[i], animated=True, cmap='gray', vmin=0, vmax=255)]\n",
    "    for i in range(60)]\n",
    "zero_images_anim = animation.ArtistAnimation(fig, ims, interval=50, blit=True,\n",
    "                                repeat_delay=1000, repeat=False)"
   ]
  },
  {
   "cell_type": "code",
   "execution_count": null,
   "id": "96ace721-4b00-4180-a6c9-9f779098a9d9",
   "metadata": {
    "slideshow": {
     "slide_type": "slide"
    },
    "tags": []
   },
   "outputs": [],
   "source": [
    "zero_images_anim"
   ]
  },
  {
   "cell_type": "code",
   "execution_count": null,
   "id": "0cbb88ab",
   "metadata": {
    "slideshow": {
     "slide_type": "skip"
    }
   },
   "outputs": [],
   "source": [
    "fig, ax = plt.subplots()\n",
    "oneims = [[ax.imshow(one_images[i], animated=True, cmap='gray', vmin=0, vmax=255)]\n",
    "    for i in range(60)]\n",
    "one_images_anim = animation.ArtistAnimation(fig, oneims, interval=50, blit=True,\n",
    "                                            repeat_delay=1000, repeat=False)"
   ]
  },
  {
   "cell_type": "code",
   "execution_count": null,
   "id": "8f99252f-e9d5-493d-a16e-e7ea8560a76f",
   "metadata": {
    "slideshow": {
     "slide_type": "slide"
    }
   },
   "outputs": [],
   "source": [
    "one_images_anim"
   ]
  },
  {
   "cell_type": "markdown",
   "id": "9574e534-6242-4c08-9347-e5c1fcfe0cb5",
   "metadata": {
    "slideshow": {
     "slide_type": "slide"
    }
   },
   "source": [
    "# What is a feature\n",
    "\n",
    "Any property of data sample that helps with the task."
   ]
  },
  {
   "cell_type": "code",
   "execution_count": null,
   "id": "de75c7a8-3a7f-4934-b7c6-d86775db964d",
   "metadata": {
    "slideshow": {
     "slide_type": "slide"
    }
   },
   "outputs": [],
   "source": [
    "def feature_n_pxls(imgs):\n",
    "    n, *shape = imgs.shape\n",
    "    return np.sum(imgs[:, :, :].reshape(n, -1) > 128, axis=1)\n",
    "\n",
    "n_pxls_zero_images = feature_n_pxls(zero_images)\n",
    "n_pxls_one_images = feature_n_pxls(one_images)\n",
    "fig, ax = plt.subplots()\n",
    "ax.plot(n_pxls_zero_images, '.')\n",
    "ax.plot(n_pxls_one_images, '+')"
   ]
  },
  {
   "cell_type": "code",
   "execution_count": null,
   "id": "50d1359d-7774-4aad-9bed-545bd398f365",
   "metadata": {
    "slideshow": {
     "slide_type": "slide"
    }
   },
   "outputs": [],
   "source": [
    "fig, ax = plt.subplots()\n",
    "for i in range(5):\n",
    "    ax.plot(zero_images[i].mean(axis=0), 'b-')\n",
    "for i in range(5):\n",
    "    plt.plot(one_images[i].mean(axis=0), 'r-')"
   ]
  },
  {
   "cell_type": "code",
   "execution_count": null,
   "id": "c4263a2b-01d9-4b6c-bfe4-c307e92efc16",
   "metadata": {
    "slideshow": {
     "slide_type": "slide"
    }
   },
   "outputs": [],
   "source": [
    "wts = zero_images[0].mean(axis=0)\n",
    "mean = (np.arange(wts.shape[0]) * wts).sum() / np.sum(wts)\n",
    "var = ((np.arange(wts.shape[0]) - mean)**2 * wts).sum() / np.sum(wts)\n",
    "var"
   ]
  },
  {
   "cell_type": "code",
   "execution_count": null,
   "id": "9fd57644-513b-4639-affd-25eeaad11d83",
   "metadata": {
    "slideshow": {
     "slide_type": "slide"
    }
   },
   "outputs": [],
   "source": [
    "def feature_y_var(img):\n",
    "    wts = img.mean(axis=0)\n",
    "    mean = (np.arange(wts.shape[0]) * wts).sum() / np.sum(wts)\n",
    "    var = ((np.arange(wts.shape[0]) - mean)**2 * wts).sum() / np.sum(wts)\n",
    "    return var\n",
    "feature_y_var(zero_images[0]), feature_y_var(one_images[0])\n"
   ]
  },
  {
   "cell_type": "code",
   "execution_count": null,
   "id": "82c88944-20ec-41f6-b5f9-171a45e04f62",
   "metadata": {},
   "outputs": [],
   "source": [
    "def feature_y_var(imgs):\n",
    "    wts = imgs.mean(axis=-2)\n",
    "    arange = np.arange(wts.shape[-1])\n",
    "    mean = (arange * wts).sum(axis=-1) / wts.sum(axis=-1)\n",
    "    mean = mean[:, np.newaxis]\n",
    "    var = ((arange - mean)**2 * wts).sum(axis=-1) / wts.sum(axis=-1)\n",
    "    return var\n",
    "\n",
    "fig, ax = plt.subplots()\n",
    "ax.plot(feature_y_var(zero_images), '.')\n",
    "ax.plot(feature_y_var(one_images), '+')"
   ]
  },
  {
   "cell_type": "code",
   "execution_count": null,
   "id": "9f93f75c",
   "metadata": {
    "slideshow": {
     "slide_type": "skip"
    }
   },
   "outputs": [],
   "source": [
    "def features_extract(images):\n",
    "    return np.vstack((feature_n_pxls(images),\n",
    "                      feature_y_var(images))).T\n",
    "zero_features = features_extract(zero_images)\n",
    "one_features = features_extract(one_images)\n",
    "\n",
    "\n",
    "def draw_features(ax, zero_features, one_features):\n",
    "    zf = ax.scatter(zero_features[:, 0], zero_features[:, 1], marker='.', label='0', alpha=0.5)\n",
    "    of = ax.scatter(one_features[:, 0], one_features[:, 1], marker='+', label='1', alpha=0.3)\n",
    "    ax.legend()\n",
    "    ax.set_xlabel('Feature 1: count of pixels')\n",
    "    ax.set_ylabel('Feature 2: Variance along x-axis')\n",
    "    return [zf, of] # return list of artists"
   ]
  },
  {
   "cell_type": "code",
   "execution_count": null,
   "id": "c911ae0a-9875-42bf-949d-ebf35fc99ecf",
   "metadata": {
    "slideshow": {
     "slide_type": "slide"
    }
   },
   "outputs": [],
   "source": [
    "fig, ax = plt.subplots()\n",
    "draw_features(ax, zero_features, one_features)\n",
    "plt.show()"
   ]
  },
  {
   "cell_type": "code",
   "execution_count": null,
   "id": "cb9edc78-9dc0-4208-98bd-e46c4f2d81e6",
   "metadata": {
    "slideshow": {
     "slide_type": "skip"
    }
   },
   "outputs": [],
   "source": [
    "bfm = np.ones(2)\n",
    "fig, ax = plt.subplots()\n",
    "draw_features(ax, zero_features, one_features)\n",
    "x = np.linspace(-1, 1, 21)\n",
    "ax.plot(x, x*bfm[0] + bfm[1], 'r-')"
   ]
  },
  {
   "cell_type": "code",
   "execution_count": null,
   "id": "0e57213f-6414-43cf-a4e9-82b544ed82aa",
   "metadata": {
    "slideshow": {
     "slide_type": "skip"
    }
   },
   "outputs": [],
   "source": [
    "bfm = np.ones(2)\n",
    "\n",
    "Y = np.hstack((np.ones(zero_features.shape[0]), np.full(one_features.shape[0], -1.0)))\n",
    "features = np.vstack((zero_features, one_features))\n",
    "FEATURES_MEAN = features.mean(axis=0, keepdims=1)\n",
    "FEATURES_STD = features.std(axis=0, keepdims=1)\n",
    "np.savez('features_stats.npz', mean=FEATURES_MEAN, std=FEATURES_STD)\n",
    "\n",
    "def norm_features(features):\n",
    "    return (features - FEATURES_MEAN) / FEATURES_STD\n",
    "    \n",
    "X = norm_features(features)\n",
    "\n",
    "fig, ax = plt.subplots()\n",
    "draw_features(ax, X[Y > 0, :], X[Y < 0, :])\n",
    "x = np.linspace(-1, 1, 21)\n",
    "ax.plot(x, x*bfm[0] + bfm[1], 'r-')"
   ]
  },
  {
   "cell_type": "code",
   "execution_count": null,
   "id": "990c3636-fd24-4693-8341-de2d2ab26f28",
   "metadata": {
    "deletable": false,
    "nbgrader": {
     "cell_type": "code",
     "checksum": "174dc8e7c8a7e4dc4745258bfd01a5cb",
     "grade": false,
     "grade_id": "cell-8f18079f90bd4caa",
     "locked": false,
     "schema_version": 3,
     "solution": true,
     "task": false
    },
    "tags": []
   },
   "outputs": [],
   "source": [
    "\n",
    "\n",
    "def error(X, Y, bfm):\n",
    "    # YOUR CODE HERE\n",
    "    raise NotImplementedError()\n",
    "\n",
    "def grad_error(Xw, Yw, bfm):\n",
    "    # YOUR CODE HERE\n",
    "    raise NotImplementedError()\n",
    "\n",
    "def train(X, Y, lr = 0.1):\n",
    "    # YOUR CODE HERE\n",
    "    raise NotImplementedError()\n",
    "\n",
    "OPTIMAL_BFM, list_of_bfms, list_of_errors = train(X, Y)\n",
    "fig, ax = plt.subplots()\n",
    "ax.plot(list_of_errors)\n",
    "ax.set_xlabel('t')\n",
    "ax.set_ylabel('loss')\n",
    "plt.show()"
   ]
  },
  {
   "cell_type": "code",
   "execution_count": null,
   "id": "53370a8f-0925-4a08-88ca-0ab00326e787",
   "metadata": {},
   "outputs": [],
   "source": [
    "fig, axes = plt.subplots(2, 1, figsize=(5, 7.5))\n",
    "class Anim:\n",
    "    def __init__(self, fig, axes, X, Y):\n",
    "        self.fig = fig\n",
    "        self.ax = axes[0]\n",
    "        self.ax1 = axes[1]\n",
    "        self.fts = draw_features(self.ax, X[Y > 0, :], X[Y < 0, :])\n",
    "        self.line, = self.ax.plot([], [], 'r-')\n",
    "        \n",
    "        m, c = np.meshgrid(np.linspace(-1, 1, 51), np.linspace(-1, 1, 51))\n",
    "        totalerr = np.empty_like(m)\n",
    "        for i in range(m.shape[0]):\n",
    "            for j in range(m.shape[1]):\n",
    "                err = error(X, Y, [m[i, j], c[i,j]])\n",
    "                totalerr[i, j] = err[err > 0].mean()\n",
    "\n",
    "        self.ctr = self.ax1.contour(m, c, totalerr, 30, cmap='Blues_r')\n",
    "        self.ax1.set_xlabel('m')\n",
    "        self.ax1.set_ylabel('c')\n",
    "        self.ax1.clabel(self.ctr, self.ctr.levels, inline=True, fontsize=6)\n",
    "        self.m_hist = []fig, axes = plt.subplots(2, 1, figsize=(5, 7.5))\n",
    "class Anim:\n",
    "    def __init__(self, fig, axes, X, Y):\n",
    "        self.fig = fig\n",
    "        self.ax = axes[0]\n",
    "        self.ax1 = axes[1]\n",
    "        self.fts = draw_features(self.ax, X[Y > 0, :], X[Y < 0, :])\n",
    "        self.line, = self.ax.plot([], [], 'r-')\n",
    "        \n",
    "        m, c = np.meshgrid(np.linspace(-1, 1, 51), np.linspace(-1, 1, 51))\n",
    "        totalerr = np.empty_like(m)\n",
    "        for i in range(m.shape[0]):\n",
    "            for j in range(m.shape[1]):\n",
    "                err = error(X, Y, [m[i, j], c[i,j]])\n",
    "                totalerr[i, j] = err[err > 0].mean()\n",
    "\n",
    "        self.ctr = self.ax1.contour(m, c, totalerr, 30, cmap='Blues_r')\n",
    "        self.ax1.set_xlabel('m')\n",
    "        self.ax1.set_ylabel('c')\n",
    "        self.ax1.clabel(self.ctr, self.ctr.levels, inline=True, fontsize=6)\n",
    "        self.m_hist = []\n",
    "        self.c_hist = []\n",
    "        self.line2, = self.ax1.plot([], [], 'r*-')\n",
    "\n",
    "        \n",
    "    def anim_init(self):\n",
    "        return (self.line, self.line2)\n",
    "        \n",
    "    def update(self, bfm):\n",
    "        x = np.linspace(-2, 2, 21)\n",
    "        self.line.set_data(x, x * bfm[0] + bfm[1])\n",
    "        self.m_hist.append(bfm[0])\n",
    "        self.c_hist.append(bfm[1])\n",
    "        self.line2.set_data(self.m_hist, self.c_hist)\n",
    "        return self.line, self.line2\n",
    "        \n",
    "a = Anim(fig, axes, X, Y)\n",
    "animation.FuncAnimation(fig, a.update, frames=list_of_bfms[::3],\n",
    "                        init_func=a.anim_init, blit=True, repeat=False)\n",
    "        self.c_hist = []\n",
    "        self.line2, = self.ax1.plot([], [], 'r*-')\n",
    "\n",
    "        \n",
    "    def anim_init(self):\n",
    "        return (self.line, self.line2)\n",
    "        \n",
    "    def update(self, bfm):\n",
    "        x = np.linspace(-2, 2, 21)\n",
    "        self.line.set_data(x, x * bfm[0] + bfm[1])\n",
    "        self.m_hist.append(bfm[0])\n",
    "        self.c_hist.append(bfm[1])\n",
    "        self.line2.set_data(self.m_hist, self.c_hist)\n",
    "        return self.line, self.line2\n",
    "        \n",
    "a = Anim(fig, axes, X, Y)\n",
    "animation.FuncAnimation(fig, a.update, frames=list_of_bfms[::3],\n",
    "                        init_func=a.anim_init, blit=True, repeat=False)"
   ]
  },
  {
   "cell_type": "code",
   "execution_count": null,
   "id": "ab42be01-5330-45dd-b202-3168d368c4d6",
   "metadata": {},
   "outputs": [],
   "source": [
    "test_images = mnist_read_images('data/t10k-images-idx3-ubyte')\n",
    "test_labels = mnist_read_labels('data/t10k-labels-idx1-ubyte')\n",
    "zero_one_filter = (test_labels == 0) | (test_labels == 1)\n",
    "zero_one_test_images = test_images[zero_one_filter, ...]\n",
    "\n",
    "def returnclasslabel(test_imgs):\n",
    "    Xtest = norm_features(features_extract(test_imgs))\n",
    "    bfm = OPTIMAL_BFM\n",
    "    return np.where(\n",
    "        Xtest[:, 1] - Xtest[:, 0] * bfm[0] - bfm[1] > 0, \n",
    "        0,\n",
    "        1)\n",
    "zero_one_predicted_labels = returnclasslabel(zero_one_test_images)"
   ]
  },
  {
   "cell_type": "code",
   "execution_count": null,
   "id": "47130bbc-64c7-4423-8037-a6d672822103",
   "metadata": {},
   "outputs": [],
   "source": [
    "\n",
    "fig, ax = plt.subplots()\n",
    "artists = []\n",
    "for i in range(60):\n",
    "    artists.append(\n",
    "        [ax.imshow(zero_one_test_images[i], animated=True, cmap='gray', vmin=0, vmax=255),\n",
    "        ax.text(0, 2, 'The number is %d' % zero_one_predicted_labels[i], animated=True, color='w')])\n",
    "animation.ArtistAnimation(fig, artists, interval=50, blit=True,\n",
    "                                repeat_delay=1000, repeat=False)"
   ]
  },
  {
   "cell_type": "markdown",
   "id": "adec3d9b-6895-4a72-8ff1-50b84603bf28",
   "metadata": {
    "slideshow": {
     "slide_type": "slide"
    }
   },
   "source": [
    "# Perceptron"
   ]
  },
  {
   "cell_type": "markdown",
   "id": "2c617dab-10fb-4810-8f11-be6d746351e9",
   "metadata": {
    "slideshow": {
     "slide_type": "-"
    }
   },
   "source": [
    "![](https://upload.wikimedia.org/wikipedia/commons/thumb/8/8a/Perceptron_example.svg/500px-Perceptron_example.svg.png)"
   ]
  },
  {
   "cell_type": "markdown",
   "id": "69347f55-763c-4130-bf55-c1221b825f9f",
   "metadata": {
    "slideshow": {
     "slide_type": "skip"
    }
   },
   "source": [
    "![](https://upload.wikimedia.org/wikipedia/commons/thumb/c/c4/Perceptron_algorithm.gif/800px-Perceptron_algorithm.gif?20170429203100)"
   ]
  }
 ],
 "metadata": {
  "kernelspec": {
   "display_name": "Python 3 (ipykernel)",
   "language": "python",
   "name": "python3"
  },
  "language_info": {
   "codemirror_mode": {
    "name": "ipython",
    "version": 3
   },
   "file_extension": ".py",
   "mimetype": "text/x-python",
   "name": "python",
   "nbconvert_exporter": "python",
   "pygments_lexer": "ipython3",
   "version": "3.10.12"
  }
 },
 "nbformat": 4,
 "nbformat_minor": 5
}

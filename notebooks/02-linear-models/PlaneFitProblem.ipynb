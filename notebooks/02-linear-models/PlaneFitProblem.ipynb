{
 "cells": [
  {
   "cell_type": "markdown",
   "id": "455d0bc9",
   "metadata": {},
   "source": [
    "Before you turn this problem in, make sure everything runs as expected. First, **restart the kernel** (in the menubar, select Kernel$\\rightarrow$Restart) and then **run all cells** (in the menubar, select Cell$\\rightarrow$Run All).\n",
    "\n",
    "Make sure you fill in any place that says `YOUR CODE HERE` or \"YOUR ANSWER HERE\", as well as your name and collaborators below:"
   ]
  },
  {
   "cell_type": "code",
   "execution_count": null,
   "id": "d5d6f07d",
   "metadata": {},
   "outputs": [],
   "source": [
    "NAME = \"\"\n",
    "COLLABORATORS = \"\""
   ]
  },
  {
   "cell_type": "markdown",
   "id": "9f8d0194",
   "metadata": {},
   "source": [
    "---"
   ]
  },
  {
   "cell_type": "markdown",
   "id": "249c9b25",
   "metadata": {},
   "source": [
    "# Homework 3: Problem 6\n",
    "(10 marks)\n",
    "\n",
    "$\\newcommand{\\bfx}{\\mathbf{x}}\n",
    "\\newcommand{\\bfb}{\\mathbf{b}}$\n",
    "Find the minimum of the following function\n",
    "$$f(\\bfx) = \\bfx^\\top A^\\top A \\bfx + 2 \\bfb^\\top \\bfx + c$$"
   ]
  },
  {
   "cell_type": "markdown",
   "id": "0957dab0-6d81-4839-ba40-cf1154b5bc6e",
   "metadata": {
    "deletable": false,
    "nbgrader": {
     "cell_type": "markdown",
     "checksum": "5e195f34cbb53ad4180e5adc707b4cc6",
     "grade": true,
     "grade_id": "cell-be3d981bec8a49f9",
     "locked": false,
     "points": 10,
     "schema_version": 3,
     "solution": true,
     "task": false
    },
    "tags": []
   },
   "source": [
    "YOUR ANSWER HERE"
   ]
  },
  {
   "cell_type": "markdown",
   "id": "3bbe2b3e-8642-41cf-89ed-18b0bf25530e",
   "metadata": {},
   "source": [
    "## Homework 3: Problem 7\n",
    "(10 marks)\n",
    "\n",
    "$\\newcommand{\\bfmu}{\\boldsymbol{\\mu}}$\n",
    "Find the minimum of the following function (assume $\\Sigma_1$ and $\\Sigma_2$ to be symmetric and positive semi-definite).\n",
    "$$f(\\bfx) = (\\bfx - \\bfmu_1)^\\top \\Sigma_1 (\\bfx - \\bfmu_1)\n",
    "+ (\\bfx - \\bfmu_2)^\\top \\Sigma_2 (\\bfx - \\bfmu_2) $$"
   ]
  },
  {
   "cell_type": "markdown",
   "id": "9ab86e2c-7508-4431-8bbe-dd1713fe4f1e",
   "metadata": {
    "deletable": false,
    "nbgrader": {
     "cell_type": "markdown",
     "checksum": "b2657461d31ffa4531dd5eb9fe375c03",
     "grade": true,
     "grade_id": "cell-cb331ee9d8b9f9d8",
     "locked": false,
     "points": 10,
     "schema_version": 3,
     "solution": true,
     "task": false
    },
    "tags": []
   },
   "source": [
    "YOUR ANSWER HERE"
   ]
  },
  {
   "cell_type": "markdown",
   "id": "c0dfabd5-3b5c-44e6-820d-2682f77dbaef",
   "metadata": {},
   "source": [
    "## Homework 3: Problem 8\n",
    "(30 marks)\n",
    "\n",
    "Least square fit in 2D fits a line to a given set of 2D points. This homework asks you to repeat the minimization procedure to find a plane that fits a 2D points. Below you are provided with helper code to load a point cloud, and visualize the points and the plane. Your task is to find the equation of plane that fits the point cloud. \n",
    "\n",
    "1. Show the math and derivation for your code\n",
    "2. Implement the code in python and numpy to find the coefficients of the equation of plane and write your answer in the space provided below. Submit this ipynb file to brightspace. (30 marks)"
   ]
  },
  {
   "cell_type": "code",
   "execution_count": null,
   "id": "07ff24c1-9fbb-44ff-b3a8-f4db959961a2",
   "metadata": {},
   "outputs": [],
   "source": [
    "%pip install plotly requests\n",
    "def wget(url, filename):\n",
    "    \"\"\"\n",
    "    Download files using requests package\n",
    "    \"\"\"\n",
    "    import requests\n",
    "    r = requests.get(url)\n",
    "    with open(filename, 'wb') as fd:\n",
    "        for chunk in r.iter_content():\n",
    "            fd.write(chunk)\n",
    "wget('https://github.com/wecacuee/ECE490-S24-Neural-Networks/raw/master/notebooks/02-linear-models/table_top.npy',\n",
    "     'table_top.npy')"
   ]
  },
  {
   "cell_type": "code",
   "execution_count": null,
   "id": "93d1c907-2613-4257-8893-e372925a093a",
   "metadata": {},
   "outputs": [],
   "source": [
    "import plotly.graph_objects as go\n",
    "from plotly.subplots import make_subplots\n",
    "\n",
    "def points_on_plane(abc):\n",
    "    a, b, c = abc\n",
    "    x = np.linspace(-1, 1, 100, dtype=np.float32)\n",
    "    y = np.linspace(0, 1, 100, dtype=np.float32)\n",
    "\n",
    "    x, y = np.meshgrid(x, y)\n",
    "    z = a*x + b*y + c\n",
    "    return x, y, z\n",
    "\n",
    "def visualize_plane(pts, abc, fig=None):\n",
    "    _fig = fig\n",
    "    fig = make_subplots() if fig is None else fig\n",
    "    x, y, z = points_on_plane(abc)\n",
    "    plt_surface = go.Surface(x=x, y=y, z=z)\n",
    "    \n",
    "    fig.add_trace(plt_surface)\n",
    "    visualize_points(pts, fig=fig)\n",
    "    if _fig is None:\n",
    "        fig.show()\n",
    "\n",
    "def visualize_points(pts, fig=None):\n",
    "    _fig = fig\n",
    "    fig = make_subplots() if fig is None else fig\n",
    "    scatter_trace = go.Scatter3d(x=pts[:, 0], y=pts[:, 1], z=pts[:, 2], mode='markers', marker=dict(size=1))\n",
    "    fig.add_trace(scatter_trace)\n",
    "    if _fig is None:  \n",
    "      fig.show()"
   ]
  },
  {
   "cell_type": "code",
   "execution_count": null,
   "id": "c665cb9f-cfe5-4388-a056-c4aae3854914",
   "metadata": {},
   "outputs": [],
   "source": [
    "import numpy as np\n",
    "pts = np.load('table_top.npy').astype('float32') # Nx3\n",
    "visualize_points(pts)\n",
    "pts.min(axis=0), pts.max(axis=0)"
   ]
  },
  {
   "cell_type": "code",
   "execution_count": null,
   "id": "e9071672-95a1-4a7e-be24-67e5f96ef78f",
   "metadata": {
    "deletable": false,
    "nbgrader": {
     "cell_type": "code",
     "checksum": "61651267a87231e5f7c23637fc5092a2",
     "grade": false,
     "grade_id": "cell-bb7ef5a91325977a",
     "locked": false,
     "schema_version": 3,
     "solution": true,
     "task": false
    },
    "tags": []
   },
   "outputs": [],
   "source": [
    "def plane_fit(pts):\n",
    "    # YOUR CODE HERE\n",
    "    raise NotImplementedError()\n",
    "    return abc"
   ]
  },
  {
   "cell_type": "code",
   "execution_count": null,
   "id": "6d8ad9b7-8ba1-44ef-84df-b85ef8c49118",
   "metadata": {
    "deletable": false,
    "editable": false,
    "nbgrader": {
     "cell_type": "code",
     "checksum": "f01d083c054d73867d459d3e6bee1e50",
     "grade": true,
     "grade_id": "cell-5b7358c1e61a4706",
     "locked": true,
     "points": 50,
     "schema_version": 3,
     "solution": false,
     "task": false
    },
    "tags": []
   },
   "outputs": [],
   "source": [
    "# Find abc such that z = a x + b y + c\n",
    "abc = plane_fit(pts)\n",
    "visualize_plane(pts, abc)\n",
    "assert np.abs(pts[:,2] - np.hstack((pts[:, :2], np.ones((pts.shape[0],1)))) @ abc).mean() < 0.4\n"
   ]
  },
  {
   "cell_type": "code",
   "execution_count": null,
   "id": "2fc65d04-8d37-46bf-ae9c-49e4d3ce8b92",
   "metadata": {},
   "outputs": [],
   "source": []
  }
 ],
 "metadata": {
  "kernelspec": {
   "display_name": "Python 3 (ipykernel)",
   "language": "python",
   "name": "python3"
  },
  "language_info": {
   "codemirror_mode": {
    "name": "ipython",
    "version": 3
   },
   "file_extension": ".py",
   "mimetype": "text/x-python",
   "name": "python",
   "nbconvert_exporter": "python",
   "pygments_lexer": "ipython3",
   "version": "3.10.12"
  }
 },
 "nbformat": 4,
 "nbformat_minor": 5
}

{
 "cells": [
  {
   "cell_type": "markdown",
   "id": "7fcbc16e",
   "metadata": {},
   "source": [
    "Before you turn this problem in, make sure everything runs as expected. First, **restart the kernel** (in the menubar, select Kernel$\\rightarrow$Restart) and then **run all cells** (in the menubar, select Cell$\\rightarrow$Run All).\n",
    "\n",
    "Make sure you fill in any place that says `YOUR CODE HERE` or \"YOUR ANSWER HERE\", as well as your name and collaborators below:"
   ]
  },
  {
   "cell_type": "code",
   "execution_count": null,
   "id": "7d33ef3b",
   "metadata": {},
   "outputs": [],
   "source": [
    "NAME = \"\"\n",
    "COLLABORATORS = \"\""
   ]
  },
  {
   "cell_type": "markdown",
   "id": "215d791b",
   "metadata": {},
   "source": [
    "---"
   ]
  },
  {
   "cell_type": "markdown",
   "id": "275d5ee8-2342-44e5-873d-442d7de34fe7",
   "metadata": {},
   "source": [
    "# Visualizing eigen vectors"
   ]
  },
  {
   "cell_type": "markdown",
   "id": "93c12b39-50bf-4027-9fe7-003e77c7ff8d",
   "metadata": {},
   "source": [
    "### Helper functions"
   ]
  },
  {
   "cell_type": "markdown",
   "id": "bccfd281-5f42-4e00-b917-b33511af0f0e",
   "metadata": {},
   "source": [
    "Latex macros\n",
    "$$\n",
    "\\newcommand{\\calA}{{\\cal A}}\n",
    "\\newcommand{\\calB}{{\\cal B}}\n",
    "\\newcommand{\\calC}{{\\cal C}}\n",
    "\\newcommand{\\calD}{{\\cal D}}\n",
    "\\newcommand{\\calE}{{\\cal E}}\n",
    "\\newcommand{\\calF}{{\\cal F}}\n",
    "\\newcommand{\\calG}{{\\cal G}}\n",
    "\\newcommand{\\calH}{{\\cal H}}\n",
    "\\newcommand{\\calI}{{\\cal I}}\n",
    "\\newcommand{\\calJ}{{\\cal J}}\n",
    "\\newcommand{\\calK}{{\\cal K}}\n",
    "\\newcommand{\\calL}{{\\cal L}}\n",
    "\\newcommand{\\calM}{{\\cal M}}\n",
    "\\newcommand{\\calN}{{\\cal N}}\n",
    "\\newcommand{\\calO}{{\\cal O}}\n",
    "\\newcommand{\\calP}{{\\cal P}}\n",
    "\\newcommand{\\calQ}{{\\cal Q}}\n",
    "\\newcommand{\\calR}{{\\cal R}}\n",
    "\\newcommand{\\calS}{{\\cal S}}\n",
    "\\newcommand{\\calT}{{\\cal T}}\n",
    "\\newcommand{\\calU}{{\\cal U}}\n",
    "\\newcommand{\\calV}{{\\cal V}}\n",
    "\\newcommand{\\calW}{{\\cal W}}\n",
    "\\newcommand{\\calX}{{\\cal X}}\n",
    "\\newcommand{\\calY}{{\\cal Y}}\n",
    "\\newcommand{\\calZ}{{\\cal Z}}\n",
    "\\newcommand{\\setA}{\\textsf{A}}\n",
    "\\newcommand{\\setB}{\\textsf{B}}\n",
    "\\newcommand{\\setC}{\\textsf{C}}\n",
    "\\newcommand{\\setD}{\\textsf{D}}\n",
    "\\newcommand{\\setE}{\\textsf{E}}\n",
    "\\newcommand{\\setF}{\\textsf{F}}\n",
    "\\newcommand{\\setG}{\\textsf{G}}\n",
    "\\newcommand{\\setH}{\\textsf{H}}\n",
    "\\newcommand{\\setI}{\\textsf{I}}\n",
    "\\newcommand{\\setJ}{\\textsf{J}}\n",
    "\\newcommand{\\setK}{\\textsf{K}}\n",
    "\\newcommand{\\setL}{\\textsf{L}}\n",
    "\\newcommand{\\setM}{\\textsf{M}}\n",
    "\\newcommand{\\setN}{\\textsf{N}}\n",
    "\\newcommand{\\setO}{\\textsf{O}}\n",
    "\\newcommand{\\setP}{\\textsf{P}}\n",
    "\\newcommand{\\setQ}{\\textsf{Q}}\n",
    "\\newcommand{\\setR}{\\textsf{R}}\n",
    "\\newcommand{\\setS}{\\textsf{S}}\n",
    "\\newcommand{\\setT}{\\textsf{T}}\n",
    "\\newcommand{\\setU}{\\textsf{U}}\n",
    "\\newcommand{\\setV}{\\textsf{V}}\n",
    "\\newcommand{\\setW}{\\textsf{W}}\n",
    "\\newcommand{\\setX}{\\textsf{X}}\n",
    "\\newcommand{\\setY}{\\textsf{Y}}\n",
    "\\newcommand{\\setZ}{\\textsf{Z}}\n",
    "\\newcommand{\\bfa}{\\mathbf{a}}\n",
    "\\newcommand{\\bfb}{\\mathbf{b}}\n",
    "\\newcommand{\\bfc}{\\mathbf{c}}\n",
    "\\newcommand{\\bfd}{\\mathbf{d}}\n",
    "\\newcommand{\\bfe}{\\mathbf{e}}\n",
    "\\newcommand{\\bff}{\\mathbf{f}}\n",
    "\\newcommand{\\bfg}{\\mathbf{g}}\n",
    "\\newcommand{\\bfh}{\\mathbf{h}}\n",
    "\\newcommand{\\bfi}{\\mathbf{i}}\n",
    "\\newcommand{\\bfj}{\\mathbf{j}}\n",
    "\\newcommand{\\bfk}{\\mathbf{k}}\n",
    "\\newcommand{\\bfl}{\\mathbf{l}}\n",
    "\\newcommand{\\bfm}{\\mathbf{m}}\n",
    "\\newcommand{\\bfn}{\\mathbf{n}}\n",
    "\\newcommand{\\bfo}{\\mathbf{o}}\n",
    "\\newcommand{\\bfp}{\\mathbf{p}}\n",
    "\\newcommand{\\bfq}{\\mathbf{q}}\n",
    "\\newcommand{\\bfr}{\\mathbf{r}}\n",
    "\\newcommand{\\bfs}{\\mathbf{s}}\n",
    "\\newcommand{\\bft}{\\mathbf{t}}\n",
    "\\newcommand{\\bfu}{\\mathbf{u}}\n",
    "\\newcommand{\\bfv}{\\mathbf{v}}\n",
    "\\newcommand{\\bfw}{\\mathbf{w}}\n",
    "\\newcommand{\\bfx}{\\mathbf{x}}\n",
    "\\newcommand{\\bfy}{\\mathbf{y}}\n",
    "\\newcommand{\\bfz}{\\mathbf{z}}\n",
    "\\newcommand{\\bfalpha}{\\boldsymbol{\\alpha}}\n",
    "\\newcommand{\\bfbeta}{\\boldsymbol{\\beta}}\n",
    "\\newcommand{\\bfgamma}{\\boldsymbol{\\gamma}}\n",
    "\\newcommand{\\bfdelta}{\\boldsymbol{\\delta}}\n",
    "\\newcommand{\\bfepsilon}{\\boldsymbol{\\epsilon}}\n",
    "\\newcommand{\\bfzeta}{\\boldsymbol{\\zeta}}\n",
    "\\newcommand{\\bfeta}{\\boldsymbol{\\eta}}\n",
    "\\newcommand{\\bftheta}{\\boldsymbol{\\theta}}\n",
    "\\newcommand{\\bfiota}{\\boldsymbol{\\iota}}\n",
    "\\newcommand{\\bfkappa}{\\boldsymbol{\\kappa}}\n",
    "\\newcommand{\\bflambda}{\\boldsymbol{\\lambda}}\n",
    "\\newcommand{\\bfmu}{\\boldsymbol{\\mu}}\n",
    "\\newcommand{\\bfnu}{\\boldsymbol{\\nu}}\n",
    "\\newcommand{\\bfomicron}{\\boldsymbol{\\omicron}}\n",
    "\\newcommand{\\bfpi}{\\boldsymbol{\\pi}}\n",
    "\\newcommand{\\bfrho}{\\boldsymbol{\\rho}}\n",
    "\\newcommand{\\bfsigma}{\\boldsymbol{\\sigma}}\n",
    "\\newcommand{\\bftau}{\\boldsymbol{\\tau}}\n",
    "\\newcommand{\\bfupsilon}{\\boldsymbol{\\upsilon}}\n",
    "\\newcommand{\\bfphi}{\\boldsymbol{\\phi}}\n",
    "\\newcommand{\\bfchi}{\\boldsymbol{\\chi}}\n",
    "\\newcommand{\\bfpsi}{\\boldsymbol{\\psi}}\n",
    "\\newcommand{\\bfomega}{\\boldsymbol{\\omega}}\n",
    "\\newcommand{\\bfxi}{\\boldsymbol{\\xi}}\n",
    "\\newcommand{\\bfell}{\\boldsymbol{\\ell}}\n",
    "\\newcommand{\\bfA}{\\mathbf{A}}\n",
    "\\newcommand{\\bfB}{\\mathbf{B}}\n",
    "\\newcommand{\\bfC}{\\mathbf{C}}\n",
    "\\newcommand{\\bfD}{\\mathbf{D}}\n",
    "\\newcommand{\\bfE}{\\mathbf{E}}\n",
    "\\newcommand{\\bfF}{\\mathbf{F}}\n",
    "\\newcommand{\\bfG}{\\mathbf{G}}\n",
    "\\newcommand{\\bfH}{\\mathbf{H}}\n",
    "\\newcommand{\\bfI}{\\mathbf{I}}\n",
    "\\newcommand{\\bfJ}{\\mathbf{J}}\n",
    "\\newcommand{\\bfK}{\\mathbf{K}}\n",
    "\\newcommand{\\bfL}{\\mathbf{L}}\n",
    "\\newcommand{\\bfM}{\\mathbf{M}}\n",
    "\\newcommand{\\bfN}{\\mathbf{N}}\n",
    "\\newcommand{\\bfO}{\\mathbf{O}}\n",
    "\\newcommand{\\bfP}{\\mathbf{P}}\n",
    "\\newcommand{\\bfQ}{\\mathbf{Q}}\n",
    "\\newcommand{\\bfR}{\\mathbf{R}}\n",
    "\\newcommand{\\bfS}{\\mathbf{S}}\n",
    "\\newcommand{\\bfT}{\\mathbf{T}}\n",
    "\\newcommand{\\bfU}{\\mathbf{U}}\n",
    "\\newcommand{\\bfV}{\\mathbf{V}}\n",
    "\\newcommand{\\bfW}{\\mathbf{W}}\n",
    "\\newcommand{\\bfX}{\\mathbf{X}}\n",
    "\\newcommand{\\bfY}{\\mathbf{Y}}\n",
    "\\newcommand{\\bfZ}{\\mathbf{Z}}\n",
    "\\newcommand{\\bfGamma}{\\boldsymbol{\\Gamma}}\n",
    "\\newcommand{\\bfDelta}{\\boldsymbol{\\Delta}}\n",
    "\\newcommand{\\bfTheta}{\\boldsymbol{\\Theta}}\n",
    "\\newcommand{\\bfLambda}{\\boldsymbol{\\Lambda}}\n",
    "\\newcommand{\\bfPi}{\\boldsymbol{\\Pi}}\n",
    "\\newcommand{\\bfSigma}{\\boldsymbol{\\Sigma}}\n",
    "\\newcommand{\\bfUpsilon}{\\boldsymbol{\\Upsilon}}\n",
    "\\newcommand{\\bfPhi}{\\boldsymbol{\\Phi}}\n",
    "\\newcommand{\\bfPsi}{\\boldsymbol{\\Psi}}\n",
    "\\newcommand{\\bfOmega}{\\boldsymbol{\\Omega}}\n",
    "\\newcommand{\\bbA}{\\mathbb{A}}\n",
    "\\newcommand{\\bbB}{\\mathbb{B}}\n",
    "\\newcommand{\\bbC}{\\mathbb{C}}\n",
    "\\newcommand{\\bbD}{\\mathbb{D}}\n",
    "\\newcommand{\\bbE}{\\mathbb{E}}\n",
    "\\newcommand{\\bbF}{\\mathbb{F}}\n",
    "\\newcommand{\\bbG}{\\mathbb{G}}\n",
    "\\newcommand{\\bbH}{\\mathbb{H}}\n",
    "\\newcommand{\\bbI}{\\mathbb{I}}\n",
    "\\newcommand{\\bbJ}{\\mathbb{J}}\n",
    "\\newcommand{\\bbK}{\\mathbb{K}}\n",
    "\\newcommand{\\bbL}{\\mathbb{L}}\n",
    "\\newcommand{\\bbM}{\\mathbb{M}}\n",
    "\\newcommand{\\bbN}{\\mathbb{N}}\n",
    "\\newcommand{\\bbO}{\\mathbb{O}}\n",
    "\\newcommand{\\bbP}{\\mathbb{P}}\n",
    "\\newcommand{\\bbQ}{\\mathbb{Q}}\n",
    "\\newcommand{\\bbR}{\\mathbb{R}}\n",
    "\\newcommand{\\bbS}{\\mathbb{S}}\n",
    "\\newcommand{\\bbT}{\\mathbb{T}}\n",
    "\\newcommand{\\bbU}{\\mathbb{U}}\n",
    "\\newcommand{\\bbV}{\\mathbb{V}}\n",
    "\\newcommand{\\bbW}{\\mathbb{W}}\n",
    "\\newcommand{\\bbX}{\\mathbb{X}}\n",
    "\\newcommand{\\bbY}{\\mathbb{Y}}\n",
    "\\newcommand{\\bbZ}{\\mathbb{Z}}\n",
    "$$\n",
    "\n"
   ]
  },
  {
   "cell_type": "code",
   "execution_count": null,
   "id": "018410b0-993a-4fbc-b6f1-ee56288bcd8b",
   "metadata": {},
   "outputs": [],
   "source": [
    "import numpy as np\n",
    "def random_symmetric_matrix(n):\n",
    "    A = np.random.rand(n, n)\n",
    "    return A + A.T\n",
    "\n",
    "def random_positive_definite_matrix(n):\n",
    "    A = np.random.rand(n, n)\n",
    "    return A.T @ A"
   ]
  },
  {
   "cell_type": "code",
   "execution_count": null,
   "id": "f4650b6f-c399-440e-9cdf-b96ea2a895e6",
   "metadata": {},
   "outputs": [],
   "source": [
    "import matplotlib.pyplot as plt\n",
    "def plot_contour(ax, func):\n",
    "    x, y = np.mgrid[-2:2:21j,\n",
    "                    -2:2:21j]\n",
    "    bfx = np.concatenate([x[..., None], y[..., None]], axis=-1)\n",
    "    f = func(bfx)\n",
    "    ctr = ax.contour(x, y, f, 20, cmap='Blues_r')\n",
    "    plt.clabel(ctr, ctr.levels, inline=True, fontsize=6)\n",
    "    ax.set_xlabel('$x$')\n",
    "    ax.set_ylabel('$y$')\n",
    "    return ax\n",
    "\n",
    "\n",
    "def draw_arrows(ax, xs):\n",
    "    ax.arrow(0, 0, xs[0, 0], xs[0, 1], color='r', head_width=0.05)\n",
    "    ax.arrow(0, 0, xs[1, 0], xs[1, 1], color='y', head_width=0.05)\n",
    "    ax.axis('equal')\n",
    "    return ax"
   ]
  },
  {
   "cell_type": "code",
   "execution_count": null,
   "id": "482e6461-dbe0-42ee-921a-51d2b3939ab3",
   "metadata": {},
   "outputs": [],
   "source": [
    "def f(x, A=np.array([[2, -1], [-1, 3]])):\n",
    "    # x is m x m x n tensor\n",
    "    x_row_vec = x[..., None, :] # m x m x 1 x n\n",
    "    x_col_vec = x[..., :, None] # m x m x n x 1\n",
    "    res = x_row_vec @ A @ x_col_vec # m x m x 1 x 1\n",
    "    return res[..., 0, 0] # m x m\n",
    "\n",
    "fig, ax = plt.subplots()\n",
    "plot_contour(ax, f)\n",
    "ax"
   ]
  },
  {
   "cell_type": "markdown",
   "id": "23b9aa97-62b7-44a7-8b1e-3c837e1a10af",
   "metadata": {},
   "source": [
    "## Eigeven value decomposition\n"
   ]
  },
  {
   "cell_type": "markdown",
   "id": "2386a187-461f-4ee3-abc8-4fa4002bb860",
   "metadata": {},
   "source": [
    "$\\newcommand{\\bfv}{\\mathbf{v}}$\n",
    "Recall that eigen values $\\lambda \\in \\bbR$ and eigen vectors $\\bfv \\in \\bbR^n$ are the solutions to the equation,\n",
    "$$A \\bfv = \\lambda \\bfv$$\n",
    "\n",
    "There are $n$ such solutions let $\\lambda_i$ $\\bfv_i$ for $i \\in \\{ 1, \\dots, n\\}$   be such solutions.\n",
    "\\begin{align}\n",
    "A\\bfv_1 &= \\lambda_1 \\bfv_1 \\\\\n",
    "A\\bfv_2 &= \\lambda_2 \\bfv_2 \\\\\n",
    "\\vdots &\\\\\n",
    "A\\bfv_n &= \\lambda_n \\bfv_n\n",
    "\\end{align}"
   ]
  },
  {
   "cell_type": "markdown",
   "id": "d25f9f48-011d-4e28-acd9-5a8f2908901e",
   "metadata": {},
   "source": [
    "You can arrange these equations in a matrix\n",
    "$$ \n",
    "\\begin{bmatrix} A\\bfv_1 & A\\bfv_2 & \\dots & A\\bfv_n \\end{bmatrix}\n",
    "= \n",
    "\\begin{bmatrix} \\lambda_1\\bfv_1 & \\lambda_2\\bfv_2 & \\dots & \\lambda_n\\bfv_n \\end{bmatrix}\n",
    "$$\n",
    "\n",
    "You can take $A$ common from the left hand side. On the right hand side, you will have to construct a diagonal matrix of $\\lambda_i$ for factorizing eigen vectors and eigen values.\n",
    "\n",
    "$$\n",
    "A\n",
    "\\underbrace{\n",
    "\\begin{bmatrix} \\bfv_1 & \\bfv_2 & \\dots & \\bfv_n \\end{bmatrix}}_{V}\n",
    "= \n",
    "\\underbrace{\n",
    "\\begin{bmatrix} \\bfv_1 & \\bfv_2 & \\dots & \\bfv_n \\end{bmatrix}}_{V}\n",
    "\\underbrace{\n",
    "\\begin{bmatrix}\n",
    "\\lambda_1 & 0 & \\dots & 0\\\\\n",
    "0 & \\lambda_2  & \\dots & 0\\\\\n",
    "\\vdots & \\vdots & \\ddots & \\vdots \\\\\n",
    "0 & 0 & \\dots & \\lambda_n\n",
    "\\end{bmatrix}}_{\\Lambda}\n",
    "$$"
   ]
  },
  {
   "cell_type": "markdown",
   "id": "61b54420-2ab4-48cd-9f9b-9831caa810b2",
   "metadata": {},
   "source": [
    "---\n",
    "\n",
    "#### Homework 4: Problem 2 (10 marks)\n",
    "\n",
    "Prove that\n",
    "$$ \\begin{bmatrix} \\lambda_1\\bfv_1 & \\lambda_2\\bfv_2 & \\dots & \\lambda_n\\bfv_n \\end{bmatrix} =  \n",
    "\\begin{bmatrix} \\bfv_1 & \\bfv_2 & \\dots & \\bfv_n \\end{bmatrix}\n",
    "\\begin{bmatrix}\n",
    "\\lambda_1 & 0 & \\dots & 0\\\\\n",
    "0 & \\lambda_2  & \\dots & 0\\\\\n",
    "\\vdots & \\vdots & \\ddots & \\vdots \\\\\n",
    "0 & 0 & \\dots & \\lambda_n\n",
    "\\end{bmatrix}\n",
    "$$\n",
    "\n",
    "---"
   ]
  },
  {
   "cell_type": "markdown",
   "id": "0c59a19a-2d53-412a-80af-566850a3a1a6",
   "metadata": {},
   "source": [
    "Verify that the above matrix multiplication gives the same results.\n",
    "\n",
    "$$ A V =  V\\Lambda $$\n",
    "$V$ is a matrix of eigen vectors arranged as columns. And $\\Lambda$ is a diagonal matrix of eigen values.\n",
    "\n",
    "**If the matrix $V$ is invertible**, then we can right multiply $V^{-1}$ to both sides,\n",
    "$$ A = V \\Lambda V^{-1} $$\n",
    "\n",
    "We have found a way to factorize (or decompose) a square matrix $A$. This particular decomposition is called *Eigen value decomposition*. When such a decomposition exists, the matrix $A$ is called diagonalizable. A generalized form of such decomposition also exists, which is called generalized eigen value decomposition, where the middle matrix is a block diagonal matrix, not diagonal matrix. "
   ]
  },
  {
   "cell_type": "markdown",
   "id": "df1bb6f8-5bc0-4f20-8e3e-33973043ed5d",
   "metadata": {},
   "source": [
    "#### Theorem: Symmeteric matrices have orthonormal Eigen vectors\n",
    "\n",
    "When a square matrix $A \\in \\bbR^{n \\times n}$ is real and symmetric, then its Eigen value decomposition exists, $A$ is diagonalizable, and the eigen matrix $V$ is an orthogonal matrix. \n",
    "\n",
    "**If the matrix $A$ is symmetric,**\n",
    "$$ A = V\\Lambda V^\\top$$ where $V^{-1} = V^\\top$."
   ]
  },
  {
   "cell_type": "markdown",
   "id": "7f1158f2-08fe-44e7-bd17-71e842fb8034",
   "metadata": {},
   "source": [
    "##### Proof:\n",
    "\n",
    "Proof will take too much time out of the class. Interested readers are encouraged to read about [Gram-Schmidt orthogonalization](https://drive.google.com/file/d/1Agze6XXBs4Sw2JASpRYH4MoWk1NlKBM2/view?usp=drive_link), [Schur's lemma and Spectral theorem](https://drive.google.com/file/d/1osUzRGDTbScpUxYIhVPPK_v2uylwiD04/view?usp=drive_link)."
   ]
  },
  {
   "cell_type": "markdown",
   "id": "a0d5e50a-455b-4772-945e-b39f65a40fa2",
   "metadata": {},
   "source": [
    "#### Definition (Orthonormal)\n",
    "A matrix $V \\in \\bbR^{n \\times n}$ is called orthonormal or orthogonal if $V^\\top V = I_n$ equivalently, $V^{-1} = V^\\top$."
   ]
  },
  {
   "cell_type": "markdown",
   "id": "f2138875-4fd1-423e-9c5c-bfc4109247c4",
   "metadata": {},
   "source": [
    "### Example"
   ]
  },
  {
   "cell_type": "markdown",
   "id": "043896ed-55af-4fd9-82b6-5dce5244b63f",
   "metadata": {},
   "source": [
    "Consider the quadratic form of a symmetric matrix $A \\in \\bbR^{n \\times n}$,\n",
    "$$ f(\\bfx) = \\bfx^\\top A \\bfx $$\n",
    "\n",
    "Because the matrix **$A$ is symmetric**, we can write \n",
    "$$ f(\\bfx) = \\bfx^\\top V\\Lambda V^\\top \\bfx = (V\\bfx)^\\top \\Lambda (V\\bfx)$$ for eigen value decomposition of $A = V\\Lambda V^\\top $\n"
   ]
  },
  {
   "cell_type": "code",
   "execution_count": null,
   "id": "dad44d6d-e574-4da6-b403-13cb5a5d29a7",
   "metadata": {},
   "outputs": [],
   "source": [
    "A = np.array([[2, -1],\n",
    "             [-1, 3]])\n",
    "A"
   ]
  },
  {
   "cell_type": "markdown",
   "id": "3b0685fe-559e-4368-9b00-63c4f046fdf6",
   "metadata": {},
   "source": [
    "`np.linalg.eigh` finds Eigen values of a Hermitian matrix. "
   ]
  },
  {
   "cell_type": "code",
   "execution_count": null,
   "id": "8dc0f158-4653-411f-938e-30c61701122b",
   "metadata": {},
   "outputs": [],
   "source": [
    "lambdas, V = np.linalg.eigh(A)"
   ]
  },
  {
   "cell_type": "code",
   "execution_count": null,
   "id": "f3ac7df8-3ee4-4dc2-b815-688f92fd6d17",
   "metadata": {},
   "outputs": [],
   "source": [
    "V"
   ]
  },
  {
   "cell_type": "markdown",
   "id": "4fe40635-dc72-43f8-a495-af34d42eb6ac",
   "metadata": {},
   "source": [
    "#### Definition (Conjugate transpose)\n",
    "\n",
    "Conjugate transpose of a complex square matrix $A \\in \\bbC^{n \\times n}$ is defined as \n",
    "$$ A^H = Re(A)^\\top - \\iota Im(A)^\\top, $$\n",
    "where $Re(A)$ is the real part of the matrix $A$ and $Im(A)$ is the imaginary part of matrix $A = Re(A) + \\iota Im(A)$ and $\\iota = \\sqrt{-1}$. \n",
    "\n",
    "Conjugate transpose is the generalization of transpose to complex matrices."
   ]
  },
  {
   "cell_type": "markdown",
   "id": "e4b72fe5-3c7a-4abe-9276-8bd76e84cb9f",
   "metadata": {},
   "source": [
    "#### Definition (Hermitian matrix)\n",
    "\n",
    "A complex matrix $A \\in \\bbC^{n \\times n}$ is said to be Hermitian matrix if \n",
    "$$ A^H = A $$\n",
    "\n",
    "Hermitian matrix is a generalization of symmetric matrices to complex matrices."
   ]
  },
  {
   "cell_type": "markdown",
   "id": "55a251f6-03ae-4dc2-a5df-227d65429184",
   "metadata": {},
   "source": [
    "#### Theorem: Eigen values of an Hermitian matrices are real"
   ]
  },
  {
   "cell_type": "markdown",
   "id": "dffe7955-fafe-41be-beab-a96c2b52c422",
   "metadata": {},
   "source": [
    "For a complex vector $\\bfx \\in \\bbC^n$, the dot product\n",
    "$\\bfx^H \\bfx \\in \\bbR$ is real. \n",
    "\n",
    "$$\\bfx^H \\bfx = \\bar{x}_1 x_1 + \\bar{x}_2 x_2 + \\dots + \\bar{x}_n x_n, $$\n",
    "\n",
    "where $\\bar{x}_i$ denotes the complex conjugate of $x_i$. If $x_i = a_i + \\iota b_i $, then $\\bar{x}_i = a_i - \\iota b_i$. Note that $\\bar{x}_i x_i = a^2_i + b^2_i$ is real. Because each element is real, hence their sum $\\bfx^H \\bfx$ is real.\n",
    "\n",
    "Let $A\\in\\bbC^{n \\times n}$ be Hermitian then, its eigen vectors $\\bfv_i \\in \\bbC^n$ and eigen values $\\lambda \\in \\bbC$ satisify\n",
    "$$ A \\bfv_i = \\lambda_i \\bfv_i$$\n",
    "Multiply both sides on the left by $\\bfv_i^H$\n",
    "\n",
    "$$ \\bfv_i^H A \\bfv_i = \\lambda_i \\bfv^H \\bfv_i$$\n",
    "or\n",
    "$$ \\lambda_i = \\frac{\\bfv_i^H A \\bfv_i}{\\bfv^H \\bfv_i} $$\n",
    "Take complex conjugate on both sides,\n",
    "$$ \\bar{\\lambda}_i = \\frac{\\overline{\\bfv_i^H A \\bfv_i}}{\\overline{\\bfv_i^H \\bfv_i}}$$\n",
    "We know the denominator $\\bfv_i^H\\bfv_i$ is real. Numerator can be computed by taking the Hermitian transpose of the product,\n",
    "$$ \\bar{\\lambda}_i = \\frac{\\bfv_i^H A^H \\bfv_i}{\\bfv_i^H \\bfv_i}$$\n",
    "\n",
    "Because $A^H$ is Hermitian, $A^H = A$, which implies,\n",
    "$$ \\bar{\\lambda}_i = \\lambda_i.$$\n",
    "This implies that $\\lambda_i\\in \\bbR$ is real. \n",
    "\n",
    "When $\\lambda_i$ is real "
   ]
  },
  {
   "cell_type": "markdown",
   "id": "bed71e5e-4a10-4f73-8e84-f4a9667576a2",
   "metadata": {},
   "source": [
    "#### Theorem: Eigen vectors of a real symmetric matrices are real"
   ]
  },
  {
   "cell_type": "markdown",
   "id": "a8c4dc72-2120-45ba-8a33-86313e48e656",
   "metadata": {},
   "source": [
    "Because real symmetric matrices are also hermitian matrices, their eigen values are real. If their eigen values are real, then eigen vectors that are non-zero solutions to the equation\n",
    "$$ (A - \\lambda I_n) \\bfv = \\mathbf{0} $$ are also real."
   ]
  },
  {
   "cell_type": "markdown",
   "id": "cfc0cb05-bfa2-43fb-8c1f-c310b792cbc9",
   "metadata": {},
   "source": [
    "`np.linalg.eigh` finds Eigen values of a Hermitian matrix. "
   ]
  },
  {
   "cell_type": "code",
   "execution_count": null,
   "id": "f2c49bc1-31cc-448e-88b4-419104e2c965",
   "metadata": {},
   "outputs": [],
   "source": [
    "lambdas, V = np.linalg.eigh(A)"
   ]
  },
  {
   "cell_type": "code",
   "execution_count": null,
   "id": "7ccebde0-0a44-406e-aaef-99f06518f2ef",
   "metadata": {},
   "outputs": [],
   "source": [
    "lambdas"
   ]
  },
  {
   "cell_type": "code",
   "execution_count": null,
   "id": "5c997e02-786b-45d9-9d79-94a14655aca2",
   "metadata": {},
   "outputs": [],
   "source": [
    "V"
   ]
  },
  {
   "cell_type": "markdown",
   "id": "56160d13-3733-4359-a7f7-aaf52ae57bf7",
   "metadata": {},
   "source": [
    "You can verify that the eigen values and vectors are correct by checking if \n",
    "$$ A = V \\Lambda V^\\top $$"
   ]
  },
  {
   "cell_type": "code",
   "execution_count": null,
   "id": "89f284fd-7113-489a-819d-cb10ed51b4a0",
   "metadata": {},
   "outputs": [],
   "source": [
    "V @ np.diag(lambdas) @ V.T"
   ]
  },
  {
   "cell_type": "code",
   "execution_count": null,
   "id": "dbc6d331-3552-434f-a957-0f60df4dd26b",
   "metadata": {},
   "outputs": [],
   "source": [
    "np.allclose(A, V @ np.diag(lambdas) @ V.T)"
   ]
  },
  {
   "cell_type": "markdown",
   "id": "7b7b3b1d-814c-46f6-8502-790053464ce8",
   "metadata": {},
   "source": [
    "Recall that we were analyzing the function,\n",
    "\n",
    "$$ f(\\bfx) = \\bfx^\\top A \\bfx = \\bfx^\\top V \\Lambda V^\\top \\bfx = (V^\\top\\bfx)^\\top \\Lambda (V^\\top \\bfx)$$ \n",
    "\n",
    "With this we can break down the computation of function $f(\\bfx)$ in two steps, \n",
    "$$\\bfy = V^\\top \\bfx \\iff \\bfx = V \\bfy, $$ followed by scaling,\n",
    "\n",
    "$$ f(\\bfx) = \\bfy^\\top \\Lambda \\bfy $$\n",
    "\n",
    "If all eigen values are positive ($A$ is positive definite), we can break down eigen values into their square roots and then \n",
    "$$\\bfz = \\sqrt{\\Lambda} \\bfy \\iff \\bfy = \\sqrt{\\Lambda}^{-1}$$ can be understood as element wise scaling.\n",
    "\n",
    "$$ f(\\bfx) = \\bfz^\\top \\bfz $$\n",
    "\n",
    "Note that $\\bfz^\\top \\bfz = z_1^2 + z_2^2 + \\dots + z_n^2 = f_1$ is equation of a circle in terms of $\\bfz$ for a contour where $f(\\bfz) = f_1$. We can also start from a circle plot for $\\bfz$ ."
   ]
  },
  {
   "cell_type": "markdown",
   "id": "062c8ede-c1ee-4dff-a2ce-a434370f8ce5",
   "metadata": {},
   "source": [
    "and then compute and plot\n",
    "$$ \\bfy = \\sqrt{\\Lambda}^{-1}  \\bfz.$$"
   ]
  },
  {
   "cell_type": "markdown",
   "id": "12ddfbbb-7b45-4e81-a0ed-841d14ccaf77",
   "metadata": {},
   "source": [
    "Note that the principle axes of the circle are scaled by eigen values.\n",
    "\n",
    "Next we compute and plot $\\bfx$  from $\\bfy$\n",
    "$$ \\bfx = V\\bfy$$"
   ]
  },
  {
   "cell_type": "code",
   "execution_count": null,
   "id": "fd2f1e07-8ebf-48fc-9105-bfb2f62d63e3",
   "metadata": {},
   "outputs": [],
   "source": [
    "import matplotlib as mpl\n",
    "from functools import partial\n",
    "\n",
    "def f_wrt_y(lambdas, y):\n",
    "    # lambdas is of shape 2\n",
    "    # y is of shape m x m x n\n",
    "    return (y * lambdas * y).sum(axis=-1)\n",
    "\n",
    "def f_wrt_z(z):\n",
    "    # z is m x m x n\n",
    "    return (z * z).sum(axis=-1)\n",
    "\n",
    "zs = np.array([\n",
    "    [1, 0],\n",
    "    [0, 1]])"
   ]
  },
  {
   "cell_type": "code",
   "execution_count": null,
   "id": "d57f5950-ee3e-49b4-b459-f1b4e0265e2d",
   "metadata": {},
   "outputs": [],
   "source": [
    "fig, axes = plt.subplots(1, 3, figsize=(18, 6))\n",
    "\n",
    "ax = axes[0]\n",
    "plot_contour(ax, f_wrt_z)\n",
    "ax.set_title(r'$\\mathbf{z}$')\n",
    "ax.set_xlabel(r'$z_1$')\n",
    "ax.set_ylabel(r'$z_2$')\n",
    "draw_arrows(ax, zs)\n",
    "\n",
    "ax = axes[1]\n",
    "plot_contour(ax, partial(f_wrt_y, lambdas))\n",
    "ax.set_title(r'$\\mathbf{y} = \\sqrt{\\Lambda}^{-1} \\mathbf{z}$')\n",
    "ax.set_xlabel(r'$y_1$')\n",
    "ax.set_ylabel(r'$y_2$')\n",
    "ys =  zs / np.sqrt(lambdas)\n",
    "draw_arrows(ax, ys)\n",
    "\n",
    "ax = axes[2]\n",
    "plot_contour(ax, partial(f, A=A))\n",
    "ax.set_title(r'$\\mathbf{x} = V \\sqrt{\\Lambda}^{-1} \\mathbf{z}$')\n",
    "ax.set_xlabel(r'$x_1$')\n",
    "ax.set_ylabel(r'$x_2$')\n",
    "xs = (V @ ys.T).T\n",
    "draw_arrows(ax, xs)"
   ]
  },
  {
   "cell_type": "markdown",
   "id": "4396d813-f63b-48bd-9628-7276cfc04611",
   "metadata": {},
   "source": [
    "Note that countours of $f(\\bfx)$ are exactly alinged with the transformed circle from $\\bfz$ to $\\bfx$"
   ]
  },
  {
   "cell_type": "markdown",
   "id": "57a20c2e-f84a-49f1-9589-b7a95cf6fc28",
   "metadata": {},
   "source": [
    "#### Eigen values of saddle point (Indefinite  matrix)"
   ]
  },
  {
   "cell_type": "code",
   "execution_count": null,
   "id": "2b483d4e-8714-466f-8af1-f4dbfb4b2779",
   "metadata": {},
   "outputs": [],
   "source": [
    "A = np.array([[2, -1],\n",
    "             [-1, -3]])\n",
    "A"
   ]
  },
  {
   "cell_type": "code",
   "execution_count": null,
   "id": "efc8aac8-ab25-42b0-98f3-907a53bf7c62",
   "metadata": {},
   "outputs": [],
   "source": [
    "lambdas, V = np.linalg.eigh(A)\n",
    "lambdas"
   ]
  },
  {
   "cell_type": "markdown",
   "id": "214d3835-910d-4c49-b31a-44ba37cc7bfb",
   "metadata": {},
   "source": [
    "Note that the eigen values are neither all positive nor all negative. We cannot take the square root directly and we have\n",
    "to be respectful of the sign of the lambdas."
   ]
  },
  {
   "cell_type": "code",
   "execution_count": null,
   "id": "6b5a72f6-5d63-481a-8378-491680283719",
   "metadata": {},
   "outputs": [],
   "source": [
    "fig, axes = plt.subplots(1, 3, figsize=(18, 6))\n",
    "\n",
    "ax = axes[0]\n",
    "plot_contour(ax, f_wrt_z)\n",
    "ax.set_title(r'$\\mathbf{z}$')\n",
    "ax.set_xlabel(r'$z_1$')\n",
    "ax.set_ylabel(r'$z_2$')\n",
    "draw_arrows(ax, zs)\n",
    "\n",
    "ax = axes[1]\n",
    "plot_contour(ax, partial(f_wrt_y, lambdas))\n",
    "ax.set_title(r'$\\mathbf{y} = \\text{sign}(\\Lambda)\\sqrt{|\\Lambda|}^{-1} \\mathbf{z}$')\n",
    "ax.set_xlabel(r'$y_1$')\n",
    "ax.set_ylabel(r'$y_2$')\n",
    "ys =  zs / np.sign(lambdas) * np.sqrt(np.abs(lambdas))\n",
    "draw_arrows(ax, ys)\n",
    "\n",
    "ax = axes[2]\n",
    "plot_contour(ax, partial(f, A=A))\n",
    "ax.set_title(r'$\\mathbf{x} = V \\text{sign}(\\Lambda)\\sqrt{|\\Lambda|}^{-1} \\mathbf{z}$')\n",
    "ax.set_xlabel(r'$x_1$')\n",
    "ax.set_ylabel(r'$x_2$')\n",
    "xs = (V @ ys.T).T\n",
    "draw_arrows(ax, xs)"
   ]
  },
  {
   "cell_type": "code",
   "execution_count": null,
   "id": "3d12885a-e8f9-4d58-86de-5af9954dc1f8",
   "metadata": {},
   "outputs": [],
   "source": []
  }
 ],
 "metadata": {
  "kernelspec": {
   "display_name": "Python 3 (ipykernel)",
   "language": "python",
   "name": "python3"
  },
  "language_info": {
   "codemirror_mode": {
    "name": "ipython",
    "version": 3
   },
   "file_extension": ".py",
   "mimetype": "text/x-python",
   "name": "python",
   "nbconvert_exporter": "python",
   "pygments_lexer": "ipython3",
   "version": "3.10.12"
  }
 },
 "nbformat": 4,
 "nbformat_minor": 5
}

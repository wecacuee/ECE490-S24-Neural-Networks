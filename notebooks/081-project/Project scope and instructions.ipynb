{
 "cells": [
  {
   "cell_type": "markdown",
   "id": "126c05fa",
   "metadata": {},
   "source": [
    "### Project scope and instructions\n",
    "\n",
    "#### Project teams\n",
    "\n",
    "ECE490 students can do projects in groups of two or three. ECE590 students can do projects in groups of one or two. ECE490 and ECE590 students can pair up with each other as well, but not more than a group of two."
   ]
  },
  {
   "cell_type": "markdown",
   "id": "039fdb8c",
   "metadata": {},
   "source": [
    "#### Project scope\n",
    "\n",
    "Any project where training or fine-tuning of neural network on a dataset is involved, is a valid project for the class. Any neural network library, Pytorch or tensorflow or other is acceptable. I encourage PhD students propose their existing research projects with addition of neural networks to the project. Graduate students You are allowed to pick up your own projects. If you are looking for some ideas, here are some ideas:\n",
    "\n",
    "  a. Extend [microtorch](https://vikasdhiman.info/ECE490-Neural-Networks/notebooks/05-mlp/microtorch.py) to add features from Pytorch and use it to train a different neural network then one trained in the class.\n",
    "      Ideas: \n",
    "      \n",
    "  1. Train on a different dataset: \n",
    "          https://pytorch.org/vision/stable/datasets.html\n",
    "    \n",
    "  2. Implement a new function along with its Vector Jacobian project (VJP)\n",
    "      https://pytorch.org/docs/stable/nn.functional.html\n",
    "\n",
    "  3. Implement a new layer:\n",
    "       https://pytorch.org/docs/stable/nn.html\n",
    "\n",
    "  4. Implement a variation of optimization algorithm like SGD:\n",
    "        https://pytorch.org/docs/stable/optim.html\n",
    "\n",
    "  b. Reimplement a *paper* on your own from this list:\n",
    "      https://drive.google.com/drive/folders/1t-0Pmz13wp0MlkEG2NQJ7h_-i6tB0rcs\n",
    "      If you reimplement a paper whose open source impelemntation is available, you will declare how you will or will not use the existing implementation.\n",
    "\n",
    "  d. Combine two or more paper ideas from the above list.\n",
    "  \n",
    "  d. Implement microtorch on a FPGA using one of the open source libraries. \n",
    "  \n",
    "  e. Very ambitious: Design autogradient neural network library using analog circuits."
   ]
  },
  {
   "cell_type": "markdown",
   "id": "1e1a0ba2",
   "metadata": {},
   "source": [
    "#### ECE590 only: Paper summary and presentation.\n",
    "\n",
    "Deadline: April 25, 2024 11:59PM\n",
    "\n",
    "Read, summarize and present a milestone paper from this list: https://drive.google.com/drive/folders/1t-0Pmz13wp0MlkEG2NQJ7h_-i6tB0rcs\n",
    "\n",
    "1. Pick a paper to summarize and present.\n",
    "2. Summarize the main technical ideas from the paper in a 1-page summary.\n",
    "3. Record a 15 min video summarizing the main technical ideas of the paper."
   ]
  },
  {
   "cell_type": "markdown",
   "id": "cf269e6d",
   "metadata": {},
   "source": [
    "#### Use of internet sources\n",
    "\n",
    "Use of open source repositories on the internet is allowed as long as you differentiate what you did from that repository. How did it help you with the project and not helped with the project?"
   ]
  },
  {
   "cell_type": "markdown",
   "id": "5dcb7f7a",
   "metadata": {},
   "source": [
    "#### Submissions\n",
    "\n",
    "For ECE490, there will be three submissions while ECE590 students will have to make four submissions."
   ]
  },
  {
   "cell_type": "markdown",
   "id": "1530a7f5",
   "metadata": {},
   "source": [
    "##### Project proposal and first report (40% of final project grade)\n",
    "\n",
    "Deadline: April 16, 2024 2PM before class.\n",
    "\n",
    "The project proposal will answer the following questions\n",
    "\n",
    "1. Who is in your team?\n",
    "\n",
    "1. What project problem have you chosen and why?\n",
    "\n",
    "2. Why is this problem important?\n",
    "\n",
    "3. Related work: What material (papers and open source code) exists on the internet related to this project. How do you plan to use (or not use) this material for your project.\n",
    "\n",
    "4. What are the datasets available for training and evaluation for this problem?\n",
    "\n",
    "5. What are the possible models that can be used for this problem?\n",
    "   \n",
    "      1. What is the number of layers you are going to try?\n",
    "      2. What are the type of layers you are going to try?\n",
    "      3. What are the number of hidden units for each layer you are going to try?\n",
    "      4. What are the variations of activation units are you going to try?\n",
    "      5. What are the variations of regularization methods are you going to try?\n",
    "\n",
    "7. What are the possible loss functions that can be used for this problem?\n",
    "\n",
    "8. How will you evaluate the success of a machine learning model on this problem?\n",
    "\n",
    "9. What is the simplest possible (maybe bad) solution to the problem?\n",
    "\n",
    "10. Project plan: What do you plan to accomplish by second report and final project report? How are planning to divide work between you and your teammate? What are your safe, moderate and ambitious goals for each of the report? What is the fall-back plan, in case you do not accomplish your safe or moderate goals.\n",
    "\n",
    "11. What measurable and quantifiable goals do you plan to accomplish by second and final project report. Examples of measurable and quantifiable goals, include implementing functions with test cases. Evaluating different models of neural networks on small datasets where the accuracy should approach near 100%, or one of the debugging steps like those mentioned here: http://karpathy.github.io/2019/04/25/recipe/\n",
    "\n",
    "12. Schedule a 15-minute slot with the instructor to answer questions about your code. <https://calendar.app.google/kk7iTwyNakJRPrx67>\n",
    "\n",
    "13. Submit your progress code (as a zip file, google drive link, or github repository) and videos, screenshots, testing procedure, showing that you have met those goals.\n",
    "\n",
    "14. Keep an individual time log of what you tried, how many hours did it take, what succeeeded and what failed. "
   ]
  },
  {
   "cell_type": "markdown",
   "id": "2719ff5c",
   "metadata": {},
   "source": [
    "##### Final project report (60% of the final project grade)\n",
    "\n",
    "Deadline: April 25, 2024 11:59PM\n",
    "\n",
    "1. Revise your project proposal and resubmit to describe what you did instead of what you plan to do. \n",
    "\n",
    "2. How many of your measurable and quantifiable goals have you met as described in your project proposal? \n",
    "\n",
    "3. Submit your code (as a zip file, google drive link, or github repository) and proofs (screenshots, testing procedure), showing that you have met those goals.\n",
    "\n",
    "4. Make a short 2-5 min video presentation of your project for someone who has not taken a neural networks course and describing what you have accomplished.\n",
    "\n",
    "5. The question-answer session about your code will heavily influence your final project grades."
   ]
  }
 ],
 "metadata": {
  "kernelspec": {
   "display_name": "Python 3 (ipykernel)",
   "language": "python",
   "name": "python3"
  },
  "language_info": {
   "codemirror_mode": {
    "name": "ipython",
    "version": 3
   },
   "file_extension": ".py",
   "mimetype": "text/x-python",
   "name": "python",
   "nbconvert_exporter": "python",
   "pygments_lexer": "ipython3",
   "version": "3.10.12"
  }
 },
 "nbformat": 4,
 "nbformat_minor": 5
}
